{
 "cells": [
  {
   "cell_type": "code",
   "execution_count": 1,
   "metadata": {},
   "outputs": [],
   "source": [
    "import numpy as np\n",
    "from sklearn.model_selection import train_test_split\n",
    "from sklearn.ensemble import GradientBoostingClassifier\n",
    "from sklearn.metrics import (confusion_matrix, accuracy_score, precision_score)"
   ]
  },
  {
   "cell_type": "code",
   "execution_count": 2,
   "metadata": {},
   "outputs": [],
   "source": [
    "x_skb = np.genfromtxt('SUSY.csv', delimiter=',', max_rows=200000, usecols=(1,4,7,9,11,12,15,16,18))\n",
    "x_rfe = np.genfromtxt('SUSY.csv', delimiter=',', max_rows=200000, usecols=(2,3,5,6,8,9,10,11,14,16))\n",
    "x_ext = np.genfromtxt('SUSY.csv', delimiter=',', max_rows=200000, usecols=(2,7,9,10,11,12,14,15,16,17,18))\n",
    "y = np.genfromtxt('SUSY.csv', delimiter=',', max_rows=200000, usecols=(0))"
   ]
  },
  {
   "cell_type": "code",
   "execution_count": 3,
   "metadata": {},
   "outputs": [],
   "source": [
    "def teste_selecao(x):\n",
    "    x_treino, x_teste, y_treino, y_teste = train_test_split(x, y, test_size=0.25, random_state=42)\n",
    "\n",
    "    gbc = GradientBoostingClassifier(n_estimators=900, min_samples_split=700, random_state=42)\n",
    "    gbc.fit(x_treino, y_treino)\n",
    "    y_pred = gbc.predict(x_teste)\n",
    "    print(accuracy_score(y_teste, y_pred))\n",
    "    print(precision_score(y_teste, y_pred))"
   ]
  },
  {
   "cell_type": "code",
   "execution_count": 4,
   "metadata": {},
   "outputs": [
    {
     "name": "stdout",
     "output_type": "stream",
     "text": [
      "0.7897\n",
      "0.8161351810828912\n"
     ]
    }
   ],
   "source": [
    "teste_selecao(x_skb)"
   ]
  },
  {
   "cell_type": "code",
   "execution_count": 5,
   "metadata": {},
   "outputs": [
    {
     "name": "stdout",
     "output_type": "stream",
     "text": [
      "0.78544\n",
      "0.8076216712580349\n"
     ]
    }
   ],
   "source": [
    "teste_selecao(x_rfe)"
   ]
  },
  {
   "cell_type": "code",
   "execution_count": 6,
   "metadata": {},
   "outputs": [
    {
     "name": "stdout",
     "output_type": "stream",
     "text": [
      "0.79372\n",
      "0.823060188542422\n"
     ]
    }
   ],
   "source": [
    "teste_selecao(x_ext)"
   ]
  },
  {
   "cell_type": "code",
   "execution_count": null,
   "metadata": {},
   "outputs": [],
   "source": []
  }
 ],
 "metadata": {
  "kernelspec": {
   "display_name": "Python 3",
   "language": "python",
   "name": "python3"
  },
  "language_info": {
   "codemirror_mode": {
    "name": "ipython",
    "version": 3
   },
   "file_extension": ".py",
   "mimetype": "text/x-python",
   "name": "python",
   "nbconvert_exporter": "python",
   "pygments_lexer": "ipython3",
   "version": "3.6.4"
  }
 },
 "nbformat": 4,
 "nbformat_minor": 2
}
