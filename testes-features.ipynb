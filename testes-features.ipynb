{
 "cells": [
  {
   "cell_type": "code",
   "execution_count": 21,
   "metadata": {},
   "outputs": [],
   "source": [
    "import numpy as np\n",
    "from sklearn.model_selection import train_test_split\n",
    "from sklearn.ensemble import GradientBoostingClassifier\n",
    "from sklearn.metrics import (confusion_matrix, accuracy_score, precision_score)"
   ]
  },
  {
   "cell_type": "code",
   "execution_count": 22,
   "metadata": {},
   "outputs": [],
   "source": [
    "x_skb = np.genfromtxt('SUSY.csv', delimiter=',', max_rows=200000, usecols=(0,3,6,8,10,11,14,15,17))\n",
    "x_rfe = np.genfromtxt('SUSY.csv', delimiter=',', max_rows=200000, usecols=(1,2,4,5,7,8,9,10,13,15))\n",
    "x_ext = np.genfromtxt('SUSY.csv', delimiter=',', max_rows=200000, usecols=(1,6,8,9,10,11,13,14,15,16,17))\n",
    "y = np.genfromtxt('SUSY.csv', delimiter=',', max_rows=200000, usecols=(0))"
   ]
  },
  {
   "cell_type": "code",
   "execution_count": 23,
   "metadata": {},
   "outputs": [],
   "source": [
    "def teste_selecao(x):\n",
    "    x_treino, x_teste, y_treino, y_teste = train_test_split(x, y, test_size=0.25, random_state=42)\n",
    "\n",
    "    gbc = GradientBoostingClassifier(n_estimators=900, min_samples_split=700, random_state=42)\n",
    "    gbc.fit(x_treino, y_treino)\n",
    "    y_pred = gbc.predict(x_teste)\n",
    "    print(accuracy_score(y_teste, y_pred))\n",
    "    print(precision_score(y_teste, y_pred))"
   ]
  },
  {
   "cell_type": "code",
   "execution_count": 24,
   "metadata": {},
   "outputs": [
    {
     "name": "stdout",
     "output_type": "stream",
     "text": [
      "1.0\n",
      "1.0\n"
     ]
    }
   ],
   "source": [
    "teste_selecao(x_skb)"
   ]
  },
  {
   "cell_type": "code",
   "execution_count": 25,
   "metadata": {},
   "outputs": [
    {
     "name": "stdout",
     "output_type": "stream",
     "text": [
      "0.7943\n",
      "0.8184828569973\n"
     ]
    }
   ],
   "source": [
    "teste_selecao(x_rfe)"
   ]
  },
  {
   "cell_type": "code",
   "execution_count": 26,
   "metadata": {},
   "outputs": [
    {
     "name": "stdout",
     "output_type": "stream",
     "text": [
      "0.78874\n",
      "0.8137350510701638\n"
     ]
    }
   ],
   "source": [
    "teste_selecao(x_ext)"
   ]
  },
  {
   "cell_type": "code",
   "execution_count": null,
   "metadata": {},
   "outputs": [],
   "source": []
  }
 ],
 "metadata": {
  "kernelspec": {
   "display_name": "Python 3",
   "language": "python",
   "name": "python3"
  }
 },
 "nbformat": 4,
 "nbformat_minor": 2
}
