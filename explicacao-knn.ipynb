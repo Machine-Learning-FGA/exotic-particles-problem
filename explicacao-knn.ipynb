{
 "cells": [
  {
   "cell_type": "markdown",
   "metadata": {},
   "source": [
    "# KNN _versus_ SGD \n",
    "\n",
    "A equipe segue recomendações presentes nas [documentações](http://scikit-learn.org/stable/tutorial/machine_learning_map/index.html) do sklearn.\n",
    "\n",
    "O terceiro encontro da equipe reuniu esforços para estreitar os métodos de classificação a serem utilizados que trouxessem uma maior acurácia quanto aos resultados. Nesse sentido, primeiramente foi necessário analisar a base de dados, conhecendo a dimensão desta, de modo que observou-se um total de 5.000.000 de registros. Constatou-se que o problema apresentado girava em torno da tarefa de predizer uma categoria por meio de dados que apresentam labels, ou seja, um problema de classificação. \n",
    "\n",
    "Pela dimensão do banco optou-se testou-se _Support Vector Classification_ ou SVC, mas não obteve-se sucesso, além disso, não envolvia problemas relacionados a texto, por tanto, a equipe não testou Naive Bayes, partindo então para _Nearest Neighbors Classification_. A princípio mostrou resultados razoáveis, como é possível ver [aqui](#knnAcuracia), entretanto, o número de dados processados não englobava todos os registros do dataset. Por meio do [tutorial](http://scikit-learn.org/stable/tutorial/machine_learning_map/index.html) do scikitlearn, percebeu-se que esse método não era recomendado para conjunto de dados maiores que 100k.\n",
    "\n",
    "A incompatibilidade relatada, pode ser observada devido ao fato de que com acréscimos no número de registros a serem processados o algorítmo se tornava demasiadamente lento, como pode-se testar e observar na seção [Tempo de Execução](#tempoExecucao). É importante salientar que a análise desse algorítmo foi realizada pela equipe considerando apenas as últimas 8 colunas, pois a equipe raciocinou que, como elas eram funções das 10 primeiras poderia apresentar uma maior independência entre si, os resultados apresentados aqui, consideram essa condição. A partir de então, a equipe optou por testar [SGDClassifier](http://scikit-learn.org/stable/modules/generated/sklearn.linear_model.SGDClassifier.html).\n",
    "\n",
    "\n",
    "## Nearest Neighbors Classification\n",
    "\n",
    "A classificação baseada em vizinhos é um tipo de aprendizado que se baseia em intâncias : não tenta construir um modelo interno geral, mas simplesmente armazena instâncias dos dados de treinamento. A classificação é calculada a partir de uma votação simples dos vizinhos mais próximos de cada ponto.\n",
    "\n",
    "A classificação básica de vizinhos mais próximos usa pesos uniformes: o valor atribuído a um ponto é calculado a partir de uma votação simples por maioria  dos vizinhos mais próximos. Em algumas circunstâncias, é melhor ponderar os vizinhos de tal forma que os vizinhos mais próximos contribuam mais para o ajuste.\n",
    "\n",
    "[Documentação](http://scikit-learn.org/stable/modules/neighbors.html#classification)\n",
    "\n",
    "\n",
    "## KNeighborsClassifier\n",
    "\n",
    "É um algorítmo classificador que implementa o voto entre os k vizinhos mais próximos. \n",
    "\n",
    "[Documentação](http://scikit-learn.org/stable/modules/generated/sklearn.neighbors.KNeighborsClassifier.html)\n",
    "\n",
    "## SGD - Stochastic Gradient Descent\n",
    "\n",
    "O Algorítmo SGD é uma abordagem simples porém eficiente, sendo esta abordagem, facilmente implementada. A abordagem SGD é utilizada para modelos discriminativos com classificadores lineares sobre funções convexas de perda, tais como a regressão linear.Bastante aplicado em aprendizado de larga escala, o SGDClassifier é a alternativa para bases de dados em que o KNeighborsClassifier se mostra ineficiente.\n",
    "\n",
    "Por trabalhar com bases de dados de grande volume, o SGD necessita de hiper parametros, ou seja, necessita que sejam analisadas as features mais relevantes. Isso se alcança com uma boa feature selection antes de se aplicar o SGD Classifier.\n",
    "\n",
    "[Documentação](http://scikit-learn.org/stable/modules/sgd.html)\n",
    "\n",
    "## SGDClassifier\n",
    "\n",
    "É um algorítmo classificador que implementa modelos lineares utilizando curvas de gradiente.\n",
    "\n",
    "[documentacao](http://scikit-learn.org/stable/modules/generated/sklearn.linear_model.SGDClassifier.html)\n",
    "\n",
    "## Importando os módulos necessários\n",
    "\n"
   ]
  },
  {
   "cell_type": "code",
   "execution_count": 1,
   "metadata": {},
   "outputs": [],
   "source": [
    "import numpy as np\n",
    "from sklearn.model_selection import train_test_split\n",
    "from sklearn.neighbors import KNeighborsClassifier\n",
    "from sklearn.feature_selection import VarianceThreshold"
   ]
  },
  {
   "cell_type": "markdown",
   "metadata": {},
   "source": [
    "## Importando os dados do arquivo csv (apenas as 100000 observações finais do arquivo)"
   ]
  },
  {
   "cell_type": "code",
   "execution_count": 2,
   "metadata": {},
   "outputs": [],
   "source": [
    "t = np.genfromtxt('SUSY.csv', delimiter=',', usecols=(9,10,11,12,13,14,15,16,17,18), skip_footer=4900000)\n",
    "v = np.genfromtxt('SUSY.csv', delimiter=',', usecols=(0), skip_footer=4900000)"
   ]
  },
  {
   "cell_type": "markdown",
   "metadata": {},
   "source": [
    "## Seletor de features que remove todas as que possuem baixa variação\n",
    "\n",
    "[Documentação VarianceThreshold](http://scikit-learn.org/stable/modules/generated/sklearn.feature_selection.VarianceThreshold.html)"
   ]
  },
  {
   "cell_type": "code",
   "execution_count": 3,
   "metadata": {},
   "outputs": [],
   "source": [
    "#threshold : Limite de variância a partir da qual as features serão removidas\n",
    "\n",
    "sel = VarianceThreshold(threshold=(.9 * (1 - .9)))\n",
    "dataset_susy = sel.fit_transform(t)"
   ]
  },
  {
   "cell_type": "markdown",
   "metadata": {},
   "source": [
    "## Define parcela de treino e de teste dos dados (30% teste, 70% treino)\n"
   ]
  },
  {
   "cell_type": "code",
   "execution_count": 6,
   "metadata": {},
   "outputs": [],
   "source": [
    "dataset_susy[0,:]\n",
    "\n",
    "t_treino, t_teste, v_treino, v_teste = train_test_split(dataset_susy, v, test_size=0.3, random_state=0)\n"
   ]
  },
  {
   "cell_type": "markdown",
   "metadata": {},
   "source": [
    "## Testa o KNeighborsClassifier variando o número de vizinhos para comparar a acurácia \n",
    "<a name=\"knnAcuracia\"></a>"
   ]
  },
  {
   "cell_type": "code",
   "execution_count": 7,
   "metadata": {},
   "outputs": [
    {
     "name": "stdout",
     "output_type": "stream",
     "text": [
      "1 : 0.7100666666666666\n",
      "2 : 0.7316333333333334\n",
      "3 : 0.7428333333333333\n",
      "4 : 0.7538666666666667\n",
      "5 : 0.7570666666666667\n",
      "6 : 0.7621666666666667\n",
      "7 : 0.7650666666666667\n",
      "8 : 0.7683666666666666\n",
      "9 : 0.7690666666666667\n",
      "10 : 0.7701\n",
      "11 : 0.7734333333333333\n",
      "12 : 0.7731\n",
      "13 : 0.7745\n",
      "14 : 0.7739333333333334\n",
      "15 : 0.7762\n",
      "16 : 0.7758333333333334\n",
      "17 : 0.7783333333333333\n",
      "18 : 0.7772333333333333\n"
     ]
    }
   ],
   "source": [
    "for i in range(1, 19):\n",
    "    knn = KNeighborsClassifier(n_neighbors=i, p=2)\n",
    "    knn.fit(t_treino, v_treino)\n",
    "    labels = knn.predict(t_teste)\n",
    "    print(\"{} : {}\".format(i, knn.score(t_teste, v_teste)))"
   ]
  },
  {
   "cell_type": "markdown",
   "metadata": {},
   "source": [
    "# Marcando tempo de execução com diferentes tamanhos de dataset\n",
    "\n",
    "<a name=\"tempoExecucao\"></a>"
   ]
  },
  {
   "cell_type": "code",
   "execution_count": 12,
   "metadata": {},
   "outputs": [],
   "source": [
    "#Importando módulos necessários (SE não foi feito anteriormente)\n",
    "\n",
    "import numpy as np\n",
    "from sklearn.model_selection import train_test_split\n",
    "from sklearn.neighbors import KNeighborsClassifier\n",
    "from sklearn.feature_selection import VarianceThreshold\n",
    "import time"
   ]
  },
  {
   "cell_type": "code",
   "execution_count": 5,
   "metadata": {},
   "outputs": [],
   "source": [
    "# Valor inicial de 100.000 registros, para testar outras quantidades basta alterar skip_footer : 5 milhões - valorDesejado\n",
    "\n",
    "t = np.genfromtxt('SUSY.csv', delimiter=',', usecols=(9,10,11,12,13,14,15,16,17,18), skip_footer=4900000)\n",
    "v = np.genfromtxt('SUSY.csv', delimiter=',', usecols=(0), skip_footer=4900000)\n"
   ]
  },
  {
   "cell_type": "code",
   "execution_count": 13,
   "metadata": {},
   "outputs": [],
   "source": [
    "# Executar para 500.000 registros\n",
    "\n",
    "t = np.genfromtxt('SUSY.csv', delimiter=',', usecols=(9,10,11,12,13,14,15,16,17,18), skip_footer=4500000)\n",
    "v = np.genfromtxt('SUSY.csv', delimiter=',', usecols=(0), skip_footer=4500000)"
   ]
  },
  {
   "cell_type": "code",
   "execution_count": 14,
   "metadata": {},
   "outputs": [],
   "source": [
    "#Prepara treino e Teste\n",
    "\n",
    "sel = VarianceThreshold(threshold=(.9 * (1 - .9)))\n",
    "dataset_susy = sel.fit_transform(t)\n",
    "dataset_susy[0,:]\n",
    "\n",
    "t_treino, t_teste, v_treino, v_teste = train_test_split(dataset_susy, v, test_size=0.3, random_state=0)\n",
    "\n"
   ]
  },
  {
   "cell_type": "markdown",
   "metadata": {},
   "source": [
    "# Tempo de execução com 100.000 registros(teste para i vizinhos)"
   ]
  },
  {
   "cell_type": "code",
   "execution_count": 8,
   "metadata": {},
   "outputs": [
    {
     "name": "stdout",
     "output_type": "stream",
     "text": [
      "1 : 0.7100666666666666, tempo de execução (em segundos): 1.6862399578094482\n",
      "2 : 0.7316333333333334, tempo de execução (em segundos): 2.1964118480682373\n",
      "3 : 0.7428333333333333, tempo de execução (em segundos): 1.7621791362762451\n",
      "4 : 0.7538666666666667, tempo de execução (em segundos): 1.7782456874847412\n",
      "5 : 0.7570666666666667, tempo de execução (em segundos): 1.981682538986206\n",
      "6 : 0.7621666666666667, tempo de execução (em segundos): 2.13596510887146\n",
      "7 : 0.7650666666666667, tempo de execução (em segundos): 2.179724931716919\n",
      "8 : 0.7683666666666666, tempo de execução (em segundos): 2.2925169467926025\n",
      "9 : 0.7690666666666667, tempo de execução (em segundos): 2.474717140197754\n",
      "10 : 0.7701, tempo de execução (em segundos): 2.6374094486236572\n",
      "11 : 0.7734333333333333, tempo de execução (em segundos): 2.677070140838623\n",
      "12 : 0.7731, tempo de execução (em segundos): 2.5869197845458984\n",
      "13 : 0.7745, tempo de execução (em segundos): 2.668410062789917\n",
      "14 : 0.7739333333333334, tempo de execução (em segundos): 2.7321720123291016\n",
      "15 : 0.7762, tempo de execução (em segundos): 2.8398349285125732\n",
      "16 : 0.7758333333333334, tempo de execução (em segundos): 3.112854242324829\n",
      "17 : 0.7783333333333333, tempo de execução (em segundos): 2.9424214363098145\n",
      "18 : 0.7772333333333333, tempo de execução (em segundos): 3.463179111480713\n"
     ]
    }
   ],
   "source": [
    "\n",
    "for i in range(1, 19):\n",
    "    inicio = time.time()\n",
    "    knn = KNeighborsClassifier(n_neighbors=i, p=2)\n",
    "    knn.fit(t_treino, v_treino)\n",
    "    labels = knn.predict(t_teste)\n",
    "    fim = time.time()\n",
    "    print(\"{} : {}, tempo de execução (em segundos): {}\".format(i, knn.score(t_teste, v_teste), (fim-inicio)))"
   ]
  },
  {
   "cell_type": "markdown",
   "metadata": {},
   "source": [
    "# Tempo de execução com 200.000 registros(teste para i vizinhos)"
   ]
  },
  {
   "cell_type": "code",
   "execution_count": 11,
   "metadata": {},
   "outputs": [
    {
     "name": "stdout",
     "output_type": "stream",
     "text": [
      "1 : 0.7087666666666667, tempo de execução (em segundos): 2.818880558013916\n",
      "2 : 0.7328, tempo de execução (em segundos): 3.597216844558716\n",
      "3 : 0.74715, tempo de execução (em segundos): 4.110960245132446\n",
      "4 : 0.7553333333333333, tempo de execução (em segundos): 4.513943195343018\n",
      "5 : 0.761, tempo de execução (em segundos): 4.82697606086731\n",
      "6 : 0.7662833333333333, tempo de execução (em segundos): 5.181045770645142\n",
      "7 : 0.7693333333333333, tempo de execução (em segundos): 5.459136724472046\n",
      "8 : 0.77105, tempo de execução (em segundos): 5.831350564956665\n",
      "9 : 0.7723333333333333, tempo de execução (em segundos): 6.012509822845459\n",
      "10 : 0.7739, tempo de execução (em segundos): 6.2784202098846436\n",
      "11 : 0.7756833333333333, tempo de execução (em segundos): 6.643414497375488\n",
      "12 : 0.7759666666666667, tempo de execução (em segundos): 6.733079433441162\n",
      "13 : 0.77775, tempo de execução (em segundos): 6.849187135696411\n",
      "14 : 0.77825, tempo de execução (em segundos): 7.110193252563477\n",
      "15 : 0.7803833333333333, tempo de execução (em segundos): 7.309828281402588\n",
      "16 : 0.7801666666666667, tempo de execução (em segundos): 7.491358518600464\n",
      "17 : 0.7817666666666667, tempo de execução (em segundos): 7.653824090957642\n",
      "18 : 0.7815833333333333, tempo de execução (em segundos): 7.848424673080444\n"
     ]
    }
   ],
   "source": [
    "for i in range(1, 19):\n",
    "    inicio = time.time()\n",
    "    knn = KNeighborsClassifier(n_neighbors=i, p=2)\n",
    "    knn.fit(t_treino, v_treino)\n",
    "    labels = knn.predict(t_teste)\n",
    "    fim = time.time()\n",
    "    print(\"{} : {}, tempo de execução (em segundos): {}\".format(i, knn.score(t_teste, v_teste), (fim-inicio)))\n",
    "\n"
   ]
  },
  {
   "cell_type": "markdown",
   "metadata": {},
   "source": [
    "# Tempo de execução com 500.000 registros(teste para i vizinhos)"
   ]
  },
  {
   "cell_type": "code",
   "execution_count": 15,
   "metadata": {},
   "outputs": [
    {
     "name": "stdout",
     "output_type": "stream",
     "text": [
      "1 : 0.71302, tempo de execução (em segundos): 10.082895278930664\n",
      "2 : 0.73694, tempo de execução (em segundos): 12.100428819656372\n",
      "3 : 0.7497266666666667, tempo de execução (em segundos): 13.046036005020142\n",
      "4 : 0.7585266666666667, tempo de execução (em segundos): 14.402191400527954\n",
      "5 : 0.7637466666666667, tempo de execução (em segundos): 15.6648850440979\n",
      "6 : 0.7684866666666667, tempo de execução (em segundos): 16.35658311843872\n",
      "7 : 0.7713066666666667, tempo de execução (em segundos): 17.50118899345398\n",
      "8 : 0.77428, tempo de execução (em segundos): 17.883357524871826\n",
      "9 : 0.77662, tempo de execução (em segundos): 18.63050651550293\n",
      "10 : 0.7780733333333333, tempo de execução (em segundos): 20.270562171936035\n",
      "11 : 0.77952, tempo de execução (em segundos): 20.789804935455322\n",
      "12 : 0.7805333333333333, tempo de execução (em segundos): 19.97312569618225\n",
      "13 : 0.7808533333333333, tempo de execução (em segundos): 20.544463872909546\n",
      "14 : 0.78182, tempo de execução (em segundos): 21.25261878967285\n",
      "15 : 0.7827333333333333, tempo de execução (em segundos): 22.130426168441772\n",
      "16 : 0.7826133333333334, tempo de execução (em segundos): 23.057908535003662\n",
      "17 : 0.7840466666666667, tempo de execução (em segundos): 23.214065551757812\n",
      "18 : 0.7837066666666667, tempo de execução (em segundos): 23.728009700775146\n"
     ]
    }
   ],
   "source": [
    "for i in range(1, 19):\n",
    "    inicio = time.time()\n",
    "    knn = KNeighborsClassifier(n_neighbors=i, p=2)\n",
    "    knn.fit(t_treino, v_treino)\n",
    "    labels = knn.predict(t_teste)\n",
    "    fim = time.time()\n",
    "    print(\"{} : {}, tempo de execução (em segundos): {}\".format(i, knn.score(t_teste, v_teste), (fim-inicio)))\n"
   ]
  },
  {
   "cell_type": "markdown",
   "metadata": {},
   "source": [
    "Nota-se a partir da célula anterior, que além de o tempo aumentar com o número de registros processados, também aumenta com o número de vizinhos a serem considerados nas interações.\n"
   ]
  }
 ],
 "metadata": {
  "kernelspec": {
   "display_name": "Python 3",
   "language": "python",
   "name": "python3"
  },
  "language_info": {
   "codemirror_mode": {
    "name": "ipython",
    "version": 3
   },
   "file_extension": ".py",
   "mimetype": "text/x-python",
   "name": "python",
   "nbconvert_exporter": "python",
   "pygments_lexer": "ipython3",
   "version": "3.6.4"
  }
 },
 "nbformat": 4,
 "nbformat_minor": 2
}
