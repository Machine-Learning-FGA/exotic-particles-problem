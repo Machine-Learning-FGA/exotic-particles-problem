{
 "cells": [
  {
   "cell_type": "markdown",
   "metadata": {},
   "source": [
    "# Introdução\n",
    "\n",
    "O campo da física de altas energias busca compreender as quatro principais forças que regem as interações entre partículas. As informações necessárias para este estudo são coletadas a partir do estudo de uma classificação específica de partículas, que são produzidas em condições extremas.\n",
    "\n",
    "A única forma conhecida de se gerar e analisar tais partículas é por meio de colisões realizadas em aceleradores de partículas, porém nem toda colisão gera dados relevantes. Na realidade, o Grande Colisor de Hadrons (LHC) gera em média três partículas de interesse (denominadas partículas exóticas) a cada $10^9$ colisões. As colisões restantes geram partículas denominadas background, e não são utilizadas.\n",
    "\n",
    "Dada a quantidade de colisões realizada por hora, e a complexidade de se analisar os dados obtidos, há um grande interesse em desenvolver uma forma automatizada de se diferenciar partículas exóticas das background. Para realizar esta diferenciação, são utilizados 18 dados. Destes, 8 são dados cinéticos coletados por detectores dentro do próprio acelerador de partículas, enquanto os 10 restantes são calculados em função dos anteriores.\n",
    "\n",
    "O dataset analizado, denominado SUSY, apresenta um total de cinco milhões de instâncias de partículas teóricas. Cada uma possui 18 variáveis numéricas representando os dados utilizados para a diferenciação entre partículas exóticas e background, e uma variável booleana que representa a **qual destas classificações** a partícula em questão se encaixa. Os dados do dataset SUSY foram gerados a partir de simulações Monte Carlo, ou seja, não são produto de colisões reais."
   ]
  },
  {
   "cell_type": "markdown",
   "metadata": {},
   "source": [
    "# Objetivos\n",
    "\n",
    "## Geral\n",
    "\n",
    "O objetivo central deste trabalho é selecionar e aplicar um modelo de aprendizado de máquina capaz de determinar a classificação de uma nova partícula (i.e. exótica, ou background). \n",
    "\n",
    "## Especificos\n",
    "\n",
    "A partir da análise e compreensão do problema, seu contexto e do dataset fornecido, é possível definir os seguintes objetivos específicos: \n",
    "\n",
    "* Definir métricas a serem utilizadas para a análise dos resultados;\n",
    "* Definir qual é o resultado ideal almejado e; \n",
    "* Selecionar um modelo de classificação que considere as características do dataset SUSY.\n",
    "\n",
    "\n",
    "### Métricas\n",
    "O dataset SUSY apresenta um problema de classificação binária, logo, ao analisar os valores obtidos a partir do modelo utilizado com relação aos valores reais observados no dataset, surgem quatro resultados possíveis:\n",
    "* **Verdadeiro Positivo (VP):** quando o modelo define corretamente uma partícula como exótica;\n",
    "* **Falso Positivo (FP):** quando o modelo define erroneamente uma partícula como exótica;\n",
    "* **Verdadeiro Negativo (VN):** quando o modelo define corretamente uma partícula como background;\n",
    "* **Falso Negativo (FN):** quando o modelo define erroneamente uma partícula como background.  \n",
    "  \n",
    "As métricas utilizadas para avaliar o modelo utilizado são derivadas da proporção entre estes resultados. As métricas possíveis são apresentadas a seguir:  \n",
    "  \n",
    "* **Acurácia**  \n",
    "    A métrica de Acurácia representa a proporção de predições corretas com relação ao total de observações. Esta é a métrica de avaliação mais simples entre as apresentadas. Seu uso principal é em datasets nos quais falsos positivos e falsos negativos possuem o mesmo impacto no resultado final. Seu cálculo está representado a seguir:\n",
    "    $$Acurácia = \\frac{VP + VN}{VP + FP + VN + FN}$$\n",
    "    <br><br>\n",
    "\n",
    "* **Precisão**  \n",
    "    A métrica de Precisão representa a porcentagem de verdadeiros positivos obtidos com relação ao total de positivos obtidos (VP e FP). Seu uso principal é em datasets nos quais a presença de falsos positivos é mais impactante para o resultado do que a presença de falsos negativos (quanto maior a precisão, mais baixa é a proporção de falsos positivos). Seu cálculo está representado a seguir:\n",
    "    $$Precisão = \\frac{VP}{VP + FP}$$\n",
    "    <br><br>\n",
    "\n",
    "* **Recall**  \n",
    "    A métrica de Recall representa a porcentagem de verdadeiros positivos obtidos com relação ao total de positivos realmente observados. Seu uso principal é em datasets nos quais a presença de falsos negativos é mais impactante para o resultado do que a presença de falsos positivos (quanto maior a precisão, mais baixa é a proporção de falsos negativos). Seu cálculo está representado a seguir:\n",
    "    $$Precisão = \\frac{VP}{VP + FN}$$\n",
    "    <br><br>\n",
    "\n",
    "* $F_1$  \n",
    "    A métrica $F_1$ é obtida a partir de uma análise da correlação entre a Precisão (P) e o Recall (R). Seu uso principal é em datasets nos quais um equilíbrio entre a Precisão e o Recall é almejado. Seu cálculo está representado a seguir:  \n",
    "    $$F_1 = \\frac{2 (R P)}{R + P}$$\n",
    "    <br><br>\n",
    "  \n",
    "### Resultado Esperado  \n",
    "As partículas exóticas são utilizadas para a realização de cálculos no campo de física de altas energias, que busca compreender as quatro forças fundamentais da física. Caso uma partícula background contamine a amostra utilizada, os valores obtidos podem ser incorretos ou até inválidos. Ou seja, falsos positivos possuem grande impacto no contexto do dataset. Por este motivo, um dos objetivos deste trabalho é apresentar um modelo que obtenha um alto valor de Precisão (acima de 0.75).  "
   ]
  },
  {
   "cell_type": "markdown",
   "metadata": {},
   "source": [
    "# Informações do Dataset"
   ]
  },
  {
   "cell_type": "markdown",
   "metadata": {},
   "source": [
    "Importando bibliotecas para manipulação do Dataset:"
   ]
  },
  {
   "cell_type": "code",
   "execution_count": 1,
   "metadata": {
    "collapsed": true
   },
   "outputs": [],
   "source": [
    "%matplotlib inline\n",
    "import numpy as np\n",
    "import pandas as pd\n",
    "import matplotlib.pyplot as plt\n",
    "import seaborn as sns"
   ]
  },
  {
   "cell_type": "markdown",
   "metadata": {},
   "source": [
    "Importando Dataset, e separando entre variáveis dependentes e independentes:"
   ]
  },
  {
   "cell_type": "markdown",
   "metadata": {},
   "source": [
    "Como o dataset é muito extenso, será utilizada a técnica do **memmap** que são usados para acessar pequenos segmentos de arquivos grandes no disco, sem carregar todo o arquivo na memória. [(NUMPY_MEMMAP)](https://docs.scipy.org/doc/numpy/reference/generated/numpy.memmap.html)"
   ]
  },
  {
   "cell_type": "code",
   "execution_count": 2,
   "metadata": {
    "collapsed": true
   },
   "outputs": [],
   "source": [
    "a = np.memmap('data_x.mymemmap', dtype='float32', mode='w+', shape=(4999999,18))\n",
    "a[:] = pd.read_csv('SUSY.csv').iloc[:,1:19].values\n",
    "del a\n",
    "data_x = np.memmap('data_x.mymemmap', dtype='float32', mode='r+', shape=(4999999,18))\n",
    "\n",
    "b = np.memmap('data_y.mymemmap', dtype='float32', mode='w+', shape=(4999999))\n",
    "b[:] = pd.read_csv('SUSY.csv').iloc[:,0].values\n",
    "del b\n",
    "data_y = np.memmap('data_y.mymemmap', dtype='float32', mode='r+', shape=(4999999))"
   ]
  },
  {
   "cell_type": "markdown",
   "metadata": {},
   "source": [
    "Agora, separando as variáveis entre dataset de treino e dataset de teste, utilizando o train_test_split [train_test_split](http://scikit-learn.org/stable/modules/generated/sklearn.model_selection.train_test_split.html) do scikitlearn"
   ]
  },
  {
   "cell_type": "code",
   "execution_count": 3,
   "metadata": {},
   "outputs": [
    {
     "name": "stderr",
     "output_type": "stream",
     "text": [
      "C:\\ProgramData\\Anaconda3\\lib\\site-packages\\sklearn\\cross_validation.py:41: DeprecationWarning: This module was deprecated in version 0.18 in favor of the model_selection module into which all the refactored classes and functions are moved. Also note that the interface of the new CV iterators are different from that of this module. This module will be removed in 0.20.\n",
      "  \"This module will be removed in 0.20.\", DeprecationWarning)\n"
     ]
    }
   ],
   "source": [
    "from sklearn.cross_validation import train_test_split\n",
    "X_train, X_test, y_train, y_test = train_test_split(data_x,data_y, test_size = 0.25, random_state=0)"
   ]
  },
  {
   "cell_type": "markdown",
   "metadata": {},
   "source": [
    "Analisando o Dataset agora. Para tal, temos que importá-lo na memória. Após análise básica, podemos deletar."
   ]
  },
  {
   "cell_type": "code",
   "execution_count": 4,
   "metadata": {
    "collapsed": true
   },
   "outputs": [],
   "source": [
    "dataset = pd.read_csv('SUSY.csv')"
   ]
  },
  {
   "cell_type": "code",
   "execution_count": 5,
   "metadata": {},
   "outputs": [
    {
     "data": {
      "text/html": [
       "<div>\n",
       "<style scoped>\n",
       "    .dataframe tbody tr th:only-of-type {\n",
       "        vertical-align: middle;\n",
       "    }\n",
       "\n",
       "    .dataframe tbody tr th {\n",
       "        vertical-align: top;\n",
       "    }\n",
       "\n",
       "    .dataframe thead th {\n",
       "        text-align: right;\n",
       "    }\n",
       "</style>\n",
       "<table border=\"1\" class=\"dataframe\">\n",
       "  <thead>\n",
       "    <tr style=\"text-align: right;\">\n",
       "      <th></th>\n",
       "      <th>0.000000000000000000e+00</th>\n",
       "      <th>9.728614687919616699e-01</th>\n",
       "      <th>6.538545489311218262e-01</th>\n",
       "      <th>1.176224589347839355e+00</th>\n",
       "      <th>1.157156467437744141e+00</th>\n",
       "      <th>-1.739873170852661133e+00</th>\n",
       "      <th>-8.743090629577636719e-01</th>\n",
       "      <th>5.677649974822998047e-01</th>\n",
       "      <th>-1.750000417232513428e-01</th>\n",
       "      <th>8.100607395172119141e-01</th>\n",
       "      <th>-2.525521218776702881e-01</th>\n",
       "      <th>1.921887040138244629e+00</th>\n",
       "      <th>8.896374106407165527e-01</th>\n",
       "      <th>4.107718467712402344e-01</th>\n",
       "      <th>1.145620822906494141e+00</th>\n",
       "      <th>1.932632088661193848e+00</th>\n",
       "      <th>9.944640994071960449e-01</th>\n",
       "      <th>1.367815494537353516e+00</th>\n",
       "      <th>4.071449860930442810e-02</th>\n",
       "    </tr>\n",
       "  </thead>\n",
       "  <tbody>\n",
       "    <tr>\n",
       "      <th>0</th>\n",
       "      <td>1.0</td>\n",
       "      <td>1.667973</td>\n",
       "      <td>0.064191</td>\n",
       "      <td>-1.225171</td>\n",
       "      <td>0.506102</td>\n",
       "      <td>-0.338939</td>\n",
       "      <td>1.672543</td>\n",
       "      <td>3.475464</td>\n",
       "      <td>-1.219136</td>\n",
       "      <td>0.012955</td>\n",
       "      <td>3.775174</td>\n",
       "      <td>1.045977</td>\n",
       "      <td>0.568051</td>\n",
       "      <td>0.481928</td>\n",
       "      <td>0.000000</td>\n",
       "      <td>0.448410</td>\n",
       "      <td>0.205356</td>\n",
       "      <td>1.321893</td>\n",
       "      <td>0.377584</td>\n",
       "    </tr>\n",
       "    <tr>\n",
       "      <th>1</th>\n",
       "      <td>1.0</td>\n",
       "      <td>0.444840</td>\n",
       "      <td>-0.134298</td>\n",
       "      <td>-0.709972</td>\n",
       "      <td>0.451719</td>\n",
       "      <td>-1.613871</td>\n",
       "      <td>-0.768661</td>\n",
       "      <td>1.219918</td>\n",
       "      <td>0.504026</td>\n",
       "      <td>1.831248</td>\n",
       "      <td>-0.431385</td>\n",
       "      <td>0.526283</td>\n",
       "      <td>0.941514</td>\n",
       "      <td>1.587535</td>\n",
       "      <td>2.024308</td>\n",
       "      <td>0.603498</td>\n",
       "      <td>1.562374</td>\n",
       "      <td>1.135454</td>\n",
       "      <td>0.180910</td>\n",
       "    </tr>\n",
       "    <tr>\n",
       "      <th>2</th>\n",
       "      <td>1.0</td>\n",
       "      <td>0.381256</td>\n",
       "      <td>-0.976145</td>\n",
       "      <td>0.693152</td>\n",
       "      <td>0.448959</td>\n",
       "      <td>0.891753</td>\n",
       "      <td>-0.677328</td>\n",
       "      <td>2.033060</td>\n",
       "      <td>1.533041</td>\n",
       "      <td>3.046260</td>\n",
       "      <td>-1.005285</td>\n",
       "      <td>0.569386</td>\n",
       "      <td>1.015211</td>\n",
       "      <td>1.582217</td>\n",
       "      <td>1.551914</td>\n",
       "      <td>0.761215</td>\n",
       "      <td>1.715464</td>\n",
       "      <td>1.492257</td>\n",
       "      <td>0.090719</td>\n",
       "    </tr>\n",
       "    <tr>\n",
       "      <th>3</th>\n",
       "      <td>1.0</td>\n",
       "      <td>1.309996</td>\n",
       "      <td>-0.690089</td>\n",
       "      <td>-0.676259</td>\n",
       "      <td>1.589283</td>\n",
       "      <td>-0.693326</td>\n",
       "      <td>0.622907</td>\n",
       "      <td>1.087562</td>\n",
       "      <td>-0.381742</td>\n",
       "      <td>0.589204</td>\n",
       "      <td>1.365479</td>\n",
       "      <td>1.179295</td>\n",
       "      <td>0.968218</td>\n",
       "      <td>0.728563</td>\n",
       "      <td>0.000000</td>\n",
       "      <td>1.083158</td>\n",
       "      <td>0.043429</td>\n",
       "      <td>1.154854</td>\n",
       "      <td>0.094859</td>\n",
       "    </tr>\n",
       "    <tr>\n",
       "      <th>4</th>\n",
       "      <td>0.0</td>\n",
       "      <td>0.456398</td>\n",
       "      <td>1.099371</td>\n",
       "      <td>1.512453</td>\n",
       "      <td>0.751772</td>\n",
       "      <td>0.638967</td>\n",
       "      <td>-0.742216</td>\n",
       "      <td>0.322601</td>\n",
       "      <td>1.321054</td>\n",
       "      <td>0.169502</td>\n",
       "      <td>0.359941</td>\n",
       "      <td>0.489256</td>\n",
       "      <td>0.416168</td>\n",
       "      <td>0.754829</td>\n",
       "      <td>0.303750</td>\n",
       "      <td>0.461067</td>\n",
       "      <td>0.345541</td>\n",
       "      <td>0.733242</td>\n",
       "      <td>0.186044</td>\n",
       "    </tr>\n",
       "  </tbody>\n",
       "</table>\n",
       "</div>"
      ],
      "text/plain": [
       "   0.000000000000000000e+00  9.728614687919616699e-01  \\\n",
       "0                       1.0                  1.667973   \n",
       "1                       1.0                  0.444840   \n",
       "2                       1.0                  0.381256   \n",
       "3                       1.0                  1.309996   \n",
       "4                       0.0                  0.456398   \n",
       "\n",
       "   6.538545489311218262e-01  1.176224589347839355e+00  \\\n",
       "0                  0.064191                 -1.225171   \n",
       "1                 -0.134298                 -0.709972   \n",
       "2                 -0.976145                  0.693152   \n",
       "3                 -0.690089                 -0.676259   \n",
       "4                  1.099371                  1.512453   \n",
       "\n",
       "   1.157156467437744141e+00  -1.739873170852661133e+00  \\\n",
       "0                  0.506102                  -0.338939   \n",
       "1                  0.451719                  -1.613871   \n",
       "2                  0.448959                   0.891753   \n",
       "3                  1.589283                  -0.693326   \n",
       "4                  0.751772                   0.638967   \n",
       "\n",
       "   -8.743090629577636719e-01  5.677649974822998047e-01  \\\n",
       "0                   1.672543                  3.475464   \n",
       "1                  -0.768661                  1.219918   \n",
       "2                  -0.677328                  2.033060   \n",
       "3                   0.622907                  1.087562   \n",
       "4                  -0.742216                  0.322601   \n",
       "\n",
       "   -1.750000417232513428e-01  8.100607395172119141e-01  \\\n",
       "0                  -1.219136                  0.012955   \n",
       "1                   0.504026                  1.831248   \n",
       "2                   1.533041                  3.046260   \n",
       "3                  -0.381742                  0.589204   \n",
       "4                   1.321054                  0.169502   \n",
       "\n",
       "   -2.525521218776702881e-01  1.921887040138244629e+00  \\\n",
       "0                   3.775174                  1.045977   \n",
       "1                  -0.431385                  0.526283   \n",
       "2                  -1.005285                  0.569386   \n",
       "3                   1.365479                  1.179295   \n",
       "4                   0.359941                  0.489256   \n",
       "\n",
       "   8.896374106407165527e-01  4.107718467712402344e-01  \\\n",
       "0                  0.568051                  0.481928   \n",
       "1                  0.941514                  1.587535   \n",
       "2                  1.015211                  1.582217   \n",
       "3                  0.968218                  0.728563   \n",
       "4                  0.416168                  0.754829   \n",
       "\n",
       "   1.145620822906494141e+00  1.932632088661193848e+00  \\\n",
       "0                  0.000000                  0.448410   \n",
       "1                  2.024308                  0.603498   \n",
       "2                  1.551914                  0.761215   \n",
       "3                  0.000000                  1.083158   \n",
       "4                  0.303750                  0.461067   \n",
       "\n",
       "   9.944640994071960449e-01  1.367815494537353516e+00  \\\n",
       "0                  0.205356                  1.321893   \n",
       "1                  1.562374                  1.135454   \n",
       "2                  1.715464                  1.492257   \n",
       "3                  0.043429                  1.154854   \n",
       "4                  0.345541                  0.733242   \n",
       "\n",
       "   4.071449860930442810e-02  \n",
       "0                  0.377584  \n",
       "1                  0.180910  \n",
       "2                  0.090719  \n",
       "3                  0.094859  \n",
       "4                  0.186044  "
      ]
     },
     "execution_count": 5,
     "metadata": {},
     "output_type": "execute_result"
    }
   ],
   "source": [
    "dataset.head()"
   ]
  },
  {
   "cell_type": "code",
   "execution_count": 6,
   "metadata": {},
   "outputs": [
    {
     "name": "stdout",
     "output_type": "stream",
     "text": [
      "<class 'pandas.core.frame.DataFrame'>\n",
      "RangeIndex: 4999999 entries, 0 to 4999998\n",
      "Data columns (total 19 columns):\n",
      "0.000000000000000000e+00     float64\n",
      "9.728614687919616699e-01     float64\n",
      "6.538545489311218262e-01     float64\n",
      "1.176224589347839355e+00     float64\n",
      "1.157156467437744141e+00     float64\n",
      "-1.739873170852661133e+00    float64\n",
      "-8.743090629577636719e-01    float64\n",
      "5.677649974822998047e-01     float64\n",
      "-1.750000417232513428e-01    float64\n",
      "8.100607395172119141e-01     float64\n",
      "-2.525521218776702881e-01    float64\n",
      "1.921887040138244629e+00     float64\n",
      "8.896374106407165527e-01     float64\n",
      "4.107718467712402344e-01     float64\n",
      "1.145620822906494141e+00     float64\n",
      "1.932632088661193848e+00     float64\n",
      "9.944640994071960449e-01     float64\n",
      "1.367815494537353516e+00     float64\n",
      "4.071449860930442810e-02     float64\n",
      "dtypes: float64(19)\n",
      "memory usage: 724.8 MB\n"
     ]
    }
   ],
   "source": [
    "dataset.info()"
   ]
  },
  {
   "cell_type": "code",
   "execution_count": 7,
   "metadata": {},
   "outputs": [
    {
     "data": {
      "text/html": [
       "<div>\n",
       "<style scoped>\n",
       "    .dataframe tbody tr th:only-of-type {\n",
       "        vertical-align: middle;\n",
       "    }\n",
       "\n",
       "    .dataframe tbody tr th {\n",
       "        vertical-align: top;\n",
       "    }\n",
       "\n",
       "    .dataframe thead th {\n",
       "        text-align: right;\n",
       "    }\n",
       "</style>\n",
       "<table border=\"1\" class=\"dataframe\">\n",
       "  <thead>\n",
       "    <tr style=\"text-align: right;\">\n",
       "      <th></th>\n",
       "      <th>0.000000000000000000e+00</th>\n",
       "      <th>9.728614687919616699e-01</th>\n",
       "      <th>6.538545489311218262e-01</th>\n",
       "      <th>1.176224589347839355e+00</th>\n",
       "      <th>1.157156467437744141e+00</th>\n",
       "      <th>-1.739873170852661133e+00</th>\n",
       "      <th>-8.743090629577636719e-01</th>\n",
       "      <th>5.677649974822998047e-01</th>\n",
       "      <th>-1.750000417232513428e-01</th>\n",
       "      <th>8.100607395172119141e-01</th>\n",
       "      <th>-2.525521218776702881e-01</th>\n",
       "      <th>1.921887040138244629e+00</th>\n",
       "      <th>8.896374106407165527e-01</th>\n",
       "      <th>4.107718467712402344e-01</th>\n",
       "      <th>1.145620822906494141e+00</th>\n",
       "      <th>1.932632088661193848e+00</th>\n",
       "      <th>9.944640994071960449e-01</th>\n",
       "      <th>1.367815494537353516e+00</th>\n",
       "      <th>4.071449860930442810e-02</th>\n",
       "    </tr>\n",
       "  </thead>\n",
       "  <tbody>\n",
       "    <tr>\n",
       "      <th>count</th>\n",
       "      <td>4.999999e+06</td>\n",
       "      <td>4.999999e+06</td>\n",
       "      <td>4.999999e+06</td>\n",
       "      <td>4.999999e+06</td>\n",
       "      <td>4.999999e+06</td>\n",
       "      <td>4.999999e+06</td>\n",
       "      <td>4.999999e+06</td>\n",
       "      <td>4.999999e+06</td>\n",
       "      <td>4.999999e+06</td>\n",
       "      <td>4.999999e+06</td>\n",
       "      <td>4.999999e+06</td>\n",
       "      <td>4.999999e+06</td>\n",
       "      <td>4.999999e+06</td>\n",
       "      <td>4.999999e+06</td>\n",
       "      <td>4.999999e+06</td>\n",
       "      <td>4.999999e+06</td>\n",
       "      <td>4.999999e+06</td>\n",
       "      <td>4.999999e+06</td>\n",
       "      <td>4.999999e+06</td>\n",
       "    </tr>\n",
       "    <tr>\n",
       "      <th>mean</th>\n",
       "      <td>4.575655e-01</td>\n",
       "      <td>1.000318e+00</td>\n",
       "      <td>2.179504e-05</td>\n",
       "      <td>-5.018183e-05</td>\n",
       "      <td>9.994304e-01</td>\n",
       "      <td>-3.678343e-05</td>\n",
       "      <td>-1.954757e-05</td>\n",
       "      <td>9.999745e-01</td>\n",
       "      <td>3.545853e-05</td>\n",
       "      <td>1.001437e+00</td>\n",
       "      <td>-4.873422e-05</td>\n",
       "      <td>1.000360e+00</td>\n",
       "      <td>9.999559e-01</td>\n",
       "      <td>9.999165e-01</td>\n",
       "      <td>1.000421e+00</td>\n",
       "      <td>1.000112e+00</td>\n",
       "      <td>1.000192e+00</td>\n",
       "      <td>9.994851e-01</td>\n",
       "      <td>2.249139e-01</td>\n",
       "    </tr>\n",
       "    <tr>\n",
       "      <th>std</th>\n",
       "      <td>4.981961e-01</td>\n",
       "      <td>6.873341e-01</td>\n",
       "      <td>1.003107e+00</td>\n",
       "      <td>1.001670e+00</td>\n",
       "      <td>6.542200e-01</td>\n",
       "      <td>1.002839e+00</td>\n",
       "      <td>1.001631e+00</td>\n",
       "      <td>8.728877e-01</td>\n",
       "      <td>1.001654e+00</td>\n",
       "      <td>8.901669e-01</td>\n",
       "      <td>1.001594e+00</td>\n",
       "      <td>6.288446e-01</td>\n",
       "      <td>5.841140e-01</td>\n",
       "      <td>4.708406e-01</td>\n",
       "      <td>8.592492e-01</td>\n",
       "      <td>6.207164e-01</td>\n",
       "      <td>6.237673e-01</td>\n",
       "      <td>4.360949e-01</td>\n",
       "      <td>1.969804e-01</td>\n",
       "    </tr>\n",
       "    <tr>\n",
       "      <th>min</th>\n",
       "      <td>0.000000e+00</td>\n",
       "      <td>2.548815e-01</td>\n",
       "      <td>-2.102927e+00</td>\n",
       "      <td>-1.734789e+00</td>\n",
       "      <td>4.285860e-01</td>\n",
       "      <td>-2.059306e+00</td>\n",
       "      <td>-1.734202e+00</td>\n",
       "      <td>2.598711e-04</td>\n",
       "      <td>-1.727117e+00</td>\n",
       "      <td>7.693475e-08</td>\n",
       "      <td>-1.671863e+01</td>\n",
       "      <td>2.673070e-01</td>\n",
       "      <td>1.041228e-03</td>\n",
       "      <td>2.048078e-03</td>\n",
       "      <td>0.000000e+00</td>\n",
       "      <td>2.734135e-02</td>\n",
       "      <td>4.452858e-03</td>\n",
       "      <td>3.211849e-07</td>\n",
       "      <td>4.172130e-08</td>\n",
       "    </tr>\n",
       "    <tr>\n",
       "      <th>25%</th>\n",
       "      <td>0.000000e+00</td>\n",
       "      <td>5.624837e-01</td>\n",
       "      <td>-7.573516e-01</td>\n",
       "      <td>-8.673567e-01</td>\n",
       "      <td>5.969881e-01</td>\n",
       "      <td>-7.695912e-01</td>\n",
       "      <td>-8.683741e-01</td>\n",
       "      <td>4.784546e-01</td>\n",
       "      <td>-8.661510e-01</td>\n",
       "      <td>3.691849e-01</td>\n",
       "      <td>-4.923983e-01</td>\n",
       "      <td>5.883285e-01</td>\n",
       "      <td>6.223411e-01</td>\n",
       "      <td>6.505438e-01</td>\n",
       "      <td>1.705213e-01</td>\n",
       "      <td>5.985209e-01</td>\n",
       "      <td>5.134394e-01</td>\n",
       "      <td>6.879128e-01</td>\n",
       "      <td>6.908195e-02</td>\n",
       "    </tr>\n",
       "    <tr>\n",
       "      <th>50%</th>\n",
       "      <td>0.000000e+00</td>\n",
       "      <td>7.915511e-01</td>\n",
       "      <td>1.339398e-04</td>\n",
       "      <td>-3.887097e-04</td>\n",
       "      <td>7.997993e-01</td>\n",
       "      <td>-3.792388e-04</td>\n",
       "      <td>2.009779e-04</td>\n",
       "      <td>7.738360e-01</td>\n",
       "      <td>-9.172366e-03</td>\n",
       "      <td>8.019273e-01</td>\n",
       "      <td>-8.037898e-02</td>\n",
       "      <td>8.286114e-01</td>\n",
       "      <td>8.781311e-01</td>\n",
       "      <td>9.344711e-01</td>\n",
       "      <td>9.018388e-01</td>\n",
       "      <td>8.355336e-01</td>\n",
       "      <td>9.142514e-01</td>\n",
       "      <td>1.094396e+00</td>\n",
       "      <td>1.672500e-01</td>\n",
       "    </tr>\n",
       "    <tr>\n",
       "      <th>75%</th>\n",
       "      <td>1.000000e+00</td>\n",
       "      <td>1.204413e+00</td>\n",
       "      <td>7.576488e-01</td>\n",
       "      <td>8.670981e-01</td>\n",
       "      <td>1.162353e+00</td>\n",
       "      <td>7.692302e-01</td>\n",
       "      <td>8.674778e-01</td>\n",
       "      <td>1.207444e+00</td>\n",
       "      <td>8.687620e-01</td>\n",
       "      <td>1.375392e+00</td>\n",
       "      <td>3.489010e-01</td>\n",
       "      <td>1.211083e+00</td>\n",
       "      <td>1.220313e+00</td>\n",
       "      <td>1.283522e+00</td>\n",
       "      <td>1.613231e+00</td>\n",
       "      <td>1.207994e+00</td>\n",
       "      <td>1.384583e+00</td>\n",
       "      <td>1.369183e+00</td>\n",
       "      <td>3.303655e-01</td>\n",
       "    </tr>\n",
       "    <tr>\n",
       "      <th>max</th>\n",
       "      <td>1.000000e+00</td>\n",
       "      <td>2.055345e+01</td>\n",
       "      <td>2.101605e+00</td>\n",
       "      <td>1.734839e+00</td>\n",
       "      <td>3.303562e+01</td>\n",
       "      <td>2.059721e+00</td>\n",
       "      <td>1.734686e+00</td>\n",
       "      <td>2.106888e+01</td>\n",
       "      <td>1.740689e+00</td>\n",
       "      <td>2.338644e+01</td>\n",
       "      <td>2.048790e+01</td>\n",
       "      <td>2.107572e+01</td>\n",
       "      <td>1.616682e+01</td>\n",
       "      <td>6.731210e+00</td>\n",
       "      <td>2.068624e+01</td>\n",
       "      <td>2.115226e+01</td>\n",
       "      <td>1.561370e+01</td>\n",
       "      <td>1.591660e+00</td>\n",
       "      <td>1.000000e+00</td>\n",
       "    </tr>\n",
       "  </tbody>\n",
       "</table>\n",
       "</div>"
      ],
      "text/plain": [
       "       0.000000000000000000e+00  9.728614687919616699e-01  \\\n",
       "count              4.999999e+06              4.999999e+06   \n",
       "mean               4.575655e-01              1.000318e+00   \n",
       "std                4.981961e-01              6.873341e-01   \n",
       "min                0.000000e+00              2.548815e-01   \n",
       "25%                0.000000e+00              5.624837e-01   \n",
       "50%                0.000000e+00              7.915511e-01   \n",
       "75%                1.000000e+00              1.204413e+00   \n",
       "max                1.000000e+00              2.055345e+01   \n",
       "\n",
       "       6.538545489311218262e-01  1.176224589347839355e+00  \\\n",
       "count              4.999999e+06              4.999999e+06   \n",
       "mean               2.179504e-05             -5.018183e-05   \n",
       "std                1.003107e+00              1.001670e+00   \n",
       "min               -2.102927e+00             -1.734789e+00   \n",
       "25%               -7.573516e-01             -8.673567e-01   \n",
       "50%                1.339398e-04             -3.887097e-04   \n",
       "75%                7.576488e-01              8.670981e-01   \n",
       "max                2.101605e+00              1.734839e+00   \n",
       "\n",
       "       1.157156467437744141e+00  -1.739873170852661133e+00  \\\n",
       "count              4.999999e+06               4.999999e+06   \n",
       "mean               9.994304e-01              -3.678343e-05   \n",
       "std                6.542200e-01               1.002839e+00   \n",
       "min                4.285860e-01              -2.059306e+00   \n",
       "25%                5.969881e-01              -7.695912e-01   \n",
       "50%                7.997993e-01              -3.792388e-04   \n",
       "75%                1.162353e+00               7.692302e-01   \n",
       "max                3.303562e+01               2.059721e+00   \n",
       "\n",
       "       -8.743090629577636719e-01  5.677649974822998047e-01  \\\n",
       "count               4.999999e+06              4.999999e+06   \n",
       "mean               -1.954757e-05              9.999745e-01   \n",
       "std                 1.001631e+00              8.728877e-01   \n",
       "min                -1.734202e+00              2.598711e-04   \n",
       "25%                -8.683741e-01              4.784546e-01   \n",
       "50%                 2.009779e-04              7.738360e-01   \n",
       "75%                 8.674778e-01              1.207444e+00   \n",
       "max                 1.734686e+00              2.106888e+01   \n",
       "\n",
       "       -1.750000417232513428e-01  8.100607395172119141e-01  \\\n",
       "count               4.999999e+06              4.999999e+06   \n",
       "mean                3.545853e-05              1.001437e+00   \n",
       "std                 1.001654e+00              8.901669e-01   \n",
       "min                -1.727117e+00              7.693475e-08   \n",
       "25%                -8.661510e-01              3.691849e-01   \n",
       "50%                -9.172366e-03              8.019273e-01   \n",
       "75%                 8.687620e-01              1.375392e+00   \n",
       "max                 1.740689e+00              2.338644e+01   \n",
       "\n",
       "       -2.525521218776702881e-01  1.921887040138244629e+00  \\\n",
       "count               4.999999e+06              4.999999e+06   \n",
       "mean               -4.873422e-05              1.000360e+00   \n",
       "std                 1.001594e+00              6.288446e-01   \n",
       "min                -1.671863e+01              2.673070e-01   \n",
       "25%                -4.923983e-01              5.883285e-01   \n",
       "50%                -8.037898e-02              8.286114e-01   \n",
       "75%                 3.489010e-01              1.211083e+00   \n",
       "max                 2.048790e+01              2.107572e+01   \n",
       "\n",
       "       8.896374106407165527e-01  4.107718467712402344e-01  \\\n",
       "count              4.999999e+06              4.999999e+06   \n",
       "mean               9.999559e-01              9.999165e-01   \n",
       "std                5.841140e-01              4.708406e-01   \n",
       "min                1.041228e-03              2.048078e-03   \n",
       "25%                6.223411e-01              6.505438e-01   \n",
       "50%                8.781311e-01              9.344711e-01   \n",
       "75%                1.220313e+00              1.283522e+00   \n",
       "max                1.616682e+01              6.731210e+00   \n",
       "\n",
       "       1.145620822906494141e+00  1.932632088661193848e+00  \\\n",
       "count              4.999999e+06              4.999999e+06   \n",
       "mean               1.000421e+00              1.000112e+00   \n",
       "std                8.592492e-01              6.207164e-01   \n",
       "min                0.000000e+00              2.734135e-02   \n",
       "25%                1.705213e-01              5.985209e-01   \n",
       "50%                9.018388e-01              8.355336e-01   \n",
       "75%                1.613231e+00              1.207994e+00   \n",
       "max                2.068624e+01              2.115226e+01   \n",
       "\n",
       "       9.944640994071960449e-01  1.367815494537353516e+00  \\\n",
       "count              4.999999e+06              4.999999e+06   \n",
       "mean               1.000192e+00              9.994851e-01   \n",
       "std                6.237673e-01              4.360949e-01   \n",
       "min                4.452858e-03              3.211849e-07   \n",
       "25%                5.134394e-01              6.879128e-01   \n",
       "50%                9.142514e-01              1.094396e+00   \n",
       "75%                1.384583e+00              1.369183e+00   \n",
       "max                1.561370e+01              1.591660e+00   \n",
       "\n",
       "       4.071449860930442810e-02  \n",
       "count              4.999999e+06  \n",
       "mean               2.249139e-01  \n",
       "std                1.969804e-01  \n",
       "min                4.172130e-08  \n",
       "25%                6.908195e-02  \n",
       "50%                1.672500e-01  \n",
       "75%                3.303655e-01  \n",
       "max                1.000000e+00  "
      ]
     },
     "execution_count": 7,
     "metadata": {},
     "output_type": "execute_result"
    }
   ],
   "source": [
    "dataset.describe()"
   ]
  },
  {
   "cell_type": "code",
   "execution_count": 8,
   "metadata": {},
   "outputs": [
    {
     "name": "stdout",
     "output_type": "stream",
     "text": [
      "1061873\n"
     ]
    }
   ],
   "source": [
    "# dataset['1.145620822906494141e+00']\n",
    "total = 0\n",
    "for x in range(len(dataset['1.145620822906494141e+00'])):\n",
    "    if dataset['1.145620822906494141e+00'][x] == 0:\n",
    "        total = total + 1\n",
    "print(total)"
   ]
  },
  {
   "cell_type": "code",
   "execution_count": 16,
   "metadata": {
    "collapsed": true
   },
   "outputs": [],
   "source": [
    "del dataset"
   ]
  },
  {
   "cell_type": "markdown",
   "metadata": {},
   "source": [
    "# Algoritmos de Classificação\n",
    "\n",
    "A equipe utilizou como guia inicial para a escolha do algorítmo de classificação a documentação fornecida pelo sklearn, pois compõe uma relação compacta das variáveis a serem consideradas a cerca dos dados e tipo de classificação do problema quanto ao mesmo ser de aprendizado não supervisionado ([documentacao](http://scikit-learn.org/stable/tutorial/machine_learning_map/index.html)). A imagem guia está disponível abaixo.\n",
    "\n",
    "![imgsklearn](https://preview.ibb.co/g4d0hS/sklearn.png)\n",
    "\n",
    "A premissa primeira engloba o fato de o problema ser de classificação, tal que os dados possuem labels bem definidas, binárias, que classificam uma partícula em exótica ou background. Tendo em vista o conjunto de 5.000.000 de dados na base de dados SUSY, foi preciso realizar a leitura de apenas uma parte dos mesmos, com o intuito principalmente de que os membros da equipe se tornassem familiarizados com o processo. Por esse motivo, foi utilizado inicialmente o KNN ou KNeighborsClassifier. \n",
    "\n",
    "A princípio mostrou resultados razoáveis, como é possível ver [aqui](#knnAcuracia), entretanto, o número de dados processados não englobava todos os registros do dataset e notou-se que esse método não era recomendado para conjunto de dados maiores que 100k. A incompatibilidade relatada, pode ser observada devido ao fato de que com acréscimos no número de registros a serem processados o algorítmo se tornava demasiadamente lento, como é possível observar na seção [Tempo de Execução](#tempoExecucao). É importante salientar que a análise desse algorítmo foi realizada pela equipe considerando apenas as últimas 8 colunas, pois a equipe raciocinou que, como elas eram funções das 10 primeiras poderia apresentar uma maior independência entre si, os resultados apresentados aqui, consideram essa condição. A partir de então, a equipe optou por testar [SGDClassifier], primeira opção para um conjunto de dados dessa dimensão, notando-se que o algorítmo não apresentou o resultado esperado o grupo optou por utilizar o Kernel Aproximate e o GBC.\n",
    "\n",
    "## Nearest Neighbors Classification\n",
    "\n",
    "A classificação baseada em vizinhos é um tipo de aprendizado que se baseia em intâncias : não tenta construir um modelo interno geral, mas simplesmente armazena instâncias dos dados de treinamento. A classificação é calculada a partir de uma votação simples dos vizinhos mais próximos de cada ponto.\n",
    "\n",
    "A classificação básica de vizinhos mais próximos usa pesos uniformes: o valor atribuído a um ponto é calculado a partir de uma votação simples por maioria  dos vizinhos mais próximos. Em algumas circunstâncias, é melhor ponderar os vizinhos de tal forma que os vizinhos mais próximos contribuam mais para o ajuste.\n",
    "\n",
    "[Documentação](http://scikit-learn.org/stable/modules/neighbors.html#classification)\n",
    "\n",
    "\n",
    "### KNeighborsClassifier\n",
    "\n",
    "É um algorítmo classificador que implementa o voto entre os k vizinhos mais próximos. \n",
    "\n",
    "[Documentação](http://scikit-learn.org/stable/modules/generated/sklearn.neighbors.KNeighborsClassifier.html)\n",
    "\n",
    "\n",
    "## SGD - Stochastic Gradient Descent\n",
    "\n",
    "O Algorítmo SGD é uma abordagem simples porém eficiente, sendo esta abordagem, facilmente implementada. A abordagem SGD é utilizada para modelos discriminativos com classificadores lineares sobre funções convexas de perda, tais como a regressão linear. Bastante aplicado em aprendizado de larga escala, o SGDClassifier é a alternativa para bases de dados em que o KNeighborsClassifier se mostra ineficiente.\n",
    "\n",
    "Por trabalhar com bases de dados de grande volume, o SGD necessita de hiper parametros, ou seja, necessita que sejam analisadas as features mais relevantes. Isso se alcança com uma boa feature selection antes de se aplicar o SGD Classifier.\n",
    "\n",
    "[Documentação](http://scikit-learn.org/stable/modules/sgd.html)\n",
    "\n",
    "\n",
    "### SGDClassifier\n",
    "\n",
    "É um algorítmo classificador que implementa modelos lineares utilizando curvas de gradiente.\n",
    "\n",
    "[documentacao](http://scikit-learn.org/stable/modules/generated/sklearn.linear_model.SGDClassifier.html)\n",
    "\n",
    "\n",
    "##  Gradient Tree Boosting\n",
    "\n",
    "O Gradient Boosting ou Gradient Boosted Regression Trees (GBRT) é uma generalização de estímulo/impulsionamento para funções de perda arbitrariamente diferenciáveis. O GBRT é um procedimento pronto e efetivo que pode ser usado tanto para problemas de regressão quanto de classificação. Modelos de Gradient Tree Boosting são usados ​​em uma variedade de áreas, incluindo ranking de busca na Web e ecologia.\n",
    "\n",
    "\n",
    "### GradientBoostingClassifier\n",
    "\n",
    "É usado em problemas de classificação e suporta classificação binária e multi-classe. \n",
    "\n",
    "O número de apredizes fracos ou árvores de regressão pode ser controlado pelo parâmetro n_estimators, além disso, o tamanho de cada árvore é definido pela profundidade da árvore via max_depth definindo o número de nós de folha via max_leaf_nodes. O learning_rate é um hiper-parâmetro no intervalo (0.0, 1.0) que controla o overfitting através do encolhimento .\n",
    "\n",
    "[GradientBoosting](http://scikit-learn.org/stable/modules/ensemble.html#gradient-boosting)\n"
   ]
  },
  {
   "cell_type": "markdown",
   "metadata": {},
   "source": [
    "# Análise das Features\n"
   ]
  },
  {
   "cell_type": "code",
   "execution_count": 2,
   "metadata": {
    "collapsed": true
   },
   "outputs": [],
   "source": [
    "susy = pd.read_csv('SUSY.csv', delimiter=',', usecols=(0,9,10,11,12,13,14,15,16,17,18), skiprows=3000000)"
   ]
  },
  {
   "cell_type": "code",
   "execution_count": 3,
   "metadata": {
    "collapsed": true
   },
   "outputs": [],
   "source": [
    "susy.columns = [\"V1\", \"V10\", \"V11\", \"V12\", \"V13\", \"V14\", \"V15\", \"V16\", \"V17\", \"V18\", \"V19\"]"
   ]
  },
  {
   "cell_type": "code",
   "execution_count": null,
   "metadata": {
    "collapsed": true
   },
   "outputs": [],
   "source": [
    "sns.pairplot(susy, hue='V1')"
   ]
  },
  {
   "cell_type": "markdown",
   "metadata": {},
   "source": [
    "Este é o gráfico geral das variáveis independentes que fornecem os recursos de alto nível. \n",
    "\n",
    "Como pode ser observado no gráfico quase não há correlação nenhuma entre os dados então dizemos que as features não possuem correlação.\n"
   ]
  },
  {
   "cell_type": "code",
   "execution_count": 4,
   "metadata": {},
   "outputs": [
    {
     "data": {
      "image/png": "[encoded data removed]",
      "text/plain": [
       "<matplotlib.figure.Figure at 0x7fcb27c249e8>"
      ]
     },
     "metadata": {},
     "output_type": "display_data"
    }
   ],
   "source": [
    "sns.heatmap(susy.corr(), annot = True)\n",
    "plt.show()"
   ]
  },
  {
   "cell_type": "markdown",
   "metadata": {},
   "source": [
    "Neste último gráfico das features de alto nível podemos verificar a importância de cada feature para determinar se a partícula é exótica ou background, como pode ver observado as features separadas não fazem sentido uma vez que suas características individuais não são muito relevantes para determinação do resultado."
   ]
  },
  {
   "cell_type": "code",
   "execution_count": 5,
   "metadata": {
    "collapsed": true
   },
   "outputs": [],
   "source": [
    "del susy"
   ]
  },
  {
   "cell_type": "code",
   "execution_count": 6,
   "metadata": {
    "collapsed": true
   },
   "outputs": [],
   "source": [
    "susy_two = pd.read_csv('SUSY.csv', delimiter=',', usecols=(0,1,2,3,4,5,6,7,8), skiprows=3000000)"
   ]
  },
  {
   "cell_type": "code",
   "execution_count": 7,
   "metadata": {
    "collapsed": true
   },
   "outputs": [],
   "source": [
    "susy_two.columns = [\"V1\", \"V2\", \"V3\", \"V4\", \"V5\", \"V6\", \"V7\", \"V8\", \"V9\"]"
   ]
  },
  {
   "cell_type": "code",
   "execution_count": null,
   "metadata": {
    "collapsed": true
   },
   "outputs": [],
   "source": [
    "sns.pairplot(susy_two, hue='V1')"
   ]
  },
  {
   "cell_type": "markdown",
   "metadata": {},
   "source": [
    "Este é o gráfico geral das variáveis independentes que fornecem os recursos de baixo nível. \n",
    "\n",
    "Como pode ser observado no gráfico o resultado não é diferente do anterior."
   ]
  },
  {
   "cell_type": "code",
   "execution_count": 8,
   "metadata": {},
   "outputs": [
    {
     "data": {
      "image/png": "[encoded data removed]",
      "text/plain": [
       "<matplotlib.figure.Figure at 0x7fcb17769ef0>"
      ]
     },
     "metadata": {},
     "output_type": "display_data"
    }
   ],
   "source": [
    "sns.heatmap(susy_two.corr(), annot = True)\n",
    "plt.show()"
   ]
  },
  {
   "cell_type": "markdown",
   "metadata": {},
   "source": [
    "Como pode ser observado neste grafico de correlação de importância das features para determinação da particula exótica as mesmas individualmente não tem muita significancia."
   ]
  },
  {
   "cell_type": "code",
   "execution_count": 9,
   "metadata": {
    "collapsed": true
   },
   "outputs": [],
   "source": [
    "del susy_two"
   ]
  },
  {
   "cell_type": "markdown",
   "metadata": {},
   "source": [
    "## Pré Processamento\n",
    "\n",
    "O pré processamento de dados é uma fase no aprendizado de maquina que busca avaliar a qualidade dos dados e suas relações, e se iniciar logo depois de os dados terem sido coletados e organizados em um conjunto de dados. Essa fase se dá pelo fato de existirem diversos problemas nos dados que precisam ser solucionados como por exemplo: dados faltando, dados corrompidos, dados irrelevantes e valores desconhecidos.\n",
    "    \n",
    "Uma caracteristica que os algoritmos de AM, vem assumindo é determinar que os dados já vem pré processados, isso porque a comunidade de AM usam os repositorios de dados para obter conjuntos de dados para utilização e por essa razão não apresentam varios problemas que podem ser encontrados em dados coletados no mundo real e acabam não realizando a fase de pré processamento.\n",
    "    \n",
    "Diante desde dilema e pelo fato de o dataset SUSY possuir um conjunto de dados de cinco milhões de registro e 18 variáveis independentes, esta sessão possui por objetivo buscar reduzir as variáveis independentes(features) do dataset, afim de melhorar o processamento e os resultados obtidos após o processamento e análise dos resultados, dessa forma várias técnicas de redução de features juntamente com análise gráfica seram utilizadas em conjunto para determinar se é possivel reduzir as features.\n",
    "    \n",
    "Este objetivo foi proposto depois de uma análise da estrutura dos dados e visualização dos mesmos utilizando técnicas de visualização de dados, foi observado que os dados já foram pré processados como pode ser observado: não existem dados faltando, não existem dados corrompidos e não existem valores corrompidos.\n",
    "    \n",
    "Analisando dois trabalhos feitos utilizando este mesmo conjunto de dados(SUSY) disponíveis em: [Searching for Exotic Particles in ...](https://arxiv.org/pdf/1402.4735.pdf) e [Modelo preditivo de Susy ...](http://machinelearningandspark.blogspot.com.br/2016/07/susy-dataset.html), notou-se que os melhores resultados foram obtidos utilizando todas as features.\n",
    "    \n",
    "    \n",
    "## Redução de Features\n",
    "\n",
    "### Correlação\n",
    "\n",
    "A matriz de correlação é composta pelos coeficientes de correlação (por padrão, o coeficiente de Pearson) entre cada par de colunas. Um alto coeficiente indica um par de colunas que tendem a conter informação similar, ou até mesmo redundante. A seleção de colunas por filtragem de alta correlação depende da definição de um limiar de correlação máxima - ou threshold. A escolha deste limiar, em geral, é feita por tentativa e erro."
   ]
  },
  {
   "cell_type": "code",
   "execution_count": 10,
   "metadata": {},
   "outputs": [
    {
     "data": {
      "text/plain": [
       "<matplotlib.image.AxesImage at 0x16a31464710>"
      ]
     },
     "execution_count": 10,
     "metadata": {},
     "output_type": "execute_result"
    },
    {
     "data": {
      "image/png": "[encoded data removed]",
      "text/plain": [
       "<matplotlib.figure.Figure at 0x16a30fb1550>"
      ]
     },
     "metadata": {},
     "output_type": "display_data"
    }
   ],
   "source": [
    "plt.matshow(dataset.corr())"
   ]
  },
  {
   "cell_type": "markdown",
   "metadata": {},
   "source": [
    "###  Seleção Univariada\n",
    "\n",
    "Este método realiza testes estatísticos individualmente em cada coluna, e calcula um score. Os scores mais altos podem ser então selecionados."
   ]
  },
  {
   "cell_type": "code",
   "execution_count": 12,
   "metadata": {},
   "outputs": [
    {
     "name": "stdout",
     "output_type": "stream",
     "text": [
      "[8.829e+05 5.370e-01 1.065e+00 1.972e+05 7.207e-01 4.910e-02 1.192e+06\n",
      " 6.008e-02 4.346e+05 2.988e+04 3.825e+05 1.090e+06 6.344e+04 3.174e+04\n",
      " 3.575e+05 4.026e+05 5.338e+03 3.893e+05]\n",
      "[[1.668 3.475 0.013 1.046 0.568 0.448 0.205 0.378]\n",
      " [0.445 1.22  1.831 0.526 0.942 0.603 1.562 0.181]\n",
      " [0.381 2.033 3.046 0.569 1.015 0.761 1.715 0.091]\n",
      " [1.31  1.088 0.589 1.179 0.968 1.083 0.043 0.095]\n",
      " [0.456 0.323 0.17  0.489 0.416 0.461 0.346 0.186]]\n"
     ]
    }
   ],
   "source": [
    "from sklearn.feature_selection import SelectKBest, f_classif\n",
    "\n",
    "array = dataset.values\n",
    "X = array[:, 1:]\n",
    "Y = array[:, 0]\n",
    "# feature extraction\n",
    "test = SelectKBest(score_func=f_classif, k=8)\n",
    "fit = test.fit(X, Y)\n",
    "\n",
    "# summarize scores\n",
    "np.set_printoptions(precision=3)\n",
    "print(fit.scores_)\n",
    "features = fit.transform(X)\n",
    "\n",
    "# summarize selected features\n",
    "print(features[0:5,:])"
   ]
  },
  {
   "cell_type": "markdown",
   "metadata": {},
   "source": [
    "### Recursive Feature Elimination\n",
    "\n",
    "A Recursive Feature Elimination (ou RFE) consiste na remoção de maneira recursiva de atributos e construção de modelo com os que permanecem. De maneira geral, utiliza a precisão de um modelo para identificar quais atributos são mais relevantes para a predição."
   ]
  },
  {
   "cell_type": "code",
   "execution_count": 13,
   "metadata": {},
   "outputs": [
    {
     "data": {
      "text/plain": [
       "<Container object of 18 artists>"
      ]
     },
     "execution_count": 13,
     "metadata": {},
     "output_type": "execute_result"
    },
    {
     "data": {
      "image/png": "[encoded data removed]",
      "text/plain": [
       "<matplotlib.figure.Figure at 0x16a31684898>"
      ]
     },
     "metadata": {},
     "output_type": "display_data"
    }
   ],
   "source": [
    "from sklearn.feature_selection import RFE\n",
    "from sklearn.linear_model import LogisticRegression\n",
    "\n",
    "# feature extraction\n",
    "model = LogisticRegression()\n",
    "rfe = RFE(model, 8)\n",
    "fit = rfe.fit(X, Y)\n",
    "\n",
    "plt.bar(range(18), fit.ranking_)"
   ]
  },
  {
   "cell_type": "markdown",
   "metadata": {},
   "source": [
    "### Principal Component Analysis (PCA)\n",
    "\n",
    "A Análise de Componentes Principais, ou Principal Component Analysis (PCA), é um procedimento estatístico destinado à redução de dimensionalidade. Ele transforma um conjunto de variáveis independentes em um conjunto menor ou igual a partir da variância. É calculado um índice que ordena as colunas, sendo a primeira coluna selecionada, ou seja, o primeiro componente principal, o que apresenta a maior variância. Os componentes seguintes são ordenados também por variância, mas com a restrição de que sejam ortogonais aos anteriores, condição esta que garante que sejam independente, ou não correlacionados."
   ]
  },
  {
   "cell_type": "code",
   "execution_count": 14,
   "metadata": {},
   "outputs": [
    {
     "name": "stdout",
     "output_type": "stream",
     "text": [
      "Explained Variance: [0.215 0.147 0.126]\n",
      "[[ 2.174e-01 -7.178e-04  2.596e-03  1.082e-01 -4.218e-04  3.437e-04\n",
      "   4.145e-01 -2.391e-03  4.744e-01 -2.552e-01  1.629e-01  3.333e-01\n",
      "   1.723e-01  3.729e-01  1.905e-01  3.563e-01  8.061e-02  5.369e-02]\n",
      " [ 3.917e-01 -3.124e-03 -2.573e-03  3.871e-01 -3.265e-03  9.064e-04\n",
      "   1.631e-01 -2.571e-03 -1.102e-01  3.968e-01  3.961e-01  1.332e-01\n",
      "  -2.120e-01 -3.647e-01  3.627e-01 -1.166e-01 -4.093e-02 -3.339e-02]\n",
      " [ 2.105e-03  7.073e-01  4.551e-03  1.767e-03  7.069e-01 -2.330e-03\n",
      "   1.160e-03 -3.037e-03 -1.561e-04  1.281e-03  1.877e-03  9.714e-04\n",
      "  -6.716e-04 -1.607e-03  1.759e-03 -5.339e-04 -6.984e-05  9.038e-05]]\n"
     ]
    }
   ],
   "source": [
    "from sklearn.decomposition import PCA\n",
    "\n",
    "# feature extraction\n",
    "pca = PCA(n_components=3)\n",
    "fit = pca.fit(X)\n",
    "\n",
    "# summarize components\n",
    "print(\"Explained Variance: %s\" % fit.explained_variance_ratio_)\n",
    "print(fit.components_)"
   ]
  },
  {
   "cell_type": "markdown",
   "metadata": {},
   "source": [
    "### Feature Importance\n",
    "\n",
    "Além dos métodos apresentados anteriormente, é possível utilizar árvore de decisão (Random Forest e Extra Trees) para estimar a importância das features. Abaixo tem um exemplo de aplicação de ExtraTrees, em que se constrói um modelo e a partir dele é calculada uma importância para cada feature. Nesse caso, pode-se dizer que class, lepton 2 phi e M_R são os três elementos mais importantes."
   ]
  },
  {
   "cell_type": "code",
   "execution_count": 15,
   "metadata": {},
   "outputs": [
    {
     "data": {
      "text/plain": [
       "<Container object of 18 artists>"
      ]
     },
     "execution_count": 15,
     "metadata": {},
     "output_type": "execute_result"
    },
    {
     "data": {
      "image/png": "[encoded data removed]",
      "text/plain": [
       "<matplotlib.figure.Figure at 0x16a319a1f28>"
      ]
     },
     "metadata": {},
     "output_type": "display_data"
    }
   ],
   "source": [
    "from sklearn.ensemble import ExtraTreesClassifier\n",
    "\n",
    "# feature extraction\n",
    "model = ExtraTreesClassifier()\n",
    "model.fit(X, Y)\n",
    "plt.bar(range(18), model.feature_importances_)"
   ]
  },
  {
   "cell_type": "code",
   "execution_count": 9,
   "metadata": {
    "collapsed": true
   },
   "outputs": [],
   "source": [
    "del dataset"
   ]
  },
  {
   "cell_type": "markdown",
   "metadata": {},
   "source": [
    "## Teste Redução\n",
    "    Testar as features com os algoritmos SGD, GBC de classificação\n",
    "    Afonso\n"
   ]
  },
  {
   "cell_type": "code",
   "execution_count": 2,
   "metadata": {},
   "outputs": [],
   "source": [
    "precisao_sgd = 2\n",
    "acuracia_sgd = 2\n",
    "precisao_gbc = 2\n",
    "acuracia_gbc = 2\n",
    "precisao_knn = 2\n",
    "acuracia_knn = 2 # valores precisam ser alterados.\n"
   ]
  },
  {
   "cell_type": "markdown",
   "metadata": {},
   "source": [
    "    \n",
    "## Conclusão Análise Features\n",
    "    Afonso\n",
    "Concluir que é melhor não reduzir as features"
   ]
  },
  {
   "cell_type": "markdown",
   "metadata": {},
   "source": [
    "# Conclusão\n",
    "\n",
    "## Algoritmo utilizado\n",
    "Para a Solução do Problema, a equipe fez o uso de 3 algorítmos diferentes. \n",
    "\n",
    "A primeira abordagem que tomamos para a resolução do problema, foi implementar o *Nearest Neighbors Classification*. Durante a aplicação do algorítmo KNN, observamos certa demora na execução do código, entretanto, ao final do teste, foi possível obter, com 17 vizinhos e 500.000 amostras, o resultado ótimo para o algorítmo, que foi uma acurácia de 0.78437066, obtida após a feature selection, sendo a acurácia, utilizando todas as features, equivalente a cerca de 0.76. \n",
    "\n",
    "Entretanto, após consulta do site da biblioteca Sklearn e também análise da ineficiência do algoritmo, por parte da equipe, concluiu-se que o uso do algorítmo KNN era inedequado para uma base de dados da dimensão da nossa, visto que, este algorítmo, é adequado para um máximo de 100.000 amostras e nossa base tinha 5.000.000.\n",
    "\n",
    "Visto a ineficiência do KNN, apesar do resultado razoável, decidimos fazer uso do *Stochastic Gradient Descent*. Com o uso do algorítmo SGD, além de reduzir drasticamente o tempo de execução do algorítmo, reduzindo o tempo de varios minutos para segundos, foi possível obter um resultado melhor ainda! A acurácia aumentou para 0.7884, utilizando todas as features do dataset, apesar do resultado, não foram feitas alterações posteriores ou a aplicação da feature selection com o SGD.\n",
    "\n",
    "Apesar de já ter obtido bons resultados utilizando o SGD, a equipe também implementou o *Gradient Boosting* ou *Gradient Boosted Regression Trees Classifier*. O algorítmo GBRT melhorou ainda mais o resultado obtido pela equipe, tendo, ao final, com as 5 milhões de amostras, dataset de treino de 75% e min_samples_split de 700, obter o melhor resultado. Sendo esta, uma acurácia total e final de 0.8031416 nos testes.\n",
    "\n",
    "## Resultados Obtidos\n",
    "Thiago\n",
    "    Apresentar resultados obtidos, gráficos e resultados da mensuração"
   ]
  },
  {
   "cell_type": "markdown",
   "metadata": {},
   "source": [
    "## Referências\n",
    "\n",
    "BATISTA, Gustavo Enrique de Almeida Prado Alves. Pré-processamento de dados em aprendizado de máquina supervisionado. 2003. Tese (Doutorado em Ciências de Computação e Matemática Computacional) - Instituto de Ciências Matemáticas e de Computação, Universidade de São Paulo, São Carlos, 2003. doi:10.11606/T.55.2003.tde-06102003-160219. Acesso em: 2018-04-16."
   ]
  }
 ],
 "metadata": {
  "kernelspec": {
   "display_name": "Python 3",
   "language": "python",
   "name": "python3"
  },
  "language_info": {
   "codemirror_mode": {
    "name": "ipython",
    "version": 3
   },
   "file_extension": ".py",
   "mimetype": "text/x-python",
   "name": "python",
   "nbconvert_exporter": "python",
   "pygments_lexer": "ipython3",
   "version": "3.6.4"
  }
 },
 "nbformat": 4,
 "nbformat_minor": 2
}
