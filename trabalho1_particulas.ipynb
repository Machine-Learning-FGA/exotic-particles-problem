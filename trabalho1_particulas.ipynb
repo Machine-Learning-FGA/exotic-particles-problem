{
  "cells": [
    {
      "cell_type": "markdown",
      "metadata": {},
      "source": [
        "# Introdução\n",
        "\n",
        "O campo da física de altas energias busca compreender as quatro principais forças que regem as interações entre partículas. As informações necessárias para este estudo são coletadas a partir do estudo de uma classificação específica de partículas, que são produzidas em condições extremas.\n",
        "\n",
        "A única forma conhecida de se gerar e analisar tais partículas é por meio de colisões realizadas em aceleradores de partículas, porém nem toda colisão gera dados relevantes. Na realidade, o Grande Colisor de Hadrons (LHC) gera em média três partículas de interesse (denominadas partículas exóticas) a cada $10^9$ colisões. As colisões restantes geram partículas denominadas background, e não são utilizadas.\n",
        "\n",
        "Dada a quantidade de colisões realizada por hora, e a complexidade de se analisar os dados obtidos, há um grande interesse em desenvolver uma forma automatizada de se diferenciar partículas exóticas das background. Para realizar esta diferenciação, são utilizados 18 dados. Destes, 8 são dados cinéticos coletados por detectores dentro do próprio acelerador de partículas, enquanto os 10 restantes são calculados em função dos anteriores.\n",
        "\n",
        "O dataset analizado, denominado SUSY, apresenta um total de cinco milhões de instâncias de partículas teóricas. Cada uma possui 18 variáveis numéricas representando os dados utilizados para a diferenciação entre partículas exóticas e background, e uma variável booleana que representa a **qual destas classificações** a partícula em questão se encaixa. Os dados do dataset SUSY foram gerados a partir de simulações Monte Carlo, ou seja, não são produto de colisões reais."
      ]
    },
    {
      "cell_type": "markdown",
      "metadata": {},
      "source": [
        "# Objetivos\n",
        "\n",
        "## Geral\n",
        "\n",
        "O objetivo central deste trabalho é selecionar e aplicar um modelo de aprendizado de máquina capaz de determinar a classificação de uma nova partícula (i.e. exótica, ou background). Para avaliar a capacidade do modelo escolhido em executar a tarefa em questão, será utilizada a métrica de acurácia. Métricas adicionais podem ser selecionadas a partir de uma análise mais detalhada do problema.\n",
        "\n",
        "## Especificos\n",
        "\n",
        "A partir da análise e compreensão do problema, seu contexto e do dataset fornecido, é possível definir os seguintes objetivos específicos: \n",
        "\n",
        "* Definir métricas a serem utilizadas para a análise dos resultados;\n",
        "* Definir qual é o resultado ideal almejado e; \n",
        "* Selecionar um modelo de classificação que considere as características do dataset SUSY.\n",
        "\n",
        "\n",
        "### Métricas\n",
        "O dataset SUSY apresenta um problema de classificação binária, logo, ao analisar os valores obtidos a partir do modelo utilizado com relação aos valores reais observados no dataset, surgem quatro resultados possíveis:\n",
        "* **Verdadeiro Positivo (VP):** quando o modelo define corretamente uma partícula como exótica;\n",
        "* **Falso Positivo (FP):** quando o modelo define erroneamente uma partícula como exótica;\n",
        "* **Verdadeiro Negativo (VN):** quando o modelo define corretamente uma partícula como background;\n",
        "* **Falso Negativo (FN):** quando o modelo define erroneamente uma partícula como background.  \n",
        "  \n",
        "As métricas utilizadas para avaliar o modelo utilizado são derivadas da proporção entre estes resultados. As métricas possíveis são apresentadas a seguir:  \n",
        "  \n",
        "* **Acurácia**  \n",
        "    A métrica de Acurácia representa a proporção de predições corretas com relação ao total de observações. Esta é a métrica de avaliação mais simples entre as apresentadas. Seu uso principal é em datasets nos quais falsos positivos e falsos negativos possuem o mesmo impacto no resultado final. Seu cálculo está representado a seguir:\n",
        "    $$Acurácia = \\frac{VP + VN}{VP + FP + VN + FN}$$\n",
        "    <br><br>\n",
        "\n",
        "* **Precisão**  \n",
        "    A métrica de Precisão representa a porcentagem de verdadeiros positivos obtidos com relação ao total de positivos obtidos (VP e FP). Seu uso principal é em datasets nos quais a presença de falsos positivos é mais impactante para o resultado do que a presença de falsos negativos (quanto maior a precisão, mais baixa é a proporção de falsos positivos). Seu cálculo está representado a seguir:\n",
        "    $$Precisão = \\frac{VP}{VP + FP}$$\n",
        "    <br><br>\n",
        "\n",
        "* **Recall**  \n",
        "    A métrica de Recall representa a porcentagem de verdadeiros positivos obtidos com relação ao total de positivos realmente observados. Seu uso principal é em datasets nos quais a presença de falsos negativos é mais impactante para o resultado do que a presença de falsos positivos (quanto maior a precisão, mais baixa é a proporção de falsos negativos). Seu cálculo está representado a seguir:\n",
        "    $$Recall = \\frac{VP}{VP + FN}$$\n",
        "    <br><br>\n",
        "\n",
        "* **F_1**\n",
        "\n",
        "    A métrica $F_1$ é obtida a partir de uma análise da correlação entre a Precisão (P) e o Recall (R). Seu uso principal é em datasets nos quais um equilíbrio entre a Precisão e o Recall é almejado. Seu cálculo está representado a seguir:  \n",
        "    $$F_1 = \\frac{2 (R P)}{R + P}$$\n",
        "    <br><br>\n",
        "  \n",
        "### Resultado Esperado  \n",
        "As partículas exóticas são utilizadas para a realização de cálculos no campo de física de altas energias, que busca compreender as quatro forças fundamentais da física. Caso uma partícula background contamine a amostra utilizada, os valores obtidos podem ser incorretos ou até inválidos. Ou seja, falsos positivos possuem grande impacto no contexto do dataset. Por este motivo, um dos objetivos deste trabalho é apresentar um modelo que obtenha um alto valor de Precisão (acima de 0.75). Como um auxílio para a análise dos resultados com relação aos valores de falsos posistivos e falsos negativos, será utilizada a matriz de confusão. \n",
        "  \n",
        "  "
      ]
    },
    {
      "cell_type": "markdown",
      "metadata": {},
      "source": [
        "# Informações do Dataset\n",
        "\n",
        "Seção dedicada à apresentação dos dados contidos no dataset SUSY."
      ]
    },
    {
      "cell_type": "markdown",
      "metadata": {},
      "source": [
        "Importando bibliotecas para manipulação do Dataset:"
      ]
    },
    {
      "cell_type": "code",
      "execution_count": 22,
      "metadata": {},
      "outputs": [],
      "source": [
        "%matplotlib inline\n",
        "import numpy as np\n",
        "import pandas as pd\n",
        "import matplotlib.pyplot as plt\n",
        "import seaborn as sns"
      ]
    },
    {
      "cell_type": "markdown",
      "metadata": {},
      "source": [
        "Importando Dataset e separando entre variáveis dependentes e independentes:"
      ]
    },
    {
      "cell_type": "markdown",
      "metadata": {},
      "source": [
        "Como o dataset é muito extenso, será utilizada a técnica do **memmap** para acessar pequenos segmentos de arquivos, que possuem grande número de registros, no disco. Dessa forma, o arquivo extenso não é carregado inteiro na memória principal, sanando um problema enfrentado pelo grupo relativo ao travamento dos notebooks durante a execução dos métodos para toda base de dados SUSY.[(NUMPY_MEMMAP)](https://docs.scipy.org/doc/numpy/reference/generated/numpy.memmap.html)"
      ]
    },
    {
      "cell_type": "code",
      "execution_count": 3,
      "metadata": {},
      "outputs": [],
      "source": [
        "a = np.memmap('data_x.mymemmap', dtype='float32', mode='w+', shape=(4999999,18))\n",
        "a[:] = pd.read_csv('SUSY.csv').iloc[:,1:19].values\n",
        "del a\n",
        "data_x = np.memmap('data_x.mymemmap', dtype='float32', mode='r+', shape=(4999999,18))\n",
        "\n",
        "b = np.memmap('data_y.mymemmap', dtype='float32', mode='w+', shape=(4999999))\n",
        "b[:] = pd.read_csv('SUSY.csv').iloc[:,0].values\n",
        "del b\n",
        "data_y = np.memmap('data_y.mymemmap', dtype='float32', mode='r+', shape=(4999999))"
      ]
    },
    {
      "cell_type": "markdown",
      "metadata": {},
      "source": [
        "Agora, é feita a separação das variáveis entre dataset de treino e dataset de teste, utilizando o [train_test_split](http://scikit-learn.org/stable/modules/generated/sklearn.model_selection.train_test_split.html) da biblioteca scikitlearn."
      ]
    },
    {
      "cell_type": "code",
      "execution_count": 4,
      "metadata": {},
      "outputs": [],
      "source": [
        "from sklearn.model_selection import train_test_split\n",
        "X_train, X_test, y_train, y_test = train_test_split(data_x,data_y, \n",
        "                                                    test_size = 0.25, random_state=0)"
      ]
    },
    {
      "cell_type": "markdown",
      "metadata": {},
      "source": [
        "Em seguida, é feita a análise do Dataset. Para tal, é preciso primeiramente importá-lo na memória."
      ]
    },
    {
      "cell_type": "code",
      "execution_count": 4,
      "metadata": {
        "collapsed": true
      },
      "outputs": [],
      "source": [
        "dataset = pd.read_csv('SUSY.csv')"
      ]
    },
    {
      "cell_type": "code",
      "execution_count": 5,
      "metadata": {},
      "outputs": [
        {
          "data": {
            "text/html": [
              "<div>\n",
              "<style scoped>\n",
              "    .dataframe tbody tr th:only-of-type {\n",
              "        vertical-align: middle;\n",
              "    }\n",
              "\n",
              "    .dataframe tbody tr th {\n",
              "        vertical-align: top;\n",
              "    }\n",
              "\n",
              "    .dataframe thead th {\n",
              "        text-align: right;\n",
              "    }\n",
              "</style>\n",
              "<table border=\"1\" class=\"dataframe\">\n",
              "  <thead>\n",
              "    <tr style=\"text-align: right;\">\n",
              "      <th></th>\n",
              "      <th>0.000000000000000000e+00</th>\n",
              "      <th>9.728614687919616699e-01</th>\n",
              "      <th>6.538545489311218262e-01</th>\n",
              "      <th>1.176224589347839355e+00</th>\n",
              "      <th>1.157156467437744141e+00</th>\n",
              "      <th>-1.739873170852661133e+00</th>\n",
              "      <th>-8.743090629577636719e-01</th>\n",
              "      <th>5.677649974822998047e-01</th>\n",
              "      <th>-1.750000417232513428e-01</th>\n",
              "      <th>8.100607395172119141e-01</th>\n",
              "      <th>-2.525521218776702881e-01</th>\n",
              "      <th>1.921887040138244629e+00</th>\n",
              "      <th>8.896374106407165527e-01</th>\n",
              "      <th>4.107718467712402344e-01</th>\n",
              "      <th>1.145620822906494141e+00</th>\n",
              "      <th>1.932632088661193848e+00</th>\n",
              "      <th>9.944640994071960449e-01</th>\n",
              "      <th>1.367815494537353516e+00</th>\n",
              "      <th>4.071449860930442810e-02</th>\n",
              "    </tr>\n",
              "  </thead>\n",
              "  <tbody>\n",
              "    <tr>\n",
              "      <th>0</th>\n",
              "      <td>1.0</td>\n",
              "      <td>1.667973</td>\n",
              "      <td>0.064191</td>\n",
              "      <td>-1.225171</td>\n",
              "      <td>0.506102</td>\n",
              "      <td>-0.338939</td>\n",
              "      <td>1.672543</td>\n",
              "      <td>3.475464</td>\n",
              "      <td>-1.219136</td>\n",
              "      <td>0.012955</td>\n",
              "      <td>3.775174</td>\n",
              "      <td>1.045977</td>\n",
              "      <td>0.568051</td>\n",
              "      <td>0.481928</td>\n",
              "      <td>0.000000</td>\n",
              "      <td>0.448410</td>\n",
              "      <td>0.205356</td>\n",
              "      <td>1.321893</td>\n",
              "      <td>0.377584</td>\n",
              "    </tr>\n",
              "    <tr>\n",
              "      <th>1</th>\n",
              "      <td>1.0</td>\n",
              "      <td>0.444840</td>\n",
              "      <td>-0.134298</td>\n",
              "      <td>-0.709972</td>\n",
              "      <td>0.451719</td>\n",
              "      <td>-1.613871</td>\n",
              "      <td>-0.768661</td>\n",
              "      <td>1.219918</td>\n",
              "      <td>0.504026</td>\n",
              "      <td>1.831248</td>\n",
              "      <td>-0.431385</td>\n",
              "      <td>0.526283</td>\n",
              "      <td>0.941514</td>\n",
              "      <td>1.587535</td>\n",
              "      <td>2.024308</td>\n",
              "      <td>0.603498</td>\n",
              "      <td>1.562374</td>\n",
              "      <td>1.135454</td>\n",
              "      <td>0.180910</td>\n",
              "    </tr>\n",
              "    <tr>\n",
              "      <th>2</th>\n",
              "      <td>1.0</td>\n",
              "      <td>0.381256</td>\n",
              "      <td>-0.976145</td>\n",
              "      <td>0.693152</td>\n",
              "      <td>0.448959</td>\n",
              "      <td>0.891753</td>\n",
              "      <td>-0.677328</td>\n",
              "      <td>2.033060</td>\n",
              "      <td>1.533041</td>\n",
              "      <td>3.046260</td>\n",
              "      <td>-1.005285</td>\n",
              "      <td>0.569386</td>\n",
              "      <td>1.015211</td>\n",
              "      <td>1.582217</td>\n",
              "      <td>1.551914</td>\n",
              "      <td>0.761215</td>\n",
              "      <td>1.715464</td>\n",
              "      <td>1.492257</td>\n",
              "      <td>0.090719</td>\n",
              "    </tr>\n",
              "    <tr>\n",
              "      <th>3</th>\n",
              "      <td>1.0</td>\n",
              "      <td>1.309996</td>\n",
              "      <td>-0.690089</td>\n",
              "      <td>-0.676259</td>\n",
              "      <td>1.589283</td>\n",
              "      <td>-0.693326</td>\n",
              "      <td>0.622907</td>\n",
              "      <td>1.087562</td>\n",
              "      <td>-0.381742</td>\n",
              "      <td>0.589204</td>\n",
              "      <td>1.365479</td>\n",
              "      <td>1.179295</td>\n",
              "      <td>0.968218</td>\n",
              "      <td>0.728563</td>\n",
              "      <td>0.000000</td>\n",
              "      <td>1.083158</td>\n",
              "      <td>0.043429</td>\n",
              "      <td>1.154854</td>\n",
              "      <td>0.094859</td>\n",
              "    </tr>\n",
              "    <tr>\n",
              "      <th>4</th>\n",
              "      <td>0.0</td>\n",
              "      <td>0.456398</td>\n",
              "      <td>1.099371</td>\n",
              "      <td>1.512453</td>\n",
              "      <td>0.751772</td>\n",
              "      <td>0.638967</td>\n",
              "      <td>-0.742216</td>\n",
              "      <td>0.322601</td>\n",
              "      <td>1.321054</td>\n",
              "      <td>0.169502</td>\n",
              "      <td>0.359941</td>\n",
              "      <td>0.489256</td>\n",
              "      <td>0.416168</td>\n",
              "      <td>0.754829</td>\n",
              "      <td>0.303750</td>\n",
              "      <td>0.461067</td>\n",
              "      <td>0.345541</td>\n",
              "      <td>0.733242</td>\n",
              "      <td>0.186044</td>\n",
              "    </tr>\n",
              "  </tbody>\n",
              "</table>\n",
              "</div>"
            ],
            "text/plain": [
              "   0.000000000000000000e+00  9.728614687919616699e-01  \\\n",
              "0                       1.0                  1.667973   \n",
              "1                       1.0                  0.444840   \n",
              "2                       1.0                  0.381256   \n",
              "3                       1.0                  1.309996   \n",
              "4                       0.0                  0.456398   \n",
              "\n",
              "   6.538545489311218262e-01  1.176224589347839355e+00  \\\n",
              "0                  0.064191                 -1.225171   \n",
              "1                 -0.134298                 -0.709972   \n",
              "2                 -0.976145                  0.693152   \n",
              "3                 -0.690089                 -0.676259   \n",
              "4                  1.099371                  1.512453   \n",
              "\n",
              "   1.157156467437744141e+00  -1.739873170852661133e+00  \\\n",
              "0                  0.506102                  -0.338939   \n",
              "1                  0.451719                  -1.613871   \n",
              "2                  0.448959                   0.891753   \n",
              "3                  1.589283                  -0.693326   \n",
              "4                  0.751772                   0.638967   \n",
              "\n",
              "   -8.743090629577636719e-01  5.677649974822998047e-01  \\\n",
              "0                   1.672543                  3.475464   \n",
              "1                  -0.768661                  1.219918   \n",
              "2                  -0.677328                  2.033060   \n",
              "3                   0.622907                  1.087562   \n",
              "4                  -0.742216                  0.322601   \n",
              "\n",
              "   -1.750000417232513428e-01  8.100607395172119141e-01  \\\n",
              "0                  -1.219136                  0.012955   \n",
              "1                   0.504026                  1.831248   \n",
              "2                   1.533041                  3.046260   \n",
              "3                  -0.381742                  0.589204   \n",
              "4                   1.321054                  0.169502   \n",
              "\n",
              "   -2.525521218776702881e-01  1.921887040138244629e+00  \\\n",
              "0                   3.775174                  1.045977   \n",
              "1                  -0.431385                  0.526283   \n",
              "2                  -1.005285                  0.569386   \n",
              "3                   1.365479                  1.179295   \n",
              "4                   0.359941                  0.489256   \n",
              "\n",
              "   8.896374106407165527e-01  4.107718467712402344e-01  \\\n",
              "0                  0.568051                  0.481928   \n",
              "1                  0.941514                  1.587535   \n",
              "2                  1.015211                  1.582217   \n",
              "3                  0.968218                  0.728563   \n",
              "4                  0.416168                  0.754829   \n",
              "\n",
              "   1.145620822906494141e+00  1.932632088661193848e+00  \\\n",
              "0                  0.000000                  0.448410   \n",
              "1                  2.024308                  0.603498   \n",
              "2                  1.551914                  0.761215   \n",
              "3                  0.000000                  1.083158   \n",
              "4                  0.303750                  0.461067   \n",
              "\n",
              "   9.944640994071960449e-01  1.367815494537353516e+00  \\\n",
              "0                  0.205356                  1.321893   \n",
              "1                  1.562374                  1.135454   \n",
              "2                  1.715464                  1.492257   \n",
              "3                  0.043429                  1.154854   \n",
              "4                  0.345541                  0.733242   \n",
              "\n",
              "   4.071449860930442810e-02  \n",
              "0                  0.377584  \n",
              "1                  0.180910  \n",
              "2                  0.090719  \n",
              "3                  0.094859  \n",
              "4                  0.186044  "
            ]
          },
          "execution_count": 5,
          "metadata": {},
          "output_type": "execute_result"
        }
      ],
      "source": [
        "dataset.head()"
      ]
    },
    {
      "cell_type": "markdown",
      "metadata": {},
      "source": [
        "Com a apresentação dos dados com a função head, observa-se que o dataset não apresenta labels para as features. Entretanto, de maneira mais direta, é possível observar o número de features, registros e tipos de dados contidos utilizando o info, conforme é apresentado abaixo:"
      ]
    },
    {
      "cell_type": "code",
      "execution_count": 6,
      "metadata": {},
      "outputs": [
        {
          "name": "stdout",
          "output_type": "stream",
          "text": [
            "<class 'pandas.core.frame.DataFrame'>\n",
            "RangeIndex: 4999999 entries, 0 to 4999998\n",
            "Data columns (total 19 columns):\n",
            "0.000000000000000000e+00     float64\n",
            "9.728614687919616699e-01     float64\n",
            "6.538545489311218262e-01     float64\n",
            "1.176224589347839355e+00     float64\n",
            "1.157156467437744141e+00     float64\n",
            "-1.739873170852661133e+00    float64\n",
            "-8.743090629577636719e-01    float64\n",
            "5.677649974822998047e-01     float64\n",
            "-1.750000417232513428e-01    float64\n",
            "8.100607395172119141e-01     float64\n",
            "-2.525521218776702881e-01    float64\n",
            "1.921887040138244629e+00     float64\n",
            "8.896374106407165527e-01     float64\n",
            "4.107718467712402344e-01     float64\n",
            "1.145620822906494141e+00     float64\n",
            "1.932632088661193848e+00     float64\n",
            "9.944640994071960449e-01     float64\n",
            "1.367815494537353516e+00     float64\n",
            "4.071449860930442810e-02     float64\n",
            "dtypes: float64(19)\n",
            "memory usage: 724.8 MB\n"
          ]
        }
      ],
      "source": [
        "dataset.info()"
      ]
    },
    {
      "cell_type": "code",
      "execution_count": 7,
      "metadata": {},
      "outputs": [
        {
          "data": {
            "text/html": [
              "<div>\n",
              "<style scoped>\n",
              "    .dataframe tbody tr th:only-of-type {\n",
              "        vertical-align: middle;\n",
              "    }\n",
              "\n",
              "    .dataframe tbody tr th {\n",
              "        vertical-align: top;\n",
              "    }\n",
              "\n",
              "    .dataframe thead th {\n",
              "        text-align: right;\n",
              "    }\n",
              "</style>\n",
              "<table border=\"1\" class=\"dataframe\">\n",
              "  <thead>\n",
              "    <tr style=\"text-align: right;\">\n",
              "      <th></th>\n",
              "      <th>0.000000000000000000e+00</th>\n",
              "      <th>9.728614687919616699e-01</th>\n",
              "      <th>6.538545489311218262e-01</th>\n",
              "      <th>1.176224589347839355e+00</th>\n",
              "      <th>1.157156467437744141e+00</th>\n",
              "      <th>-1.739873170852661133e+00</th>\n",
              "      <th>-8.743090629577636719e-01</th>\n",
              "      <th>5.677649974822998047e-01</th>\n",
              "      <th>-1.750000417232513428e-01</th>\n",
              "      <th>8.100607395172119141e-01</th>\n",
              "      <th>-2.525521218776702881e-01</th>\n",
              "      <th>1.921887040138244629e+00</th>\n",
              "      <th>8.896374106407165527e-01</th>\n",
              "      <th>4.107718467712402344e-01</th>\n",
              "      <th>1.145620822906494141e+00</th>\n",
              "      <th>1.932632088661193848e+00</th>\n",
              "      <th>9.944640994071960449e-01</th>\n",
              "      <th>1.367815494537353516e+00</th>\n",
              "      <th>4.071449860930442810e-02</th>\n",
              "    </tr>\n",
              "  </thead>\n",
              "  <tbody>\n",
              "    <tr>\n",
              "      <th>count</th>\n",
              "      <td>4.999999e+06</td>\n",
              "      <td>4.999999e+06</td>\n",
              "      <td>4.999999e+06</td>\n",
              "      <td>4.999999e+06</td>\n",
              "      <td>4.999999e+06</td>\n",
              "      <td>4.999999e+06</td>\n",
              "      <td>4.999999e+06</td>\n",
              "      <td>4.999999e+06</td>\n",
              "      <td>4.999999e+06</td>\n",
              "      <td>4.999999e+06</td>\n",
              "      <td>4.999999e+06</td>\n",
              "      <td>4.999999e+06</td>\n",
              "      <td>4.999999e+06</td>\n",
              "      <td>4.999999e+06</td>\n",
              "      <td>4.999999e+06</td>\n",
              "      <td>4.999999e+06</td>\n",
              "      <td>4.999999e+06</td>\n",
              "      <td>4.999999e+06</td>\n",
              "      <td>4.999999e+06</td>\n",
              "    </tr>\n",
              "    <tr>\n",
              "      <th>mean</th>\n",
              "      <td>4.575655e-01</td>\n",
              "      <td>1.000318e+00</td>\n",
              "      <td>2.179504e-05</td>\n",
              "      <td>-5.018183e-05</td>\n",
              "      <td>9.994304e-01</td>\n",
              "      <td>-3.678343e-05</td>\n",
              "      <td>-1.954757e-05</td>\n",
              "      <td>9.999745e-01</td>\n",
              "      <td>3.545853e-05</td>\n",
              "      <td>1.001437e+00</td>\n",
              "      <td>-4.873422e-05</td>\n",
              "      <td>1.000360e+00</td>\n",
              "      <td>9.999559e-01</td>\n",
              "      <td>9.999165e-01</td>\n",
              "      <td>1.000421e+00</td>\n",
              "      <td>1.000112e+00</td>\n",
              "      <td>1.000192e+00</td>\n",
              "      <td>9.994851e-01</td>\n",
              "      <td>2.249139e-01</td>\n",
              "    </tr>\n",
              "    <tr>\n",
              "      <th>std</th>\n",
              "      <td>4.981961e-01</td>\n",
              "      <td>6.873341e-01</td>\n",
              "      <td>1.003107e+00</td>\n",
              "      <td>1.001670e+00</td>\n",
              "      <td>6.542200e-01</td>\n",
              "      <td>1.002839e+00</td>\n",
              "      <td>1.001631e+00</td>\n",
              "      <td>8.728877e-01</td>\n",
              "      <td>1.001654e+00</td>\n",
              "      <td>8.901669e-01</td>\n",
              "      <td>1.001594e+00</td>\n",
              "      <td>6.288446e-01</td>\n",
              "      <td>5.841140e-01</td>\n",
              "      <td>4.708406e-01</td>\n",
              "      <td>8.592492e-01</td>\n",
              "      <td>6.207164e-01</td>\n",
              "      <td>6.237673e-01</td>\n",
              "      <td>4.360949e-01</td>\n",
              "      <td>1.969804e-01</td>\n",
              "    </tr>\n",
              "    <tr>\n",
              "      <th>min</th>\n",
              "      <td>0.000000e+00</td>\n",
              "      <td>2.548815e-01</td>\n",
              "      <td>-2.102927e+00</td>\n",
              "      <td>-1.734789e+00</td>\n",
              "      <td>4.285860e-01</td>\n",
              "      <td>-2.059306e+00</td>\n",
              "      <td>-1.734202e+00</td>\n",
              "      <td>2.598711e-04</td>\n",
              "      <td>-1.727117e+00</td>\n",
              "      <td>7.693475e-08</td>\n",
              "      <td>-1.671863e+01</td>\n",
              "      <td>2.673070e-01</td>\n",
              "      <td>1.041228e-03</td>\n",
              "      <td>2.048078e-03</td>\n",
              "      <td>0.000000e+00</td>\n",
              "      <td>2.734135e-02</td>\n",
              "      <td>4.452858e-03</td>\n",
              "      <td>3.211849e-07</td>\n",
              "      <td>4.172130e-08</td>\n",
              "    </tr>\n",
              "    <tr>\n",
              "      <th>25%</th>\n",
              "      <td>0.000000e+00</td>\n",
              "      <td>5.624837e-01</td>\n",
              "      <td>-7.573516e-01</td>\n",
              "      <td>-8.673567e-01</td>\n",
              "      <td>5.969881e-01</td>\n",
              "      <td>-7.695912e-01</td>\n",
              "      <td>-8.683741e-01</td>\n",
              "      <td>4.784546e-01</td>\n",
              "      <td>-8.661510e-01</td>\n",
              "      <td>3.691849e-01</td>\n",
              "      <td>-4.923983e-01</td>\n",
              "      <td>5.883285e-01</td>\n",
              "      <td>6.223411e-01</td>\n",
              "      <td>6.505438e-01</td>\n",
              "      <td>1.705213e-01</td>\n",
              "      <td>5.985209e-01</td>\n",
              "      <td>5.134394e-01</td>\n",
              "      <td>6.879128e-01</td>\n",
              "      <td>6.908195e-02</td>\n",
              "    </tr>\n",
              "    <tr>\n",
              "      <th>50%</th>\n",
              "      <td>0.000000e+00</td>\n",
              "      <td>7.915511e-01</td>\n",
              "      <td>1.339398e-04</td>\n",
              "      <td>-3.887097e-04</td>\n",
              "      <td>7.997993e-01</td>\n",
              "      <td>-3.792388e-04</td>\n",
              "      <td>2.009779e-04</td>\n",
              "      <td>7.738360e-01</td>\n",
              "      <td>-9.172366e-03</td>\n",
              "      <td>8.019273e-01</td>\n",
              "      <td>-8.037898e-02</td>\n",
              "      <td>8.286114e-01</td>\n",
              "      <td>8.781311e-01</td>\n",
              "      <td>9.344711e-01</td>\n",
              "      <td>9.018388e-01</td>\n",
              "      <td>8.355336e-01</td>\n",
              "      <td>9.142514e-01</td>\n",
              "      <td>1.094396e+00</td>\n",
              "      <td>1.672500e-01</td>\n",
              "    </tr>\n",
              "    <tr>\n",
              "      <th>75%</th>\n",
              "      <td>1.000000e+00</td>\n",
              "      <td>1.204413e+00</td>\n",
              "      <td>7.576488e-01</td>\n",
              "      <td>8.670981e-01</td>\n",
              "      <td>1.162353e+00</td>\n",
              "      <td>7.692302e-01</td>\n",
              "      <td>8.674778e-01</td>\n",
              "      <td>1.207444e+00</td>\n",
              "      <td>8.687620e-01</td>\n",
              "      <td>1.375392e+00</td>\n",
              "      <td>3.489010e-01</td>\n",
              "      <td>1.211083e+00</td>\n",
              "      <td>1.220313e+00</td>\n",
              "      <td>1.283522e+00</td>\n",
              "      <td>1.613231e+00</td>\n",
              "      <td>1.207994e+00</td>\n",
              "      <td>1.384583e+00</td>\n",
              "      <td>1.369183e+00</td>\n",
              "      <td>3.303655e-01</td>\n",
              "    </tr>\n",
              "    <tr>\n",
              "      <th>max</th>\n",
              "      <td>1.000000e+00</td>\n",
              "      <td>2.055345e+01</td>\n",
              "      <td>2.101605e+00</td>\n",
              "      <td>1.734839e+00</td>\n",
              "      <td>3.303562e+01</td>\n",
              "      <td>2.059721e+00</td>\n",
              "      <td>1.734686e+00</td>\n",
              "      <td>2.106888e+01</td>\n",
              "      <td>1.740689e+00</td>\n",
              "      <td>2.338644e+01</td>\n",
              "      <td>2.048790e+01</td>\n",
              "      <td>2.107572e+01</td>\n",
              "      <td>1.616682e+01</td>\n",
              "      <td>6.731210e+00</td>\n",
              "      <td>2.068624e+01</td>\n",
              "      <td>2.115226e+01</td>\n",
              "      <td>1.561370e+01</td>\n",
              "      <td>1.591660e+00</td>\n",
              "      <td>1.000000e+00</td>\n",
              "    </tr>\n",
              "  </tbody>\n",
              "</table>\n",
              "</div>"
            ],
            "text/plain": [
              "       0.000000000000000000e+00  9.728614687919616699e-01  \\\n",
              "count              4.999999e+06              4.999999e+06   \n",
              "mean               4.575655e-01              1.000318e+00   \n",
              "std                4.981961e-01              6.873341e-01   \n",
              "min                0.000000e+00              2.548815e-01   \n",
              "25%                0.000000e+00              5.624837e-01   \n",
              "50%                0.000000e+00              7.915511e-01   \n",
              "75%                1.000000e+00              1.204413e+00   \n",
              "max                1.000000e+00              2.055345e+01   \n",
              "\n",
              "       6.538545489311218262e-01  1.176224589347839355e+00  \\\n",
              "count              4.999999e+06              4.999999e+06   \n",
              "mean               2.179504e-05             -5.018183e-05   \n",
              "std                1.003107e+00              1.001670e+00   \n",
              "min               -2.102927e+00             -1.734789e+00   \n",
              "25%               -7.573516e-01             -8.673567e-01   \n",
              "50%                1.339398e-04             -3.887097e-04   \n",
              "75%                7.576488e-01              8.670981e-01   \n",
              "max                2.101605e+00              1.734839e+00   \n",
              "\n",
              "       1.157156467437744141e+00  -1.739873170852661133e+00  \\\n",
              "count              4.999999e+06               4.999999e+06   \n",
              "mean               9.994304e-01              -3.678343e-05   \n",
              "std                6.542200e-01               1.002839e+00   \n",
              "min                4.285860e-01              -2.059306e+00   \n",
              "25%                5.969881e-01              -7.695912e-01   \n",
              "50%                7.997993e-01              -3.792388e-04   \n",
              "75%                1.162353e+00               7.692302e-01   \n",
              "max                3.303562e+01               2.059721e+00   \n",
              "\n",
              "       -8.743090629577636719e-01  5.677649974822998047e-01  \\\n",
              "count               4.999999e+06              4.999999e+06   \n",
              "mean               -1.954757e-05              9.999745e-01   \n",
              "std                 1.001631e+00              8.728877e-01   \n",
              "min                -1.734202e+00              2.598711e-04   \n",
              "25%                -8.683741e-01              4.784546e-01   \n",
              "50%                 2.009779e-04              7.738360e-01   \n",
              "75%                 8.674778e-01              1.207444e+00   \n",
              "max                 1.734686e+00              2.106888e+01   \n",
              "\n",
              "       -1.750000417232513428e-01  8.100607395172119141e-01  \\\n",
              "count               4.999999e+06              4.999999e+06   \n",
              "mean                3.545853e-05              1.001437e+00   \n",
              "std                 1.001654e+00              8.901669e-01   \n",
              "min                -1.727117e+00              7.693475e-08   \n",
              "25%                -8.661510e-01              3.691849e-01   \n",
              "50%                -9.172366e-03              8.019273e-01   \n",
              "75%                 8.687620e-01              1.375392e+00   \n",
              "max                 1.740689e+00              2.338644e+01   \n",
              "\n",
              "       -2.525521218776702881e-01  1.921887040138244629e+00  \\\n",
              "count               4.999999e+06              4.999999e+06   \n",
              "mean               -4.873422e-05              1.000360e+00   \n",
              "std                 1.001594e+00              6.288446e-01   \n",
              "min                -1.671863e+01              2.673070e-01   \n",
              "25%                -4.923983e-01              5.883285e-01   \n",
              "50%                -8.037898e-02              8.286114e-01   \n",
              "75%                 3.489010e-01              1.211083e+00   \n",
              "max                 2.048790e+01              2.107572e+01   \n",
              "\n",
              "       8.896374106407165527e-01  4.107718467712402344e-01  \\\n",
              "count              4.999999e+06              4.999999e+06   \n",
              "mean               9.999559e-01              9.999165e-01   \n",
              "std                5.841140e-01              4.708406e-01   \n",
              "min                1.041228e-03              2.048078e-03   \n",
              "25%                6.223411e-01              6.505438e-01   \n",
              "50%                8.781311e-01              9.344711e-01   \n",
              "75%                1.220313e+00              1.283522e+00   \n",
              "max                1.616682e+01              6.731210e+00   \n",
              "\n",
              "       1.145620822906494141e+00  1.932632088661193848e+00  \\\n",
              "count              4.999999e+06              4.999999e+06   \n",
              "mean               1.000421e+00              1.000112e+00   \n",
              "std                8.592492e-01              6.207164e-01   \n",
              "min                0.000000e+00              2.734135e-02   \n",
              "25%                1.705213e-01              5.985209e-01   \n",
              "50%                9.018388e-01              8.355336e-01   \n",
              "75%                1.613231e+00              1.207994e+00   \n",
              "max                2.068624e+01              2.115226e+01   \n",
              "\n",
              "       9.944640994071960449e-01  1.367815494537353516e+00  \\\n",
              "count              4.999999e+06              4.999999e+06   \n",
              "mean               1.000192e+00              9.994851e-01   \n",
              "std                6.237673e-01              4.360949e-01   \n",
              "min                4.452858e-03              3.211849e-07   \n",
              "25%                5.134394e-01              6.879128e-01   \n",
              "50%                9.142514e-01              1.094396e+00   \n",
              "75%                1.384583e+00              1.369183e+00   \n",
              "max                1.561370e+01              1.591660e+00   \n",
              "\n",
              "       4.071449860930442810e-02  \n",
              "count              4.999999e+06  \n",
              "mean               2.249139e-01  \n",
              "std                1.969804e-01  \n",
              "min                4.172130e-08  \n",
              "25%                6.908195e-02  \n",
              "50%                1.672500e-01  \n",
              "75%                3.303655e-01  \n",
              "max                1.000000e+00  "
            ]
          },
          "execution_count": 7,
          "metadata": {},
          "output_type": "execute_result"
        }
      ],
      "source": [
        "dataset.describe()"
      ]
    },
    {
      "cell_type": "markdown",
      "metadata": {},
      "source": [
        "Através da descrição do dataset é possível observar o comportamento dos dados com parâmetros relacionados à média e valores máximos e mínimos, por exemplo. "
      ]
    },
    {
      "cell_type": "code",
      "execution_count": 8,
      "metadata": {},
      "outputs": [
        {
          "name": "stdout",
          "output_type": "stream",
          "text": [
            "1061873\n"
          ]
        }
      ],
      "source": [
        "# dataset['1.145620822906494141e+00']\n",
        "total = 0\n",
        "for x in range(len(dataset['1.145620822906494141e+00'])):\n",
        "    if dataset['1.145620822906494141e+00'][x] == 0:\n",
        "        total = total + 1\n",
        "print(total)"
      ]
    },
    {
      "cell_type": "markdown",
      "metadata": {},
      "source": [
        "Após a análise é possível deletar o dataset da memória."
      ]
    },
    {
      "cell_type": "code",
      "execution_count": 16,
      "metadata": {
        "collapsed": true
      },
      "outputs": [],
      "source": [
        "del dataset"
      ]
    },
    {
      "cell_type": "markdown",
      "metadata": {},
      "source": [
        "# Algoritmos de Classificação\n",
        "\n",
        "A equipe utilizou como guia inicial para a escolha do algorítmo de classificação a documentação fornecida pelo sklearn, pois compõe uma relação compacta das variáveis a serem consideradas a cerca dos dados e tipo de classificação do problema quanto ao mesmo ser de aprendizado supervisionado ([documentacao](http://scikit-learn.org/stable/tutorial/machine_learning_map/index.html)). A imagem guia está disponível abaixo.\n",
        "\n",
        "![imgsklearn](https://preview.ibb.co/g4d0hS/sklearn.png)\n",
        "\n",
        "É importante salientar que o problema é supervisionado, pois o dataset consiste em um conjunto de dados onde há uma relação entre a entrada e a saída, sabemos o que esperar. Do mesmo modo, devido ao fato de as nossa saídas serem discretas, binárias nesse caso, é um problema de classificação. Resumidamente, têm-se um conjunto de entradas e deseja-se utilizá-las para classificar se uma partícula é exótica ou background.\n",
        "\n",
        "Em um problema de classificação, procura-se encontrar uma fronteira entre os dados, como apresentado abaixo, de modo que cada tipo de dado, a partir dos dados existentes obtenha-se o maior número de classificações corretas, por exemplo. Esse comportamento pode ser observado no gráfico de comparação entre classificação e regressão, conforme explícito abaixo.\n",
        "\n",
        "![imgaprendizado](https://cdn-images-1.medium.com/max/1600/1*GZ85Pfb2-PRKaLYFjGHUvA.png)\n",
        "\n",
        "A primeira premissa acerca do esforço da equipe para a resolução parte do fato de o problema ser de classificação, tal que os dados possuem labels bem definidas. Tendo em vista o conjunto de 5.000.000 de dados na base de dados SUSY, foi preciso realizar a leitura de apenas uma parte dos mesmos, com o intuito principalmente de que os membros da equipe se tornassem familiarizados com o processo. Por esse motivo, foi utilizado inicialmente o KNN ou KNeighborsClassifier. \n",
        "\n",
        "A princípio o mesmo mostrou resultados razoáveis, como é possível ver no documento de [explicação da substituíção do Knn](https://github.com/Machine-Learning-FGA/exotic-particles-problem/blob/master/explicacao-knn.ipynb#knnAcuracia), entretanto, o número de dados processados não englobava todos os registros do dataset e notou-se que esse método não era recomendado para conjuntos de dados maiores que 100k. A incompatibilidade relatada, pode ser observada devido ao fato de que com acréscimos no número de registros a serem processados o algorítmo se tornava demasiadamente lento, como é possível observar na seção [Tempo de Execução](https://github.com/Machine-Learning-FGA/exotic-particles-problem/blob/master/explicacao-knn.ipynb#tempoExecucao) do arquivo original ou através do [gráfico](https://github.com/Machine-Learning-FGA/exotic-particles-problem/blob/master/Grafico%20Tempo%20KNN.ipynb), também disponível abaixo. \n",
        "\n",
        "![img](https://image.ibb.co/nNpQnS/download.png)\n",
        "\n",
        "Observa-se que acima dos 100k suportados pelo método, o tempo de execução se torna praticamente quadrático.\n",
        "\n",
        "Além do mais, é importante salientar que a análise desse algorítmo foi realizada pela equipe considerando apenas as últimas 8 colunas, pois a equipe raciocinou que, como elas eram funções das 10 primeiras poderia apresentar uma maior independência entre si, os resultados apresentados aqui, consideram essa condição. A partir de então, a equipe optou por testar o [SGDClassifier], primeira opção para um conjunto de dados dessa dimensão, notando-se que o algorítmo não apresentou o resultado esperado o grupo optou por utilizar o Kernel Aproximate, que apresentou um resultado ainda mais inferior, segundo a acurácia, métrica inicial utilizada para avaliação, o que levou ao uso do GBC, um algorítmo compatível com as configurações do dataset fornecido.\n",
        "\n",
        "Segue abaixo uma explicação prévia de cada um dos métodos de classificação utilizados.\n",
        "\n",
        "## Nearest Neighbors Classification\n",
        "\n",
        "A classificação baseada em vizinhos é um tipo de aprendizado que se baseia em intâncias : não tenta construir um modelo interno geral, mas simplesmente armazena instâncias dos dados de treinamento. A classificação é calculada a partir de uma votação simples dos vizinhos mais próximos de cada ponto.\n",
        "\n",
        "A classificação básica de vizinhos mais próximos usa pesos uniformes: o valor atribuído a um ponto é calculado a partir de uma votação simples por maioria  dos vizinhos mais próximos. Em algumas circunstâncias, é melhor ponderar os vizinhos de tal forma que os vizinhos mais próximos contribuam mais para o ajuste.\n",
        "\n",
        "Nesse algorítmo, ao analisar uma nova amostra, verifica-se entre o número de vizinhos fornecido (k) para determinar a qual classe ela pertence. Por exemplo, dado a escolha de 7 vizinhos para o algoritmo, o mesmo escolhe os 7 dados mais próximos à nova amostra, e ela é classificada com o rótulo que estiver em maior quantidade. Isso pode ser observado na imagem abaixo : \n",
        "\n",
        "![knn](https://image.ibb.co/b81D7S/imgKnn.jpg)\n",
        "\n",
        "Nesse exemplo, a nova informação seria classificada com o label A.\n",
        "\n",
        "[Documentação](http://scikit-learn.org/stable/modules/neighbors.html#classification)\n",
        "\n",
        "\n",
        "### KNeighborsClassifier\n",
        "\n",
        "É um algorítmo classificador, disponibilizado pelo scikit learn, que atua com a metodologia de Classificação pelos vizinhos mais próximos explicada anteriormente. É indicado para uso em bases de dados rotuladas que possuam um número máximo de 100k, de modo que torna-se demasiado lento em bases de dados maiores.\n",
        "\n",
        "[Documentação](http://scikit-learn.org/stable/modules/generated/sklearn.neighbors.KNeighborsClassifier.html)\n",
        "\n",
        "\n",
        "## SGD - Stochastic Gradient Descent\n",
        "\n",
        "O Algorítmo SGD é uma abordagem simples porém eficiente que pode ser facilmente implementada. Ela é utilizada para modelos discriminativos com classificadores lineares sobre funções convexas de perda, tais como a regressão linear. Bastante aplicado em aprendizado de larga escala, o SGDClassifier é a alternativa para bases de dados em que o KNeighborsClassifier se mostra ineficiente. Por trabalhar com bases de dados de grande volume, o SGD necessita de hiper parametros, ou seja, necessita que sejam analisadas as features mais relevantes, o que se alcança com uma boa _feature selection_ antes de se aplicar o SGD Classifier.\n",
        "\n",
        "Antes de explicar a metodologia do Stochastuc Gradient Descent, convém sondar o funcionamento do Gradient Descent, que consiste em um algorítmo que minimiza uma função acerca de um conjunto de parâmetros. De maneira geral, ele evolui do conceito de gradiente, de modo que o utiliza para minimizar a função no sentido negativo do gradiente desta. De certa maneira, uma grande questão nos problemas de classificação, consiste na falta de acurácia nas predições de classificação que culminam na função de perda. Dessa forma, procura-se minimizar essa função de perda, o que pode ser feito utilizando os algorítmos de Gradiente Descendente.\n",
        "\n",
        "Com relação ao Stochastic Gradient Descent pretende-se também minimizar a função de perda, mas a avaliação das amostras é feita com a escolha aleatória de uma amostra que é avaliada e utilizada para atualizar os parâmetros. Isso funciona por que o efeito médio de cada amostra é o mesmo. Tendo em vista esse comportamento, em grande maioria dos casos é necessário um grande número de iterações. \n",
        "\n",
        "Esse comportamento pode ser visto na imagem abaixo, que demonstra o grande número de iterações necessárias para o SGD: \n",
        "\n",
        "![img](https://image.ibb.co/eW4Bu7/sgd.png)\n",
        "\n",
        "Essas informações podem ser encontradas no [artigo](http://bibliotecadigital.fgv.br/dspace/bitstream/handle/10438/18177/FGV%20EMAp%20-%20Gustavo%20Avila%20-%20An%C3%A1lise%20de%20Sentimento%20para%20Textos%20Curtos.pdf?sequence=1) e na [documentação](http://scikit-learn.org/stable/modules/sgd.html) do scikit learn.\n",
        "\n",
        "\n",
        "### SGDClassifier\n",
        "\n",
        "É um algorítmo classificador, disponibilizado pelo scikit learn que implementa modelos lineares utilizando curvas de gradiente para classificar registros de dados. É utilizado em bases de dados compostas por mais de 100.000 registros.\n",
        "\n",
        "[documentacao](http://scikit-learn.org/stable/modules/generated/sklearn.linear_model.SGDClassifier.html)\n",
        "\n",
        "\n",
        "##  Gradient Tree Boosting\n",
        "\n",
        "O Gradient Boosting ou Gradient Boosted Regression Trees (GBRT) é uma generalização de estímulo/impulsionamento para funções de perda arbitrariamente diferenciáveis. O GBRT é um procedimento pronto e efetivo que pode ser usado tanto para problemas de regressão quanto de classificação. Modelos de Gradient Tree Boosting são usados ​​em uma variedade de áreas, incluindo ranking de busca na Web e ecologia.\n",
        "\n",
        "No contexto de Boosting, o que se espera é estimar uma função de predição ótima. Por si só, essa é uma técnica de conjunto que funciona através da construção de preditores de maneira sequencial, de modo que os preditores subsequentes aprendem com os erros dos anteriores. Esses preditores podem ser escolhidos por diversos modelos, dentro os quais encontram-se as árvores de decisão, que é o caso do Gradient Tree Boosting. Considera-se que como os novos preditores aprendem com os erros dos anteriores, leva menos iterações para alcançar as previsões reais, entretanto, é necessário estar atento aos critérios de parada para não ocasionar overfitting dos dados de treinamento (Quando os dados foram tão ajustados que só a predição só funciona para a base utilizada).\n",
        "\n",
        "De maneira geral o Gradient Boosting é uma técnica de boosting que reduz a variância dos dados e busca aproximar os resíduos ou erros de predição ao zero, de modo a potencializar o método, assim a cada iteração a predição é melhorada, por assim dizer. Isos é feito utilizando o gradiente da função. A imagem abaixo mostra o comportamento do método a cada iteração.\n",
        "\n",
        "![img](https://preview.ibb.co/cWbXZ7/1_2f_Gb3j_TF85_Xy_Htnp_JYA8ug.png)\n",
        "[Documento de origem da imagem](https://medium.com/mlreview/gradient-boosting-from-scratch-1e317ae4587d)\n",
        "\n",
        "Vê-se que o modelo se aproxima melhor dos resultados corretos e reduz os resíduos.\n",
        "\n",
        "\n",
        "### GradientBoostingClassifier\n",
        "\n",
        "É um algorítmo fornecido pelo scikit learn que utiliza a técnica de boosting para potencializar as predições, ele é usado em problemas de classificação e suporta classificação binária e multi-classe. \n",
        "\n",
        "O número de apredizes fracos ou árvores pode ser controlado pelo parâmetro n_estimators, além disso, o tamanho de cada árvore é definido pela profundidade da árvore via max_depth definindo o número de nós de folha via max_leaf_nodes. O learning_rate é um hiper-parâmetro no intervalo (0.0, 1.0) que controla o overfitting através do encolhimento, evitando que o modelo se adeque demais aos dados e passe a valer apenas para a base de dados utilizada.\n",
        "\n",
        "A sobreposição ou acúmulo de preditores ou árvores de decisão, pode ser observada na imagem abaixo :\n",
        "\n",
        "![img](https://preview.ibb.co/nkHd7S/newplot_1.png)\n",
        "[Origem da imagem](http://arogozhnikov.github.io/2016/06/24/gradient_boosting_explained.html)\n",
        "\n",
        "Vê-se que o aumento do gradiente fornece um detalhamento maior das precisões a serem realizadas, de modo que uma árvore tenta cobrir a discrepância entre as predições anteriore, somando esses resultados para aumentar a acurácia do método.\n",
        "\n",
        "[GradientBoosting](http://scikit-learn.org/stable/modules/ensemble.html#gradient-boosting)\n"
      ]
    },
    {
      "cell_type": "markdown",
      "metadata": {},
      "source": [
        "# Análise das Features\n"
      ]
    },
    {
      "cell_type": "code",
      "execution_count": 22,
      "metadata": {},
      "outputs": [],
      "source": [
        "susy = pd.read_csv('SUSY.csv', delimiter=',', usecols=(0,9,10,11,12,13,14,15,16,17,18), skiprows=3000000)"
      ]
    },
    {
      "cell_type": "code",
      "execution_count": 23,
      "metadata": {},
      "outputs": [],
      "source": [
        "susy.columns = [\"V1\", \"V10\", \"V11\", \"V12\", \"V13\", \"V14\", \"V15\", \"V16\", \"V17\", \"V18\", \"V19\"]"
      ]
    },
    {
      "cell_type": "code",
      "execution_count": null,
      "metadata": {},
      "outputs": [],
      "source": [
        "sns.pairplot(susy, hue='V1')"
      ]
    },
    {
      "cell_type": "markdown",
      "metadata": {},
      "source": [
        "Este é o gráfico geral das variáveis independentes que fornecem os recursos de alto nível. \n",
        "\n",
        "Como pode ser observado no gráfico quase não há correlação nenhuma entre os dados então dizemos que as features não possuem correlação.\n"
      ]
    },
    {
      "cell_type": "code",
      "execution_count": 4,
      "metadata": {},
      "outputs": [
        {
          "data": {
            "image/png": "[encoded data removed]",
            "text/plain": [
              "<matplotlib.figure.Figure at 0x7fcb27c249e8>"
            ]
          },
          "metadata": {},
          "output_type": "display_data"
        }
      ],
      "source": [
        "sns.heatmap(susy.corr(), annot = True)\n",
        "plt.show()"
      ]
    },
    {
      "cell_type": "markdown",
      "metadata": {},
      "source": [
        "Neste último gráfico das features de alto nível podemos verificar a importância de cada feature para determinar se a partícula é exótica ou background, como pode ver observado as features separadas não fazem sentido uma vez que suas características individuais não são muito relevantes para determinação do resultado."
      ]
    },
    {
      "cell_type": "code",
      "execution_count": 5,
      "metadata": {
        "collapsed": true
      },
      "outputs": [],
      "source": [
        "del susy"
      ]
    },
    {
      "cell_type": "code",
      "execution_count": 6,
      "metadata": {
        "collapsed": true
      },
      "outputs": [],
      "source": [
        "susy_two = pd.read_csv('SUSY.csv', delimiter=',', usecols=(0,1,2,3,4,5,6,7,8), skiprows=3000000)"
      ]
    },
    {
      "cell_type": "code",
      "execution_count": 7,
      "metadata": {
        "collapsed": true
      },
      "outputs": [],
      "source": [
        "susy_two.columns = [\"V1\", \"V2\", \"V3\", \"V4\", \"V5\", \"V6\", \"V7\", \"V8\", \"V9\"]"
      ]
    },
    {
      "cell_type": "code",
      "execution_count": null,
      "metadata": {
        "collapsed": true
      },
      "outputs": [],
      "source": [
        "sns.pairplot(susy_two, hue='V1')"
      ]
    },
    {
      "cell_type": "markdown",
      "metadata": {},
      "source": [
        "Este é o gráfico geral das variáveis independentes que fornecem os recursos de baixo nível. \n",
        "\n",
        "Como pode ser observado no gráfico o resultado não é diferente do anterior."
      ]
    },
    {
      "cell_type": "code",
      "execution_count": 8,
      "metadata": {},
      "outputs": [
        {
          "data": {
            "image/png": "[encoded data removed]",
            "text/plain": [
              "<matplotlib.figure.Figure at 0x7fcb17769ef0>"
            ]
          },
          "metadata": {},
          "output_type": "display_data"
        }
      ],
      "source": [
        "sns.heatmap(susy_two.corr(), annot = True)\n",
        "plt.show()"
      ]
    },
    {
      "cell_type": "markdown",
      "metadata": {},
      "source": [
        "Como pode ser observado neste grafico de correlação de importância das features para determinação da particula exótica as mesmas individualmente não tem muita significancia."
      ]
    },
    {
      "cell_type": "code",
      "execution_count": 9,
      "metadata": {
        "collapsed": true
      },
      "outputs": [],
      "source": [
        "del susy_two"
      ]
    },
    {
      "cell_type": "markdown",
      "metadata": {},
      "source": [
        "## Pré Processamento\n",
        "\n",
        "O pré processamento de dados é uma fase no aprendizado de maquina que busca avaliar a qualidade dos dados e suas relações, e se iniciar logo depois de os dados terem sido coletados e organizados em um conjunto de dados. Essa fase se dá pelo fato de existirem diversos problemas nos dados que precisam ser solucionados como por exemplo: dados faltando, dados corrompidos, dados irrelevantes e valores desconhecidos.\n",
        "    \n",
        "Uma caracteristica que os algoritmos de AM, vem assumindo é determinar que os dados já vem pré processados, isso porque a comunidade de AM usam os repositorios de dados para obter conjuntos de dados para utilização e por essa razão não apresentam varios problemas que podem ser encontrados em dados coletados no mundo real e acabam não realizando a fase de pré processamento.\n",
        "    \n",
        "Diante desde dilema e pelo fato de o dataset SUSY possuir um conjunto de dados de cinco milhões de registro e 18 variáveis independentes, esta sessão possui por objetivo buscar reduzir as variáveis independentes(features) do dataset, afim de melhorar o processamento e os resultados obtidos após o processamento e análise dos resultados, dessa forma várias técnicas de redução de features juntamente com análise gráfica seram utilizadas em conjunto para determinar se é possivel reduzir as features.\n",
        "    \n",
        "Este objetivo foi proposto depois de uma análise da estrutura dos dados e visualização dos mesmos utilizando técnicas de visualização de dados, foi observado que os dados já foram pré processados como pode ser observado: não existem dados faltando, não existem dados corrompidos e não existem valores corrompidos.\n",
        "    \n",
        "Analisando dois trabalhos feitos utilizando este mesmo conjunto de dados(SUSY) disponíveis em: [Searching for Exotic Particles in ...](https://arxiv.org/pdf/1402.4735.pdf) e [Modelo preditivo de Susy ...](http://machinelearningandspark.blogspot.com.br/2016/07/susy-dataset.html), notou-se que os melhores resultados foram obtidos utilizando todas as features.\n",
        "    \n",
        "    \n",
        "## Redução de Features\n",
        "\n",
        "### Correlação\n",
        "\n",
        "Uma primeira abordagem para tentar reduzir o número de colunas é partir da matriz de correlação, composta pelos coeficientes de correlação entre cada par de colunas. Existem diferentes tipos de  coeficientes de correlação, sendo o de Pearson o mais usado. Um valor alto do coeficiente, em módulo, indica um par de colunas que podem conter informação similar, ou até mesmo redundante. A seleção de colunas por filtragem de alta correlação depende da definição de um limiar de correlação máxima - ou threshold. A escolha deste limiar, em geral, é feita por tentativa e erro. Como avaliado anteriormente, este método não apresentou resultados que apontem para uma redução de features."
      ]
    },
    {
      "cell_type": "markdown",
      "metadata": {},
      "source": [
        "###  Seleção Univariada\n",
        "\n",
        "Este método realiza testes estatísticos individualmente em cada coluna, e calcula um score. Os scores mais altos podem ser então selecionados.\n",
        "\n",
        "Importando o dataset para avaliação das features:"
      ]
    },
    {
      "cell_type": "code",
      "execution_count": 2,
      "metadata": {},
      "outputs": [],
      "source": [
        "import numpy as np\n",
        "import pandas as pd\n",
        "import matplotlib.pyplot as plt\n",
        "import seaborn as sns\n",
        "\n",
        "data = pd.read_csv('SUSY.csv')\n",
        "\n",
        "array = data.values\n",
        "X = array[:, 1:]\n",
        "Y = array[:, 0]"
      ]
    },
    {
      "cell_type": "markdown",
      "metadata": {},
      "source": [
        "Avaliando os scores das features pelo método:"
      ]
    },
    {
      "cell_type": "code",
      "execution_count": 3,
      "metadata": {},
      "outputs": [
        {
          "data": {
            "text/plain": [
              "<Container object of 18 artists>"
            ]
          },
          "execution_count": 3,
          "metadata": {},
          "output_type": "execute_result"
        },
        {
          "data": {
            "image/png": "[encoded data removed]",
            "text/plain": [
              "<matplotlib.figure.Figure at 0x2372b07cac8>"
            ]
          },
          "metadata": {},
          "output_type": "display_data"
        }
      ],
      "source": [
        "from sklearn.feature_selection import SelectKBest, f_classif\n",
        "\n",
        "\n",
        "test = SelectKBest(score_func=f_classif)\n",
        "fit = test.fit(X, Y)\n",
        "\n",
        "plt.bar(range(18), fit.scores_)"
      ]
    },
    {
      "cell_type": "markdown",
      "metadata": {},
      "source": [
        "O gráfico dos scores acima aponta para a eliminação das features (ordenadas a partir do 0): 1, 2, 4, 5, 7, 9, 12, 13, 16."
      ]
    },
    {
      "cell_type": "markdown",
      "metadata": {},
      "source": [
        "### Recursive Feature Elimination\n",
        "\n",
        "A Recursive Feature Elimination (ou RFE) consiste na remoção de maneira recursiva de atributos e construção de modelo com os que permanecem. De maneira geral, utiliza a precisão de um modelo para identificar quais atributos são mais relevantes para a predição. Este método exige como parâmetro o número desejado de features ao final. Determinar este parâmetro pode demandar bastante computação e, talvez, sorte. No trecho a seguir, como exemplo, tentam-se selecionar as melhores 8 features."
      ]
    },
    {
      "cell_type": "code",
      "execution_count": 45,
      "metadata": {},
      "outputs": [],
      "source": [
        "from sklearn.feature_selection import RFE"
      ]
    },
    {
      "cell_type": "code",
      "execution_count": 13,
      "metadata": {},
      "outputs": [
        {
          "data": {
            "text/plain": [
              "<Container object of 18 artists>"
            ]
          },
          "execution_count": 4,
          "metadata": {},
          "output_type": "execute_result"
        },
        {
          "data": {
            "image/png": "[encoded data removed]",
            "text/plain": [
              "<matplotlib.figure.Figure at 0x237000f6e48>"
            ]
          },
          "metadata": {},
          "output_type": "display_data"
        }
      ],
      "source": [
        "from sklearn.linear_model import LogisticRegression\n",
        "\n",
        "model = LogisticRegression()\n",
        "rfe = RFE(model, 8)\n",
        "fit = rfe.fit(X, Y)\n",
        "\n",
        "plt.bar(range(18), fit.ranking_)"
      ]
    },
    {
      "cell_type": "markdown",
      "metadata": {},
      "source": [
        "Este método aponta como melhores features: 1, 2, 4, 5, 7, 8, 9, 10, 13."
      ]
    },
    {
      "cell_type": "markdown",
      "metadata": {},
      "source": [
        "### Principal Component Analysis (PCA)\n",
        "\n",
        "A Análise de Componentes Principais, ou Principal Component Analysis (PCA), é um procedimento estatístico destinado à redução de dimensionalidade. Ele transforma um conjunto de variáveis independentes em um conjunto menor ou igual a partir da variância. É calculado um índice que ordena as colunas, sendo a primeira coluna selecionada, ou seja, o primeiro componente principal, o que apresenta a maior variância. Os componentes seguintes são ordenados também por variância, mas com a restrição de que sejam ortogonais aos anteriores, condição esta que garante que sejam independentes.\n",
        "\n",
        "O código a seguir tenta realizar a seleção de componentes principais entre as colunas sem ordem aleatória."
      ]
    },
    {
      "cell_type": "code",
      "execution_count": 5,
      "metadata": {},
      "outputs": [
        {
          "data": {
            "text/plain": [
              "<Container object of 18 artists>"
            ]
          },
          "execution_count": 5,
          "metadata": {},
          "output_type": "execute_result"
        },
        {
          "data": {
            "image/png": "[encoded data removed]",
            "text/plain": [
              "<matplotlib.figure.Figure at 0x2370059c358>"
            ]
          },
          "metadata": {},
          "output_type": "display_data"
        }
      ],
      "source": [
        "from sklearn.decomposition import PCA\n",
        "\n",
        "pca = PCA()\n",
        "fit = pca.fit(X)\n",
        "plt.bar(range(18), fit.singular_values_)"
      ]
    },
    {
      "cell_type": "markdown",
      "metadata": {},
      "source": [
        "O resultado do método PCA evidencia que todas as colunas acabam sendo selecionadas como componentes principais. Caso a ordem de avaliação das colunas altere, mudarão os pesos de cada coluna, e o resultado final escolhe as colunas exatamente na ordem em que forem avaliadas, pois todas são tomadas como relevantes."
      ]
    },
    {
      "cell_type": "markdown",
      "metadata": {},
      "source": [
        "### Feature Importance\n",
        "\n",
        "Além dos métodos apresentados anteriormente, é possível utilizar árvore de decisão (Random Forest e Extra Trees) para estimar a importância das features. Abaixo tem um exemplo de aplicação de ExtraTrees, em que se constrói um modelo e a partir dele é calculada uma importância para cada feature. Nesse caso, pode-se dizer que class, lepton 2 phi e M_R são os três elementos mais importantes."
      ]
    },
    {
      "cell_type": "markdown",
      "metadata": {},
      "source": [
        "**Importando o módulo**"
      ]
    },
    {
      "cell_type": "code",
      "execution_count": 10,
      "metadata": {},
      "outputs": [],
      "source": [
        "from sklearn.ensemble import ExtraTreesClassifier"
      ]
    },
    {
      "cell_type": "markdown",
      "metadata": {},
      "source": [
        "**Inicializando o método**"
      ]
    },
    {
      "cell_type": "code",
      "execution_count": 11,
      "metadata": {},
      "outputs": [],
      "source": [
        "etc = ExtraTreesClassifier()"
      ]
    },
    {
      "cell_type": "markdown",
      "metadata": {},
      "source": [
        "**Construção da árvore a partir dos conjuntos de treinamento**"
      ]
    },
    {
      "cell_type": "code",
      "execution_count": 12,
      "metadata": {},
      "outputs": [
        {
          "data": {
            "text/plain": [
              "ExtraTreesClassifier(bootstrap=False, class_weight=None, criterion='gini',\n",
              "           max_depth=None, max_features='auto', max_leaf_nodes=None,\n",
              "           min_impurity_decrease=0.0, min_impurity_split=None,\n",
              "           min_samples_leaf=1, min_samples_split=2,\n",
              "           min_weight_fraction_leaf=0.0, n_estimators=10, n_jobs=1,\n",
              "           oob_score=False, random_state=None, verbose=0, warm_start=False)"
            ]
          },
          "execution_count": 12,
          "metadata": {},
          "output_type": "execute_result"
        }
      ],
      "source": [
        "etc.fit(X_train, y_train)"
      ]
    },
    {
      "cell_type": "markdown",
      "metadata": {},
      "source": [
        "**Plotar o gráfico das importâncias das features**"
      ]
    },
    {
      "cell_type": "code",
      "execution_count": 32,
      "metadata": {},
      "outputs": [
        {
          "data": {
            "text/plain": [
              "<Container object of 18 artists>"
            ]
          },
          "execution_count": 32,
          "metadata": {},
          "output_type": "execute_result"
        },
        {
          "data": {
            "image/png": "[encoded data removed]",
            "text/plain": [
              "<matplotlib.figure.Figure at 0x1da970cc860>"
            ]
          },
          "metadata": {},
          "output_type": "display_data"
        }
      ],
      "source": [
        "features = ['V1', 'V2', 'V3', 'V4', 'V5', 'V6', 'V7', 'V8', 'V9', 'V10', 'V11', 'V12', 'V13', 'V14', 'V15', 'V16', 'V17', 'V18']\n",
        "plt.xticks(range(18), features)\n",
        "plt.xlabel('Features')\n",
        "plt.ylabel('% Importância')\n",
        "plt.rcParams['figure.figsize'] = (12, 7)\n",
        "plt.bar(range(18), 100 * etc.feature_importances_)"
      ]
    },
    {
      "cell_type": "code",
      "execution_count": null,
      "metadata": {},
      "outputs": [],
      "source": [
        "del dataset"
      ]
    },
    {
      "cell_type": "markdown",
      "metadata": {},
      "source": [
        "## Teste Redução"
      ]
    },
    {
      "cell_type": "markdown",
      "metadata": {},
      "source": [
        "**Importando o módulo da métrica de precisão**"
      ]
    },
    {
      "cell_type": "code",
      "execution_count": 7,
      "metadata": {},
      "outputs": [],
      "source": [
        "from sklearn.metrics import precision_score"
      ]
    },
    {
      "cell_type": "markdown",
      "metadata": {},
      "source": [
        "**Importando o módulo do classificador SGDClassifier**"
      ]
    },
    {
      "cell_type": "code",
      "execution_count": 8,
      "metadata": {},
      "outputs": [],
      "source": [
        "from sklearn.linear_model import SGDClassifier"
      ]
    },
    {
      "cell_type": "markdown",
      "metadata": {},
      "source": [
        "**Importando o módulo do classificador GradientBoostingClassifier**"
      ]
    },
    {
      "cell_type": "code",
      "execution_count": 9,
      "metadata": {},
      "outputs": [],
      "source": [
        "from sklearn.ensemble import GradientBoostingClassifier"
      ]
    },
    {
      "cell_type": "markdown",
      "metadata": {},
      "source": [
        "**Verificando o formato do dataset de treino**"
      ]
    },
    {
      "cell_type": "code",
      "execution_count": 14,
      "metadata": {},
      "outputs": [
        {
          "data": {
            "text/plain": [
              "(3749999, 18)"
            ]
          },
          "execution_count": 14,
          "metadata": {},
          "output_type": "execute_result"
        }
      ],
      "source": [
        "X_train.shape"
      ]
    },
    {
      "cell_type": "markdown",
      "metadata": {},
      "source": [
        "### Seleção Univariada"
      ]
    },
    {
      "cell_type": "markdown",
      "metadata": {},
      "source": [
        "**Importando os módulos de seleção das Features**"
      ]
    },
    {
      "cell_type": "code",
      "execution_count": 208,
      "metadata": {},
      "outputs": [],
      "source": [
        "from sklearn.feature_selection import SelectKBest, f_classif"
      ]
    },
    {
      "cell_type": "markdown",
      "metadata": {},
      "source": [
        "**Inicializando a seleção de features**"
      ]
    },
    {
      "cell_type": "code",
      "execution_count": 209,
      "metadata": {},
      "outputs": [],
      "source": [
        "skb = SelectKBest(score_func=f_classif)"
      ]
    },
    {
      "cell_type": "markdown",
      "metadata": {},
      "source": [
        "**Calibrando a seleção das features**"
      ]
    },
    {
      "cell_type": "code",
      "execution_count": 210,
      "metadata": {},
      "outputs": [
        {
          "data": {
            "text/plain": [
              "SelectKBest(k=10, score_func=<function f_classif at 0x000001DA96A96620>)"
            ]
          },
          "execution_count": 210,
          "metadata": {},
          "output_type": "execute_result"
        }
      ],
      "source": [
        "skb.fit(X_train, y_train)"
      ]
    },
    {
      "cell_type": "markdown",
      "metadata": {},
      "source": [
        "**Realizando a seleção das features**"
      ]
    },
    {
      "cell_type": "code",
      "execution_count": 211,
      "metadata": {},
      "outputs": [],
      "source": [
        "X_train_new = skb.transform(X_train)"
      ]
    },
    {
      "cell_type": "markdown",
      "metadata": {},
      "source": [
        "**Verificando o formato do novo dataset de treino**"
      ]
    },
    {
      "cell_type": "code",
      "execution_count": 212,
      "metadata": {},
      "outputs": [
        {
          "data": {
            "text/plain": [
              "(3749999, 10)"
            ]
          },
          "execution_count": 212,
          "metadata": {},
          "output_type": "execute_result"
        }
      ],
      "source": [
        "X_train_new.shape"
      ]
    },
    {
      "cell_type": "markdown",
      "metadata": {},
      "source": [
        "**Obtendo o índice das features selecionadas**"
      ]
    },
    {
      "cell_type": "code",
      "execution_count": 213,
      "metadata": {},
      "outputs": [],
      "source": [
        "X_train_new_index = skb.get_support(indices=False)"
      ]
    },
    {
      "cell_type": "markdown",
      "metadata": {},
      "source": [
        "**Gerando novo dataset de teste**"
      ]
    },
    {
      "cell_type": "code",
      "execution_count": 214,
      "metadata": {},
      "outputs": [],
      "source": [
        "X_test_new = X_test[:,X_train_new_index]"
      ]
    },
    {
      "cell_type": "markdown",
      "metadata": {},
      "source": [
        "**Inicializando os classificadores SGD e GBC**"
      ]
    },
    {
      "cell_type": "code",
      "execution_count": 215,
      "metadata": {},
      "outputs": [],
      "source": [
        "sgd = SGDClassifier()"
      ]
    },
    {
      "cell_type": "code",
      "execution_count": 216,
      "metadata": {},
      "outputs": [],
      "source": [
        "gb = GradientBoostingClassifier(n_estimators=900, random_state=42)"
      ]
    },
    {
      "cell_type": "markdown",
      "metadata": {},
      "source": [
        "**Calibrando os classificadores**"
      ]
    },
    {
      "cell_type": "code",
      "execution_count": 186,
      "metadata": {},
      "outputs": [
        {
          "name": "stderr",
          "output_type": "stream",
          "text": [
            "C:\\Users\\joaopedro\\Anaconda3\\lib\\site-packages\\sklearn\\linear_model\\stochastic_gradient.py:128: FutureWarning: max_iter and tol parameters have been added in <class 'sklearn.linear_model.stochastic_gradient.SGDClassifier'> in 0.19. If both are left unset, they default to max_iter=5 and tol=None. If tol is not None, max_iter defaults to max_iter=1000. From 0.21, default max_iter will be 1000, and default tol will be 1e-3.\n",
            "  \"and default tol will be 1e-3.\" % type(self), FutureWarning)\n"
          ]
        },
        {
          "data": {
            "text/plain": [
              "SGDClassifier(alpha=0.0001, average=False, class_weight=None, epsilon=0.1,\n",
              "       eta0=0.0, fit_intercept=True, l1_ratio=0.15,\n",
              "       learning_rate='optimal', loss='hinge', max_iter=None, n_iter=None,\n",
              "       n_jobs=1, penalty='l2', power_t=0.5, random_state=None,\n",
              "       shuffle=True, tol=None, verbose=0, warm_start=False)"
            ]
          },
          "execution_count": 186,
          "metadata": {},
          "output_type": "execute_result"
        }
      ],
      "source": [
        "sgd.fit(X_train_new, y_train)"
      ]
    },
    {
      "cell_type": "code",
      "execution_count": 217,
      "metadata": {},
      "outputs": [
        {
          "data": {
            "text/plain": [
              "GradientBoostingClassifier(criterion='friedman_mse', init=None,\n",
              "              learning_rate=0.1, loss='deviance', max_depth=3,\n",
              "              max_features=None, max_leaf_nodes=None,\n",
              "              min_impurity_decrease=0.0, min_impurity_split=None,\n",
              "              min_samples_leaf=1, min_samples_split=2,\n",
              "              min_weight_fraction_leaf=0.0, n_estimators=900,\n",
              "              presort='auto', random_state=42, subsample=1.0, verbose=0,\n",
              "              warm_start=False)"
            ]
          },
          "execution_count": 217,
          "metadata": {},
          "output_type": "execute_result"
        }
      ],
      "source": [
        "gb.fit(X_train_new, y_train)"
      ]
    },
    {
      "cell_type": "markdown",
      "metadata": {},
      "source": [
        "**Imprimindo a acurácia dos classificadores**"
      ]
    },
    {
      "cell_type": "code",
      "execution_count": 187,
      "metadata": {},
      "outputs": [
        {
          "name": "stdout",
          "output_type": "stream",
          "text": [
            "0.7840976\n"
          ]
        }
      ],
      "source": [
        "sgd_skb_score = sgd.score(X_test_new, y_test)\n",
        "print(sgd_skb_score)"
      ]
    },
    {
      "cell_type": "code",
      "execution_count": 219,
      "metadata": {},
      "outputs": [
        {
          "name": "stdout",
          "output_type": "stream",
          "text": [
            "0.7941512\n"
          ]
        }
      ],
      "source": [
        "gb_skb_score = gb.score(X_test_new, y_test)\n",
        "print(gb_skb_score)"
      ]
    },
    {
      "cell_type": "markdown",
      "metadata": {},
      "source": [
        "**Realizando a previsão dos classificadores**"
      ]
    },
    {
      "cell_type": "code",
      "execution_count": 188,
      "metadata": {},
      "outputs": [],
      "source": [
        "y_pred1 = sgd.predict(X_test_new)"
      ]
    },
    {
      "cell_type": "code",
      "execution_count": 220,
      "metadata": {},
      "outputs": [],
      "source": [
        "y_pred2 = gb.predict(X_test_new)"
      ]
    },
    {
      "cell_type": "markdown",
      "metadata": {},
      "source": [
        "**Imprimindo a precisão dos classificadores**"
      ]
    },
    {
      "cell_type": "code",
      "execution_count": 189,
      "metadata": {},
      "outputs": [
        {
          "name": "stdout",
          "output_type": "stream",
          "text": [
            "0.796739298028476\n"
          ]
        }
      ],
      "source": [
        "sgd_skb_precision = precision_score(y_test, y_pred1, average='weighted')\n",
        "print(sgd_skb_precision)"
      ]
    },
    {
      "cell_type": "code",
      "execution_count": 224,
      "metadata": {},
      "outputs": [
        {
          "name": "stdout",
          "output_type": "stream",
          "text": [
            "0.7949917518827554\n"
          ]
        }
      ],
      "source": [
        "gb_skb_precision = precision_score(y_test, y_pred1, average='weighted')\n",
        "print(gb_skb_precision)"
      ]
    },
    {
      "cell_type": "markdown",
      "metadata": {},
      "source": [
        "### Análise dos Principais Componentes"
      ]
    },
    {
      "cell_type": "markdown",
      "metadata": {},
      "source": [
        "**Importando o módulo de decomposição PCA**"
      ]
    },
    {
      "cell_type": "code",
      "execution_count": 225,
      "metadata": {},
      "outputs": [],
      "source": [
        "from sklearn.decomposition import PCA"
      ]
    },
    {
      "cell_type": "markdown",
      "metadata": {},
      "source": [
        "**Inicializando a decomposição PCA**"
      ]
    },
    {
      "cell_type": "code",
      "execution_count": 226,
      "metadata": {},
      "outputs": [],
      "source": [
        "pca = PCA()"
      ]
    },
    {
      "cell_type": "markdown",
      "metadata": {},
      "source": [
        "**Calibrando a decomposição**"
      ]
    },
    {
      "cell_type": "code",
      "execution_count": 227,
      "metadata": {},
      "outputs": [],
      "source": [
        "pca_fit = pca.fit(X_train, y_train)"
      ]
    },
    {
      "cell_type": "code",
      "execution_count": 228,
      "metadata": {},
      "outputs": [],
      "source": [
        "pca_mean = np.mean(pca_fit.singular_values_)"
      ]
    },
    {
      "cell_type": "markdown",
      "metadata": {},
      "source": [
        "**Obtendo o índice das features a serem selecionadas**"
      ]
    },
    {
      "cell_type": "markdown",
      "metadata": {},
      "source": [
        "Neste ponto, selecionaremos as features cujos valores únicos são maiores que a média dos valores únicos, ou seja, vamos selecionar as features que possuem a maior variância."
      ]
    },
    {
      "cell_type": "code",
      "execution_count": 229,
      "metadata": {},
      "outputs": [],
      "source": [
        "X_train_new_index = pca_fit.singular_values_[:,] > pca_mean"
      ]
    },
    {
      "cell_type": "code",
      "execution_count": 230,
      "metadata": {},
      "outputs": [],
      "source": [
        "X_train_new = X_train[:, X_train_new_index]"
      ]
    },
    {
      "cell_type": "markdown",
      "metadata": {},
      "source": [
        "**Verificando o formato do novo dataset de treino**"
      ]
    },
    {
      "cell_type": "code",
      "execution_count": 231,
      "metadata": {},
      "outputs": [
        {
          "data": {
            "text/plain": [
              "(3749999, 8)"
            ]
          },
          "execution_count": 231,
          "metadata": {},
          "output_type": "execute_result"
        }
      ],
      "source": [
        "X_train_new.shape"
      ]
    },
    {
      "cell_type": "markdown",
      "metadata": {},
      "source": [
        "**Gerando novo dataset de teste**"
      ]
    },
    {
      "cell_type": "code",
      "execution_count": 233,
      "metadata": {},
      "outputs": [],
      "source": [
        "X_test_new = X_test[:,X_train_new_index]"
      ]
    },
    {
      "cell_type": "markdown",
      "metadata": {},
      "source": [
        "**Inicializando os classificadores SGD e GBC**"
      ]
    },
    {
      "cell_type": "code",
      "execution_count": 234,
      "metadata": {},
      "outputs": [],
      "source": [
        "sgd = SGDClassifier()"
      ]
    },
    {
      "cell_type": "code",
      "execution_count": 235,
      "metadata": {},
      "outputs": [],
      "source": [
        "gb = GradientBoostingClassifier(n_estimators=900, random_state=42)"
      ]
    },
    {
      "cell_type": "markdown",
      "metadata": {},
      "source": [
        "**Calibrando os classificadores**"
      ]
    },
    {
      "cell_type": "code",
      "execution_count": 236,
      "metadata": {},
      "outputs": [
        {
          "name": "stderr",
          "output_type": "stream",
          "text": [
            "C:\\Users\\joaopedro\\Anaconda3\\lib\\site-packages\\sklearn\\linear_model\\stochastic_gradient.py:128: FutureWarning: max_iter and tol parameters have been added in <class 'sklearn.linear_model.stochastic_gradient.SGDClassifier'> in 0.19. If both are left unset, they default to max_iter=5 and tol=None. If tol is not None, max_iter defaults to max_iter=1000. From 0.21, default max_iter will be 1000, and default tol will be 1e-3.\n",
            "  \"and default tol will be 1e-3.\" % type(self), FutureWarning)\n"
          ]
        },
        {
          "data": {
            "text/plain": [
              "SGDClassifier(alpha=0.0001, average=False, class_weight=None, epsilon=0.1,\n",
              "       eta0=0.0, fit_intercept=True, l1_ratio=0.15,\n",
              "       learning_rate='optimal', loss='hinge', max_iter=None, n_iter=None,\n",
              "       n_jobs=1, penalty='l2', power_t=0.5, random_state=None,\n",
              "       shuffle=True, tol=None, verbose=0, warm_start=False)"
            ]
          },
          "execution_count": 236,
          "metadata": {},
          "output_type": "execute_result"
        }
      ],
      "source": [
        "sgd.fit(X_train_new, y_train)"
      ]
    },
    {
      "cell_type": "code",
      "execution_count": 240,
      "metadata": {},
      "outputs": [
        {
          "data": {
            "text/plain": [
              "GradientBoostingClassifier(criterion='friedman_mse', init=None,\n",
              "              learning_rate=0.1, loss='deviance', max_depth=3,\n",
              "              max_features=None, max_leaf_nodes=None,\n",
              "              min_impurity_decrease=0.0, min_impurity_split=None,\n",
              "              min_samples_leaf=1, min_samples_split=2,\n",
              "              min_weight_fraction_leaf=0.0, n_estimators=900,\n",
              "              presort='auto', random_state=42, subsample=1.0, verbose=0,\n",
              "              warm_start=False)"
            ]
          },
          "execution_count": 240,
          "metadata": {},
          "output_type": "execute_result"
        }
      ],
      "source": [
        "gb.fit(X_train_new, y_train)"
      ]
    },
    {
      "cell_type": "markdown",
      "metadata": {},
      "source": [
        "**Imprimindo a acurácia dos classificadores**"
      ]
    },
    {
      "cell_type": "code",
      "execution_count": 237,
      "metadata": {},
      "outputs": [
        {
          "name": "stdout",
          "output_type": "stream",
          "text": [
            "0.7659976\n"
          ]
        }
      ],
      "source": [
        "sgd_pca_score = sgd.score(X_test_new, y_test)\n",
        "print(sgd_pca_score)"
      ]
    },
    {
      "cell_type": "code",
      "execution_count": 241,
      "metadata": {},
      "outputs": [
        {
          "name": "stdout",
          "output_type": "stream",
          "text": [
            "0.7659976\n"
          ]
        }
      ],
      "source": [
        "gb_pca_score = sgd.score(X_test_new, y_test)\n",
        "print(gb_pca_score)"
      ]
    },
    {
      "cell_type": "markdown",
      "metadata": {},
      "source": [
        "**Realizando a previsão dos classificadores**"
      ]
    },
    {
      "cell_type": "code",
      "execution_count": 238,
      "metadata": {},
      "outputs": [],
      "source": [
        "y_pred1 = sgd.predict(X_test_new)"
      ]
    },
    {
      "cell_type": "code",
      "execution_count": 242,
      "metadata": {},
      "outputs": [],
      "source": [
        "y_pred2 = gb.predict(X_test_new)"
      ]
    },
    {
      "cell_type": "markdown",
      "metadata": {},
      "source": [
        "**Imprimindo a precisão dos classificadores**"
      ]
    },
    {
      "cell_type": "code",
      "execution_count": 239,
      "metadata": {},
      "outputs": [
        {
          "name": "stdout",
          "output_type": "stream",
          "text": [
            "0.7773039686480161\n"
          ]
        }
      ],
      "source": [
        "sgd_pca_precision = precision_score(y_test, y_pred1, average='weighted')\n",
        "print(sgd_pca_precision)"
      ]
    },
    {
      "cell_type": "code",
      "execution_count": 245,
      "metadata": {},
      "outputs": [
        {
          "name": "stdout",
          "output_type": "stream",
          "text": [
            "0.7970488725412542\n"
          ]
        }
      ],
      "source": [
        "gb_pca_precision = precision_score(y_test, y_pred2, average='weighted')\n",
        "print(gb_pca_precision)"
      ]
    },
    {
      "cell_type": "markdown",
      "metadata": {},
      "source": [
        "### Eliminação de features recursivamente"
      ]
    },
    {
      "cell_type": "markdown",
      "metadata": {},
      "source": [
        "#### Testando os algoritmos SGDClassifier e GradientBoostingClassifier"
      ]
    },
    {
      "cell_type": "markdown",
      "metadata": {},
      "source": [
        "**Inicializando os classificadores**"
      ]
    },
    {
      "cell_type": "code",
      "execution_count": 83,
      "metadata": {},
      "outputs": [],
      "source": [
        "sgd = SGDClassifier()"
      ]
    },
    {
      "cell_type": "code",
      "execution_count": null,
      "metadata": {},
      "outputs": [],
      "source": [
        "gb = GradientBoostingClassifier(n_estimators=900, random_state=42)"
      ]
    },
    {
      "cell_type": "markdown",
      "metadata": {},
      "source": [
        "**Inicializando o seleção de 9 features removendo 3 delas a cada iteração**"
      ]
    },
    {
      "cell_type": "code",
      "execution_count": 84,
      "metadata": {},
      "outputs": [],
      "source": [
        "rfe1 = RFE(sgd, 9, step=3)"
      ]
    },
    {
      "cell_type": "code",
      "execution_count": null,
      "metadata": {},
      "outputs": [],
      "source": [
        "rfe2 = RFE(gb)"
      ]
    },
    {
      "cell_type": "markdown",
      "metadata": {},
      "source": [
        "(Observação: por se tratar de um método que faz sucessivas iterações, a utilização do RFE com o total de 5.000.000 de observações foi inviabilizado por conta do alto tempo de processamento. Desta forma, realizamos uma única iteração retirando metade das features)"
      ]
    },
    {
      "cell_type": "markdown",
      "metadata": {},
      "source": [
        "**Calibrando os selecionadores de features**"
      ]
    },
    {
      "cell_type": "code",
      "execution_count": 85,
      "metadata": {},
      "outputs": [
        {
          "name": "stderr",
          "output_type": "stream",
          "text": [
            "C:\\Users\\joaopedro\\Anaconda3\\lib\\site-packages\\sklearn\\linear_model\\stochastic_gradient.py:128: FutureWarning: max_iter and tol parameters have been added in <class 'sklearn.linear_model.stochastic_gradient.SGDClassifier'> in 0.19. If both are left unset, they default to max_iter=5 and tol=None. If tol is not None, max_iter defaults to max_iter=1000. From 0.21, default max_iter will be 1000, and default tol will be 1e-3.\n",
            "  \"and default tol will be 1e-3.\" % type(self), FutureWarning)\n",
            "C:\\Users\\joaopedro\\Anaconda3\\lib\\site-packages\\sklearn\\linear_model\\stochastic_gradient.py:128: FutureWarning: max_iter and tol parameters have been added in <class 'sklearn.linear_model.stochastic_gradient.SGDClassifier'> in 0.19. If both are left unset, they default to max_iter=5 and tol=None. If tol is not None, max_iter defaults to max_iter=1000. From 0.21, default max_iter will be 1000, and default tol will be 1e-3.\n",
            "  \"and default tol will be 1e-3.\" % type(self), FutureWarning)\n",
            "C:\\Users\\joaopedro\\Anaconda3\\lib\\site-packages\\sklearn\\linear_model\\stochastic_gradient.py:128: FutureWarning: max_iter and tol parameters have been added in <class 'sklearn.linear_model.stochastic_gradient.SGDClassifier'> in 0.19. If both are left unset, they default to max_iter=5 and tol=None. If tol is not None, max_iter defaults to max_iter=1000. From 0.21, default max_iter will be 1000, and default tol will be 1e-3.\n",
            "  \"and default tol will be 1e-3.\" % type(self), FutureWarning)\n",
            "C:\\Users\\joaopedro\\Anaconda3\\lib\\site-packages\\sklearn\\linear_model\\stochastic_gradient.py:128: FutureWarning: max_iter and tol parameters have been added in <class 'sklearn.linear_model.stochastic_gradient.SGDClassifier'> in 0.19. If both are left unset, they default to max_iter=5 and tol=None. If tol is not None, max_iter defaults to max_iter=1000. From 0.21, default max_iter will be 1000, and default tol will be 1e-3.\n",
            "  \"and default tol will be 1e-3.\" % type(self), FutureWarning)\n"
          ]
        }
      ],
      "source": [
        "rfe1 = rfe1.fit(X_train, y_train)"
      ]
    },
    {
      "cell_type": "code",
      "execution_count": null,
      "metadata": {},
      "outputs": [],
      "source": [
        "rfe2 = rfe2.fit(X_train, y_train)"
      ]
    },
    {
      "cell_type": "markdown",
      "metadata": {},
      "source": [
        "**Obtendo os índices das features selecionadas**"
      ]
    },
    {
      "cell_type": "code",
      "execution_count": 86,
      "metadata": {},
      "outputs": [],
      "source": [
        "X_train_new_index1 = rfe1.get_support(indices=False)"
      ]
    },
    {
      "cell_type": "code",
      "execution_count": null,
      "metadata": {},
      "outputs": [],
      "source": [
        "X_train_new_index2 = rfe2.get_support(indices=False)"
      ]
    },
    {
      "cell_type": "markdown",
      "metadata": {},
      "source": [
        "**Gerando novos datasets de treino**"
      ]
    },
    {
      "cell_type": "code",
      "execution_count": 87,
      "metadata": {},
      "outputs": [],
      "source": [
        "X_train_new1 = X_train[:, X_train_new_index1]"
      ]
    },
    {
      "cell_type": "code",
      "execution_count": null,
      "metadata": {},
      "outputs": [],
      "source": [
        "X_train_new2 = X_train[:, X_train_new_index2]"
      ]
    },
    {
      "cell_type": "markdown",
      "metadata": {},
      "source": [
        "**Gerando novos datasets de teste**"
      ]
    },
    {
      "cell_type": "code",
      "execution_count": 88,
      "metadata": {},
      "outputs": [],
      "source": [
        "X_test_new1 = X_test[:,X_train_new_index1]"
      ]
    },
    {
      "cell_type": "code",
      "execution_count": null,
      "metadata": {},
      "outputs": [],
      "source": [
        "X_test_new2 = X_test[:,X_train_new_index2]"
      ]
    },
    {
      "cell_type": "markdown",
      "metadata": {},
      "source": [
        "**Calibrando os algoritmos**"
      ]
    },
    {
      "cell_type": "code",
      "execution_count": 89,
      "metadata": {},
      "outputs": [
        {
          "name": "stderr",
          "output_type": "stream",
          "text": [
            "C:\\Users\\joaopedro\\Anaconda3\\lib\\site-packages\\sklearn\\linear_model\\stochastic_gradient.py:128: FutureWarning: max_iter and tol parameters have been added in <class 'sklearn.linear_model.stochastic_gradient.SGDClassifier'> in 0.19. If both are left unset, they default to max_iter=5 and tol=None. If tol is not None, max_iter defaults to max_iter=1000. From 0.21, default max_iter will be 1000, and default tol will be 1e-3.\n",
            "  \"and default tol will be 1e-3.\" % type(self), FutureWarning)\n"
          ]
        },
        {
          "data": {
            "text/plain": [
              "SGDClassifier(alpha=0.0001, average=False, class_weight=None, epsilon=0.1,\n",
              "       eta0=0.0, fit_intercept=True, l1_ratio=0.15,\n",
              "       learning_rate='optimal', loss='hinge', max_iter=None, n_iter=None,\n",
              "       n_jobs=1, penalty='l2', power_t=0.5, random_state=None,\n",
              "       shuffle=True, tol=None, verbose=0, warm_start=False)"
            ]
          },
          "execution_count": 89,
          "metadata": {},
          "output_type": "execute_result"
        }
      ],
      "source": [
        "sgd.fit(X_train_new1, y_train)"
      ]
    },
    {
      "cell_type": "code",
      "execution_count": null,
      "metadata": {},
      "outputs": [],
      "source": [
        "gb.fit(X_train_new2, y_train)"
      ]
    },
    {
      "cell_type": "markdown",
      "metadata": {},
      "source": [
        "**Imprimindo a acurácia do algoritmo SGD**"
      ]
    },
    {
      "cell_type": "code",
      "execution_count": 93,
      "metadata": {},
      "outputs": [
        {
          "name": "stdout",
          "output_type": "stream",
          "text": [
            "0.7864864\n"
          ]
        }
      ],
      "source": [
        "sgd_rfe_score = sgd.score(X_test_new1, y_test)\n",
        "print(sgd_rfe_score)"
      ]
    },
    {
      "cell_type": "markdown",
      "metadata": {},
      "source": [
        "**Imprimindo a acurácia do algoritmo GBC**"
      ]
    },
    {
      "cell_type": "code",
      "execution_count": null,
      "metadata": {},
      "outputs": [],
      "source": [
        "gb_rfe_score = gb.score(X_test_new2, y_test)\n",
        "print(gb_rfe_score)"
      ]
    },
    {
      "cell_type": "markdown",
      "metadata": {},
      "source": [
        "(Observação: devido à natureza iterativa do algoritmo RFE, não foi possível realizar o cálculo da acurácia do algoritmo GBC devido a necessidade de processamento do grande volume de dados."
      ]
    },
    {
      "cell_type": "markdown",
      "metadata": {},
      "source": [
        "Agora verificaremos a precisão dos modelos"
      ]
    },
    {
      "cell_type": "markdown",
      "metadata": {},
      "source": [
        "**Realizando a previsão usando o modelo**"
      ]
    },
    {
      "cell_type": "code",
      "execution_count": 91,
      "metadata": {},
      "outputs": [],
      "source": [
        "y_pred1 = sgd.predict(X_test_new1)"
      ]
    },
    {
      "cell_type": "code",
      "execution_count": null,
      "metadata": {},
      "outputs": [],
      "source": [
        "y_pred2 = gb.predict(X_test_new2)"
      ]
    },
    {
      "cell_type": "markdown",
      "metadata": {},
      "source": [
        "**Imprimindo a precisão do SGD**"
      ]
    },
    {
      "cell_type": "code",
      "execution_count": 106,
      "metadata": {},
      "outputs": [
        {
          "name": "stdout",
          "output_type": "stream",
          "text": [
            "0.7966719555699948\n"
          ]
        }
      ],
      "source": [
        "sgd_rfe_precision = precision_score(y_test, y_pred1, average='weighted')\n",
        "print(sgd_rfe_precision)"
      ]
    },
    {
      "cell_type": "markdown",
      "metadata": {},
      "source": [
        "**Imprimindo a precisão do GBC**"
      ]
    },
    {
      "cell_type": "code",
      "execution_count": null,
      "metadata": {},
      "outputs": [],
      "source": [
        "gb_rfe_precision = precision_score(y_test, y_pred2, average='weighted')\n",
        "print(gb_rfe_precision)"
      ]
    },
    {
      "cell_type": "markdown",
      "metadata": {},
      "source": [
        "(Observação: devido à natureza iterativa do algoritmo RFE, não foi possível realizar o cálculo da precisão do algoritmo GBC devido a necessidade de processamento do grande volume de dados."
      ]
    },
    {
      "cell_type": "markdown",
      "metadata": {},
      "source": [
        "### Seleção de features baseada em árvore"
      ]
    },
    {
      "cell_type": "markdown",
      "metadata": {},
      "source": [
        "**Importando o módulo**"
      ]
    },
    {
      "cell_type": "code",
      "execution_count": 95,
      "metadata": {},
      "outputs": [],
      "source": [
        "from sklearn.feature_selection import SelectFromModel"
      ]
    },
    {
      "cell_type": "markdown",
      "metadata": {},
      "source": [
        "**Inicializando o modelo**"
      ]
    },
    {
      "cell_type": "code",
      "execution_count": 96,
      "metadata": {},
      "outputs": [],
      "source": [
        "slm = SelectFromModel(etc, prefit=True)"
      ]
    },
    {
      "cell_type": "markdown",
      "metadata": {},
      "source": [
        "**Realizando a seleção das features**"
      ]
    },
    {
      "cell_type": "code",
      "execution_count": 97,
      "metadata": {},
      "outputs": [],
      "source": [
        "X_train_new = slm.transform(X_train)"
      ]
    },
    {
      "cell_type": "markdown",
      "metadata": {},
      "source": [
        "**Verificando o formato do novo dataset de treino**"
      ]
    },
    {
      "cell_type": "code",
      "execution_count": 98,
      "metadata": {},
      "outputs": [
        {
          "data": {
            "text/plain": [
              "(3749999, 8)"
            ]
          },
          "execution_count": 98,
          "metadata": {},
          "output_type": "execute_result"
        }
      ],
      "source": [
        "X_train_new.shape"
      ]
    },
    {
      "cell_type": "markdown",
      "metadata": {},
      "source": [
        "Como esperado, o método de selecionar as features mais importantes diminuiu o dataset de treino de 18 para 6 features."
      ]
    },
    {
      "cell_type": "markdown",
      "metadata": {},
      "source": [
        "**Obtendo o índice das features selecionadas**"
      ]
    },
    {
      "cell_type": "code",
      "execution_count": 99,
      "metadata": {},
      "outputs": [],
      "source": [
        "X_train_new_index = slm.get_support(indices=False)"
      ]
    },
    {
      "cell_type": "markdown",
      "metadata": {},
      "source": [
        "**Gerando o novo dataset de teste**"
      ]
    },
    {
      "cell_type": "code",
      "execution_count": 100,
      "metadata": {},
      "outputs": [],
      "source": [
        "X_test_new = X_test[:,X_train_new_index]"
      ]
    },
    {
      "cell_type": "markdown",
      "metadata": {},
      "source": [
        "#### Testando o algoritmo SGDClassifier"
      ]
    },
    {
      "cell_type": "markdown",
      "metadata": {},
      "source": [
        "**Inicializando o classificador**"
      ]
    },
    {
      "cell_type": "code",
      "execution_count": 101,
      "metadata": {},
      "outputs": [],
      "source": [
        "sgd = SGDClassifier()"
      ]
    },
    {
      "cell_type": "markdown",
      "metadata": {},
      "source": [
        "**Calibrando o modelo**"
      ]
    },
    {
      "cell_type": "code",
      "execution_count": 102,
      "metadata": {},
      "outputs": [
        {
          "name": "stderr",
          "output_type": "stream",
          "text": [
            "C:\\Users\\joaopedro\\Anaconda3\\lib\\site-packages\\sklearn\\linear_model\\stochastic_gradient.py:128: FutureWarning: max_iter and tol parameters have been added in <class 'sklearn.linear_model.stochastic_gradient.SGDClassifier'> in 0.19. If both are left unset, they default to max_iter=5 and tol=None. If tol is not None, max_iter defaults to max_iter=1000. From 0.21, default max_iter will be 1000, and default tol will be 1e-3.\n",
            "  \"and default tol will be 1e-3.\" % type(self), FutureWarning)\n"
          ]
        },
        {
          "data": {
            "text/plain": [
              "SGDClassifier(alpha=0.0001, average=False, class_weight=None, epsilon=0.1,\n",
              "       eta0=0.0, fit_intercept=True, l1_ratio=0.15,\n",
              "       learning_rate='optimal', loss='hinge', max_iter=None, n_iter=None,\n",
              "       n_jobs=1, penalty='l2', power_t=0.5, random_state=None,\n",
              "       shuffle=True, tol=None, verbose=0, warm_start=False)"
            ]
          },
          "execution_count": 102,
          "metadata": {},
          "output_type": "execute_result"
        }
      ],
      "source": [
        "sgd.fit(X_train_new, y_train)"
      ]
    },
    {
      "cell_type": "markdown",
      "metadata": {},
      "source": [
        "**Imprimindo a acurácia do modelo**"
      ]
    },
    {
      "cell_type": "code",
      "execution_count": 103,
      "metadata": {},
      "outputs": [
        {
          "name": "stdout",
          "output_type": "stream",
          "text": [
            "0.7837352\n"
          ]
        }
      ],
      "source": [
        "sgd_etc_score = sgd.score(X_test_new, y_test)\n",
        "print(sgd_etc_score)"
      ]
    },
    {
      "cell_type": "markdown",
      "metadata": {},
      "source": [
        "Agora verificaremos a precisão do método"
      ]
    },
    {
      "cell_type": "markdown",
      "metadata": {},
      "source": [
        "**Realizando a previsão usando o modelo**"
      ]
    },
    {
      "cell_type": "code",
      "execution_count": 104,
      "metadata": {},
      "outputs": [],
      "source": [
        "y_pred = sgd.predict(X_test_new)"
      ]
    },
    {
      "cell_type": "markdown",
      "metadata": {},
      "source": [
        "**Imprimindo a precisão do método**"
      ]
    },
    {
      "cell_type": "code",
      "execution_count": 105,
      "metadata": {},
      "outputs": [
        {
          "name": "stdout",
          "output_type": "stream",
          "text": [
            "0.7952037749400571\n"
          ]
        }
      ],
      "source": [
        "sgd_etc_precision = precision_score(y_test, y_pred, average='weighted')\n",
        "print(sgd_etc_precision)"
      ]
    },
    {
      "cell_type": "markdown",
      "metadata": {},
      "source": [
        "#### Testando o algoritmo GradientBoostingClassifier"
      ]
    },
    {
      "cell_type": "markdown",
      "metadata": {},
      "source": [
        "**Inicializando o classificador**"
      ]
    },
    {
      "cell_type": "code",
      "execution_count": 22,
      "metadata": {},
      "outputs": [],
      "source": [
        "gb = GradientBoostingClassifier(n_estimators=900, random_state=42)"
      ]
    },
    {
      "cell_type": "markdown",
      "metadata": {},
      "source": [
        "**Calibrando o modelo**"
      ]
    },
    {
      "cell_type": "code",
      "execution_count": 23,
      "metadata": {},
      "outputs": [
        {
          "data": {
            "text/plain": [
              "GradientBoostingClassifier(criterion='friedman_mse', init=None,\n",
              "              learning_rate=0.1, loss='deviance', max_depth=3,\n",
              "              max_features=None, max_leaf_nodes=None,\n",
              "              min_impurity_decrease=0.0, min_impurity_split=None,\n",
              "              min_samples_leaf=1, min_samples_split=2,\n",
              "              min_weight_fraction_leaf=0.0, n_estimators=900,\n",
              "              presort='auto', random_state=42, subsample=1.0, verbose=0,\n",
              "              warm_start=False)"
            ]
          },
          "execution_count": 23,
          "metadata": {},
          "output_type": "execute_result"
        }
      ],
      "source": [
        "gb.fit(X_train_new, y_train)"
      ]
    },
    {
      "cell_type": "markdown",
      "metadata": {},
      "source": [
        "**Imprimindo a acurácia do modelo**"
      ]
    },
    {
      "cell_type": "code",
      "execution_count": 24,
      "metadata": {},
      "outputs": [
        {
          "name": "stdout",
          "output_type": "stream",
          "text": [
            "0.7933672\n"
          ]
        }
      ],
      "source": [
        "gb_etc_score = gb.score(X_test_new, y_test)\n",
        "print(gb_etc_score)"
      ]
    },
    {
      "cell_type": "markdown",
      "metadata": {},
      "source": [
        "**Realizando a previsão usando o modelo**"
      ]
    },
    {
      "cell_type": "code",
      "execution_count": 43,
      "metadata": {},
      "outputs": [],
      "source": [
        "y_pred = gb.predict(X_test_new)"
      ]
    },
    {
      "cell_type": "markdown",
      "metadata": {},
      "source": [
        "**Imprimindo a precisão do GBC**"
      ]
    },
    {
      "cell_type": "code",
      "execution_count": 44,
      "metadata": {},
      "outputs": [
        {
          "name": "stdout",
          "output_type": "stream",
          "text": [
            "0.7959806307609014\n"
          ]
        }
      ],
      "source": [
        "gb_etc_precision = precision_score(y_test, y_pred, average='weighted')\n",
        "print(gb_etc_precision)"
      ]
    },
    {
      "cell_type": "markdown",
      "metadata": {},
      "source": [
        "#### Função para armazenamento de resultados em um dicionário",
        "## Testes utilizando Todas as features\n",
        "\n",
        "Tendo o valor de Score e de Precision dos métodos de redução de Feature, podemos avaliar se realmente será um modelo melhor, usando todas as Features.\n",
        "\n",
        "### Utilizando o Método SGD"
      ]
    },
    {
      "cell_type": "code",
      "execution_count": 128,
      "metadata": {},
      "outputs": [],
      "source": [
        "results = {}\n",
        "def add_results(model,score,precision,time):\n",
        "    results[model] = {\n",
        "        'Score' : 100 * score,\n",
        "        'Precision' : 100 * precision,\n",
        "        'Time': time\n",
        "    }"
      ]
    },
    {
      "cell_type": "code",
      "execution_count": 17,
      "metadata": {},
      "outputs": [
        {
          "name": "stderr",
          "output_type": "stream",
          "text": [
            "/home/rafael/anaconda3/lib/python3.6/site-packages/sklearn/linear_model/stochastic_gradient.py:128: FutureWarning: max_iter and tol parameters have been added in <class 'sklearn.linear_model.stochastic_gradient.SGDClassifier'> in 0.19. If both are left unset, they default to max_iter=5 and tol=None. If tol is not None, max_iter defaults to max_iter=1000. From 0.21, default max_iter will be 1000, and default tol will be 1e-3.\n",
            "  \"and default tol will be 1e-3.\" % type(self), FutureWarning)\n"
          ]
        },
        {
          "name": "stdout",
          "output_type": "stream",
          "text": [
            "Score:  0.7883848\n",
            "Precision:  0.795927849571726\n",
            "Execution Time:  9.033298015594482 Seconds\n"
          ]
        }
      ],
      "source": [
        "import time\n",
        "start = time.time()\n",
        "sgd = SGDClassifier()\n",
        "sgd.fit(X_train, y_train)\n",
        "sgd_total_score = sgd.score(X_test, y_test)\n",
        "print('Score: ', sgd_total_score)\n",
        "y_pred = sgd.predict(X_test)\n",
        "sgd_total_precision = precision_score(y_test, y_pred, average='weighted')\n",
        "end = time.time()\n",
        "print('Precision: ', sgd_total_precision)\n",
        "print('Execution Time: ', end - start, 'Seconds')"
      ]
    },
    {
      "cell_type": "markdown",
      "metadata": {},
      "source": [
        "#### Definindo os valores de resultados de acuracia e precisão para cada modelo",
        "### Utilizando o Método GBD"
      ]
    },
    {
      "cell_type": "code",
      "execution_count": 18,
      "metadata": {},
      "outputs": [
        {
          "name": "stdout",
          "output_type": "stream",
          "text": [
            "Score:  0.802968\n",
            "Precision:  0.7952037749400571\n",
            "Execution Time:  20604.48715043068 Seconds\n"
          ]
        }
      ],
      "source": [
        "import time\n",
        "from sklearn.ensemble import GradientBoostingClassifier\n",
        "start = time.time()\n",
        "gb = GradientBoostingClassifier(n_estimators=900, random_state=42, min_samples_split=700)\n",
        "gb.fit(X_train, y_train)\n",
        "y_pred = gb.predict(X_test)\n",
        "gb_total_score = gb.score(X_test, y_test)\n",
        "print('Score: ', gb_total_score)\n",
        "gb_total_precision = precision_score(y_test, y_pred, average='weighted')\n",
        "print(gb_etc_precision)\n",
        "end = time.time()\n",
        "print('Precision: ', sgd_etc_precision)\n",
        "print('Execution Time: ', end - start, 'Seconds')"
      ]
    },
    {
      "cell_type": "code",
      "execution_count": 129,
      "metadata": {},
      "outputs": [],
      "source": [
        "sgd_skb_score = 0.7840976\n",
        "sgd_skb_precision = 0.796739298028476\n",
        "gb_skb_score = 0.7941512\n",
        "gb_skb_precision = 0.7949917518827554\n",
        "sgd_pca_score = 0.7659976\n",
        "sgd_pca_precision = 0.7773039686480161\n",
        "gb_pca_score = 0.7659976\n",
        "gb_pca_precision = 0.7970488725412542\n",
        "sgd_rfe_score = 0.7864864\n",
        "sgd_rfe_precision = 0.7966719555699948\n",
        "sgd_rfe_time = 2000 #valor ficticio\n",
        "gb_rfe_precision = 0 # Não foi possível calcular\n",
        "gb_rfe_score = 0 # Não foi possível calcular\n",
        "gb_rfe_time = 0 #valor ficticio\n",
        "sgd_etc_score = 0.7837352\n",
        "sgd_etc_precision = 0.7952037749400571\n",
        "sgd_etc_time = 5400 #valor ficticio\n",
        "gb_etc_score = 0.7933672\n",
        "gb_etc_precision = 0.7959806307609014\n",
        "sgd_total_score = 0.0.7883848\n",
        "sgd_total_precision = 0.795927849571726\n",
        "gb_etc_time = 120 #valor ficticio"
      ]
    },
    {
      "cell_type": "markdown",
      "metadata": {},
      "source": [
        "#### Adicionando os valores ao dicionário de resultados"
      ]
    },
    {
      "cell_type": "code",
      "execution_count": 130,
      "metadata": {},
      "outputs": [
        {
          "name": "stdout",
          "output_type": "stream",
          "text": [
            "{'SGD_RFE': {'Score': 78.64864, 'Precision': 79.66719555699949, 'Time': 2000}, 'SGD_ETC': {'Score': 78.37352, 'Precision': 79.52037749400571, 'Time': 5400}, 'GB_RFE': {'Score': 0, 'Precision': 0, 'Time': 0}, 'GB_ETC': {'Score': 79.33672, 'Precision': 79.59806307609014, 'Time': 120}}\n"
          ]
        }
      ],
      "source": [
        "add_results('SGD_RFE',sgd_rfe_score,sgd_rfe_precision,sgd_rfe_time)\n",
        "add_results('SGD_ETC',sgd_etc_score,sgd_etc_precision,sgd_etc_time)\n",
        "add_results('GB_RFE',gb_rfe_score,gb_rfe_precision,gb_rfe_time)\n",
        "add_results('GB_ETC',gb_etc_score,gb_etc_precision,gb_etc_time)\n",
        "print(results)"
      ]
    },
    {
      "cell_type": "markdown",
      "metadata": {},
      "source": [
        "## Conclusão Análise Features\n",
        "\n",
        "A partir dos testes realizados tanto com o conjuto completo de features, quanto conjuntos reduzidos a partir dos métodos descritos acima, é possível concluir que **a redução das features implica na redução da acurácia e precisão**, portanto o mais adequado neste cenário é tomar todas as features para treinamento."
      ]
    },
    {
      "cell_type": "markdown",
      "metadata": {},
      "source": [
        "# Conclusão\n",
        "\n",
        "## Algoritmo utilizado\n",
        "Para a Solução do Problema, a equipe fez o uso de 3 algorítmos diferentes. \n",
        "\n",
        "A primeira abordagem que tomamos para a resolução do problema, foi implementar o *Nearest Neighbors Classification*. Durante a aplicação do algorítmo KNN, observamos certa demora na execução do código, entretanto, ao final do teste, foi possível obter, com 17 vizinhos e 500.000 amostras, o resultado ótimo para o algorítmo, que foi uma acurácia de 0.78437066, obtida após a feature selection, sendo a acurácia, utilizando todas as features, equivalente a cerca de 0.76. \n",
        "\n",
        "Entretanto, após consulta do site da biblioteca Sklearn e também análise da ineficiência do algoritmo, por parte da equipe, concluiu-se que o uso do algorítmo KNN era inedequado para uma base de dados da dimensão da nossa, visto que, este algorítmo, é adequado para um máximo de 100.000 amostras e nossa base tinha 5.000.000.\n",
        "\n",
        "Visto a ineficiência do KNN, apesar do resultado razoável, decidimos fazer uso do *Stochastic Gradient Descent*. Com o uso do algorítmo SGD, além de reduzir drasticamente o tempo de execução do algorítmo, reduzindo o tempo de varios minutos para segundos, foi possível obter um resultado melhor ainda! A acurácia aumentou para 0.7884, utilizando todas as features do dataset, apesar do resultado, não foram feitas alterações posteriores ou a aplicação da feature selection com o SGD.\n",
        "\n",
        "Apesar de já ter obtido bons resultados utilizando o SGD, a equipe também implementou o *Gradient Boosting* ou *Gradient Boosted Regression Trees Classifier*. O algorítmo GBRT melhorou ainda mais o resultado obtido pela equipe, tendo, ao final, com as 5 milhões de amostras, dataset de treino de 75% e min_samples_split de 700, obter o melhor resultado. Sendo esta, uma acurácia total e final de 0.8031416 nos testes.\n",
        "\n",
        "## Resultados Obtidos"
      ]
    },
    {
      "cell_type": "markdown",
      "metadata": {},
      "source": [
        "### Grafíco dos Scores obtidos"
      ]
    },
    {
      "cell_type": "code",
      "execution_count": 216,
      "metadata": {
        "scrolled": false
      },
      "outputs": [
        {
          "data": {
            "image/png": "[encoded data removed]",
            "text/plain": [
              "<Figure size 504x504 with 1 Axes>"
            ]
          },
          "metadata": {},
          "output_type": "display_data"
        }
      ],
      "source": [
        "columns = [x.replace('_',' ') for x in results.keys()]\n",
        "score = []\n",
        "width=0.4\n",
        "base = np.arange(len(columns))\n",
        "for key in results:\n",
        "    score.append(results[key]['Score'])\n",
        "\n",
        "fig, ax=plt.subplots(figsize=[7,7])\n",
        "fig = ax.bar(base, score, width, edgecolor='goldenrod',color='indigo')\n",
        "fig = ax.set_xticks(base+width/2)\n",
        "fig = ax.set_xticklabels(columns, rotation='45')\n",
        "fig = plt.title('Scores')\n",
        "fig = plt.ylabel('Porcentagem')\n",
        "fig = plt.xlabel('Algorítmo Utilizado')\n",
        "fig = plt.ylim(0,100)"
      ]
    },
    {
      "cell_type": "markdown",
      "metadata": {},
      "source": [
        "### Gráfico de Tempo de Execução dos Algorítmos"
      ]
    },
    {
      "cell_type": "code",
      "execution_count": 190,
      "metadata": {
        "scrolled": false
      },
      "outputs": [
        {
          "data": {
            "image/png": "[encoded data removed]",
            "text/plain": [
              "<Figure size 504x504 with 1 Axes>"
            ]
          },
          "metadata": {},
          "output_type": "display_data"
        }
      ],
      "source": [
        "columns = [x.replace('_',' ') for x in results.keys()]\n",
        "time = []\n",
        "width=0.4\n",
        "base = np.arange(len(columns))\n",
        "for key in results:\n",
        "    time.append(results[key]['Time'])\n",
        "fig, ax=plt.subplots(figsize=[7,7])\n",
        "fig = ax.bar(base, time, width, edgecolor='darkgreen', color='turquoise')\n",
        "fig = ax.set_xticks(base+width/2)\n",
        "fig = ax.set_xticklabels(columns, rotation='45')\n",
        "fig = plt.title('Gráfico de Tempo de Execução')\n",
        "fig = plt.ylabel('Segundos')\n",
        "fig = plt.xlabel('Algorítmo')"
      ]
    },
    {
      "cell_type": "markdown",
      "metadata": {},
      "source": [
        "### Gráfico dos resultados de precisão obtidos"
      ]
    },
    {
      "cell_type": "code",
      "execution_count": 217,
      "metadata": {},
      "outputs": [
        {
          "data": {
            "image/png": "[encoded data removed]",
            "text/plain": [
              "<Figure size 504x504 with 1 Axes>"
            ]
          },
          "metadata": {},
          "output_type": "display_data"
        }
      ],
      "source": [
        "columns = [x.replace('_',' ') for x in results.keys()]\n",
        "precision = []\n",
        "width=0.4\n",
        "base = np.arange(len(columns))\n",
        "for key in results:\n",
        "    precision.append(results[key]['Precision'])\n",
        "fig, ax=plt.subplots(figsize=[7,7])\n",
        "fig = ax.bar(base+width, precision, width,edgecolor='wheat')\n",
        "fig = ax.set_xticks(base+width/2)\n",
        "fig = ax.set_xticklabels(columns, rotation='45')\n",
        "fig = plt.title('Precision')\n",
        "fig = plt.ylabel('Porcentagem')\n",
        "fig = plt.xlabel('Algorítmo')\n",
        "fig = plt.ylim(0,100)"
      ]
    },
    {
      "cell_type": "markdown",
      "metadata": {},
      "source": [
        "## Referências\n",
        "\n",
        "BATISTA, Gustavo Enrique de Almeida Prado Alves. **Pré-processamento de dados em aprendizado de máquina supervisionado**. 2003. Tese (Doutorado em Ciências de Computação e Matemática Computacional) - Instituto de Ciências Matemáticas e de Computação, Universidade de São Paulo, São Carlos, 2003. doi:10.11606/T.55.2003.tde-06102003-160219. Acesso em: 2018-04-16.  \n",
        "  \n",
        "BALDI, P.; SADOWSKI, P.; WHITESON, D. **Searching for exotic particles in high-energy physics with deep learning**. Nature Communications, v. 5, 2 jul. 2014.  \n",
        "  \n",
        "**Accuracy, Precision, Recall & F1 Score: Interpretation of Performance Measures**. Disponível em: <http://blog.exsilio.com/all/accuracy-precision-recall-f1-score-interpretation-of-performance-measures/>. Acesso em: 16 abr. 2018. \n",
        "\n",
        "**Energy Frontier | U.S. DOE Office of Science (SC)**. Disponível em: <https://science.energy.gov/hep/research/energy-frontier/>. Acesso em: 18 abr. 2018. "
      ]
    },
    {
      "cell_type": "code",
      "execution_count": null,
      "metadata": {},
      "outputs": [],
      "source": []
    }
  ],
  "metadata": {
    "kernelspec": {
      "display_name": "Python 3",
      "language": "python",
      "name": "python3"
    },
    "language_info": {
      "codemirror_mode": {
        "name": "ipython",
        "version": 3
      },
      "file_extension": ".py",
      "mimetype": "text/x-python",
      "name": "python",
      "nbconvert_exporter": "python",
      "pygments_lexer": "ipython3",
      "version": "3.6.4"
    }
  },
  "nbformat": 4,
  "nbformat_minor": 2
}