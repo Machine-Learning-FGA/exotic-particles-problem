{
 "cells": [
  {
   "cell_type": "code",
   "execution_count": 22,
   "metadata": {},
   "outputs": [],
   "source": [
    "import matplotlib.pyplot as plt\n",
    "import numpy as np"
   ]
  },
  {
   "cell_type": "code",
   "execution_count": 23,
   "metadata": {},
   "outputs": [],
   "source": [
    "t100 = sum([1.6862399578094482,2.1964118480682373,1.7621791362762451, 1.7782456874847412,\n",
    "       1.981682538986206, 2.13596510887146, 2.179724931716919, 2.2925169467926025,\n",
    "       2.474717140197754, 2.6374094486236572, 2.677070140838623, 2.5869197845458984,\n",
    "       2.668410062789917, 2.7321720123291016, 2.8398349285125732, 3.112854242324829,\n",
    "       2.9424214363098145, 3.463179111480713])"
   ]
  },
  {
   "cell_type": "code",
   "execution_count": 24,
   "metadata": {},
   "outputs": [],
   "source": [
    "t200 = sum([2.818880558013916, 3.597216844558716, 4.110960245132446,4.513943195343018,\n",
    "           4.82697606086731, 5.181045770645142, 5.459136724472046, 5.831350564956665,\n",
    "           6.012509822845459, 6.012509822845459, 6.643414497375488, 6.733079433441162,\n",
    "           6.849187135696411, 7.110193252563477, 7.309828281402588, 7.491358518600464,\n",
    "           7.653824090957642, 7.848424673080444])"
   ]
  },
  {
   "cell_type": "code",
   "execution_count": 25,
   "metadata": {},
   "outputs": [],
   "source": [
    "t500 = sum([10.082895278930664, 12.100428819656372, 13.046036005020142, 14.402191400527954,\n",
    "        15.6648850440979, 16.35658311843872, 17.50118899345398, 17.883357524871826,\n",
    "           18.63050651550293, 20.270562171936035, 20.789804935455322, 19.97312569618225,\n",
    "           20.544463872909546, 21.25261878967285, 22.130426168441772, 23.057908535003662,\n",
    "           23.214065551757812, 23.728009700775146])"
   ]
  },
  {
   "cell_type": "code",
   "execution_count": 33,
   "metadata": {},
   "outputs": [
    {
     "data": {
      "image/png": "[encoded data removed]",
      "text/plain": [
       "<matplotlib.figure.Figure at 0x7ff4ca959a90>"
      ]
     },
     "metadata": {},
     "output_type": "display_data"
    }
   ],
   "source": [
    "y = [t100, t200, t500]\n",
    "x = [1,2,3]\n",
    "\n",
    "plt.xticks(np.arange(4),('0','100','200','500'))\n",
    "plt.bar(x,y,width=0.4)\n",
    "plt.show()"
   ]
  },
  {
   "cell_type": "code",
   "execution_count": null,
   "metadata": {},
   "outputs": [],
   "source": []
  }
 ],
 "metadata": {
  "kernelspec": {
   "display_name": "Python 3",
   "language": "python",
   "name": "python3"
  },
  "language_info": {
   "codemirror_mode": {
    "name": "ipython",
    "version": 3
   },
   "file_extension": ".py",
   "mimetype": "text/x-python",
   "name": "python",
   "nbconvert_exporter": "python",
   "pygments_lexer": "ipython3",
   "version": "3.6.4"
  }
 },
 "nbformat": 4,
 "nbformat_minor": 2
}
